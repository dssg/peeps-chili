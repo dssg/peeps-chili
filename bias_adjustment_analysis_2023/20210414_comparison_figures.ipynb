{
 "cells": [
  {
   "cell_type": "code",
   "execution_count": 31,
   "metadata": {},
   "outputs": [],
   "source": [
    "import os\n",
    "import yaml\n",
    "import pandas as pd\n",
    "import numpy as np\n",
    "import sqlalchemy\n",
    "\n",
    "import seaborn as sns\n",
    "import matplotlib.pyplot as plt\n",
    "\n",
    "from IPython.display import display \n",
    "pd.options.display.max_columns = None\n",
    "%matplotlib inline"
   ]
  },
  {
   "cell_type": "code",
   "execution_count": 2,
   "metadata": {},
   "outputs": [],
   "source": [
    "with open('db_default_profile.yaml') as fd:\n",
    "    config = yaml.load(fd)\n",
    "    dburl = sqlalchemy.engine.url.URL(\n",
    "        \"postgres\",\n",
    "        host=config[\"host\"],\n",
    "        username=config[\"user\"],\n",
    "        database='johnson_county_ddj',\n",
    "        password=config[\"pass\"],\n",
    "        port=config[\"port\"],\n",
    "    )\n",
    "    engine_joco = sqlalchemy.create_engine(dburl, poolclass=sqlalchemy.pool.QueuePool)"
   ]
  },
  {
   "cell_type": "code",
   "execution_count": 3,
   "metadata": {},
   "outputs": [],
   "source": [
    "joco_sql = \"\"\"\n",
    "WITH mg_rns AS (\n",
    "  SELECT *,\n",
    "         row_number() OVER (PARTITION BY train_end_time, list_size, metric, parameter ORDER BY base_value DESC, base_max_recall_ratio ASC, RANDOM()) AS rn_base,\n",
    "         row_number() OVER (PARTITION BY train_end_time, list_size, metric, parameter ORDER BY adj_value DESC, adj_max_recall_ratio ASC, RANDOM()) AS rn_adj\n",
    "  FROM kit_bias_class_figs.model_adjustment_results_race_2way\n",
    "  WHERE past_train_end_time = train_end_time\n",
    ")\n",
    ", base_mgs AS (\n",
    "  SELECT * FROM mg_rns WHERE rn_base = 1\n",
    ")\n",
    ", adj_mgs AS (\n",
    "  SELECT * FROM mg_rns WHERE rn_adj = 1\n",
    ")\n",
    "-- Simple model selection on last time period, baseline with no recall adjustments\n",
    "SELECT 'Best Unadjusted Metric - Unadjusted'::VARCHAR(128) AS strategy,\n",
    "       r.train_end_time, r.past_train_end_time,\n",
    "       r.list_size, r.metric, r.parameter,\n",
    "       r.base_value AS value,\n",
    "       r.base_max_recall_ratio AS max_recall_ratio,\n",
    "       r.base_recall_white_to_nonwhite AS recall_white_to_nonwhite,\n",
    "       r.base_frac_white AS frac_white,\n",
    "       r.base_frac_nonwhite AS frac_nonwhite\n",
    "FROM kit_bias_class_figs.model_adjustment_results_race_2way r\n",
    "JOIN base_mgs b\n",
    "  ON r.model_group_id = b.model_group_id\n",
    "  AND r.past_train_end_time = b.train_end_time\n",
    "  AND r.list_size = b.list_size\n",
    "  AND r.metric = b.metric\n",
    "  AND r.parameter = b.parameter\n",
    "WHERE r.train_end_time > r.past_train_end_time\n",
    "\n",
    "UNION ALL\n",
    "\n",
    "-- Model selection on last time before adjustment, with adjustment applied\n",
    "SELECT 'Best Unadjusted Metric - Adjusted'::VARCHAR(128) AS strategy,\n",
    "       r.train_end_time, r.past_train_end_time,\n",
    "       r.list_size, r.metric, r.parameter,\n",
    "       r.adj_value AS value,\n",
    "       r.adj_max_recall_ratio AS max_recall_ratio,\n",
    "       r.adj_recall_white_to_nonwhite AS recall_white_to_nonwhite,\n",
    "       r.adj_frac_white AS frac_white,\n",
    "       r.adj_frac_nonwhite AS frac_nonwhite\n",
    "FROM kit_bias_class_figs.model_adjustment_results_race_2way r\n",
    "JOIN base_mgs b\n",
    "  ON r.model_group_id = b.model_group_id\n",
    "  AND r.past_train_end_time = b.train_end_time\n",
    "  AND r.list_size = b.list_size\n",
    "  AND r.metric = b.metric\n",
    "  AND r.parameter = b.parameter\n",
    "WHERE r.train_end_time > r.past_train_end_time\n",
    "\n",
    "UNION ALL\n",
    "\n",
    "-- Model selection on last time after adjustment, with adjustment applied\n",
    "SELECT 'Best Adjusted Metric - Adjusted'::VARCHAR(128) AS strategy,\n",
    "       r.train_end_time, r.past_train_end_time,\n",
    "       r.list_size, r.metric, r.parameter,\n",
    "       r.adj_value AS value,\n",
    "       r.adj_max_recall_ratio AS max_recall_ratio,\n",
    "       r.adj_recall_white_to_nonwhite AS recall_white_to_nonwhite,\n",
    "       r.adj_frac_white AS frac_white,\n",
    "       r.adj_frac_nonwhite AS frac_nonwhite\n",
    "FROM kit_bias_class_figs.model_adjustment_results_race_2way r\n",
    "JOIN adj_mgs b\n",
    "  ON r.model_group_id = b.model_group_id\n",
    "  AND r.past_train_end_time = b.train_end_time\n",
    "  AND r.list_size = b.list_size\n",
    "  AND r.metric = b.metric\n",
    "  AND r.parameter = b.parameter\n",
    "WHERE r.train_end_time > r.past_train_end_time\n",
    "\n",
    "UNION ALL\n",
    "\n",
    "-- Composite model\n",
    "SELECT 'Composite Model - Adjusted'::VARCHAR(128) AS strategy,\n",
    "      train_end_time, past_train_end_time,\n",
    "      list_size, metric, parameter,\n",
    "      value,\n",
    "      max_recall_ratio,\n",
    "      recall_white_to_nonwhite,\n",
    "      frac_white,\n",
    "      frac_nonwhite\n",
    "FROM kit_bias_class_figs.composite_results_race_2way\n",
    "WHERE train_end_time > past_train_end_time\n",
    ";\n",
    "\"\"\""
   ]
  },
  {
   "cell_type": "code",
   "execution_count": 6,
   "metadata": {},
   "outputs": [],
   "source": [
    "joco_df3 = pd.read_sql(joco_sql, engine_joco)"
   ]
  },
  {
   "cell_type": "code",
   "execution_count": 8,
   "metadata": {},
   "outputs": [],
   "source": [
    "joco_df3.to_csv('joco_race_2way_bias.csv', index=False)"
   ]
  },
  {
   "cell_type": "code",
   "execution_count": 9,
   "metadata": {},
   "outputs": [],
   "source": [
    "joco_df3['dataset'] = 'joco'\n",
    "joco_df3 = joco_df3.rename(\n",
    "    {'recall_white_to_nonwhite': 'recall_disp', \n",
    "     'frac_white': 'frac_grp1', \n",
    "     'frac_nonwhite': 'frac_grp2'\n",
    "    }, axis='columns')"
   ]
  },
  {
   "cell_type": "code",
   "execution_count": 16,
   "metadata": {},
   "outputs": [],
   "source": [
    "joco_df3['strategy'] = joco_df3['strategy'].map({\n",
    "    'Best Unadjusted Metric - Unadjusted': 'Unmitigated', \n",
    "    'Best Adjusted Metric - Adjusted': 'Mitigated - Single Model', \n",
    "    'Composite Model - Adjusted': 'Mitigated - Composite Model',\n",
    "    'Best Unadjusted Metric - Adjusted': 'Mitigated - Unadj. Model Seln.'\n",
    "})"
   ]
  },
  {
   "cell_type": "code",
   "execution_count": 10,
   "metadata": {},
   "outputs": [
    {
     "data": {
      "text/plain": [
       "Index(['strategy', 'train_end_time', 'past_train_end_time', 'list_size',\n",
       "       'metric', 'parameter', 'value', 'max_recall_ratio', 'recall_disp',\n",
       "       'frac_grp1', 'frac_grp2', 'dataset'],\n",
       "      dtype='object')"
      ]
     },
     "execution_count": 10,
     "metadata": {},
     "output_type": "execute_result"
    }
   ],
   "source": [
    "joco_df3.columns"
   ]
  },
  {
   "cell_type": "code",
   "execution_count": null,
   "metadata": {},
   "outputs": [],
   "source": []
  },
  {
   "cell_type": "code",
   "execution_count": null,
   "metadata": {},
   "outputs": [],
   "source": []
  },
  {
   "cell_type": "code",
   "execution_count": 11,
   "metadata": {},
   "outputs": [],
   "source": [
    "sj_exp_df = pd.read_csv('/mnt/data/users/kit/sj/san_jose_housing/triage4/sj_figs_20200531_exp_df.csv')\n",
    "sj_exp_df['train_end_time'] = pd.to_datetime(sj_exp_df['train_end_time'])\n",
    "sj_exp_df['strategy'] = sj_exp_df['strategy'].map({\n",
    "    'Best Unadjusted Metric - Unadjusted': 'Unmitigated', \n",
    "    'Best Adjusted Metric - Adjusted': 'Mitigated - Single Model', \n",
    "    'Composite Model - Adjusted': 'Mitigated - Composite Model',\n",
    "    'Best Unadjusted Metric - Adjusted': 'Mitigated - Unadj. Model Seln.'\n",
    "})"
   ]
  },
  {
   "cell_type": "code",
   "execution_count": null,
   "metadata": {},
   "outputs": [],
   "source": []
  },
  {
   "cell_type": "code",
   "execution_count": null,
   "metadata": {},
   "outputs": [],
   "source": []
  },
  {
   "cell_type": "code",
   "execution_count": 27,
   "metadata": {},
   "outputs": [],
   "source": [
    "dc_df = pd.read_csv('/mnt/data/users/kit/joco/misc_notebooks/donors_povery_2way_bias.csv')\n",
    "dc_df = dc_df.rename(\n",
    "    {'recall_not_highest_to_highest': 'recall_disp', \n",
    "     'frac_not_highest': 'frac_grp1', \n",
    "     'frac_highest': 'frac_grp2'\n",
    "    }, axis='columns')\n",
    "dc_df = dc_df.loc[(dc_df['train_end_time'] >= '2011-07-01') & (dc_df['list_size'] == 1000),]\n",
    "dc_df['train_end_time'] = pd.to_datetime(dc_df['train_end_time'])\n",
    "dc_df['dataset'] = 'donors_choose'"
   ]
  },
  {
   "cell_type": "code",
   "execution_count": null,
   "metadata": {},
   "outputs": [],
   "source": []
  },
  {
   "cell_type": "code",
   "execution_count": null,
   "metadata": {},
   "outputs": [],
   "source": []
  },
  {
   "cell_type": "code",
   "execution_count": null,
   "metadata": {},
   "outputs": [],
   "source": []
  },
  {
   "cell_type": "code",
   "execution_count": 32,
   "metadata": {},
   "outputs": [],
   "source": [
    "mined_df = pd.read_csv('/mnt/data/users/kit/joco/misc_notebooks/ElSal_10K_Overage.csv', sep='\\t', index_col=0)\n",
    "\n",
    "mined_df = mined_df.rename(\n",
    "    {'recall_1_to_0': 'recall_disp', \n",
    "     'frac_1': 'frac_grp1', \n",
    "     'frac_0': 'frac_grp2'\n",
    "    }, axis='columns')\n",
    "\n",
    "# group fractions are missing?\n",
    "mined_df['dataset'] = 'el_salvador'\n",
    "mined_df['frac_grp1'] = np.nan\n",
    "mined_df['frac_grp2'] = np.nan\n",
    "\n",
    "mined_df = mined_df[sj_exp_df.columns]\n",
    "\n",
    "# exclude 2011 datapoint based on selection from 2010 models with no features!\n",
    "mined_df = mined_df.loc[(mined_df['train_end_time'] > '2011-01-01'),]\n",
    "\n",
    "mined_df['train_end_time'] = pd.to_datetime(mined_df['train_end_time'])\n",
    "\n",
    "mined_df['strategy'] = mined_df['strategy'].map({\n",
    "    'Best Unadjusted Metric - Unadjusted': 'Unmitigated', \n",
    "    'Best Adjusted Metric - Adjusted': 'Mitigated - Single Model', \n",
    "    'Composite Model - Adjusted': 'Mitigated - Composite Model',\n",
    "    'Best Unadjusted Metric - Adjusted': 'Mitigated - Unadj. Model Seln.'\n",
    "})"
   ]
  },
  {
   "cell_type": "code",
   "execution_count": 33,
   "metadata": {},
   "outputs": [
    {
     "data": {
      "text/plain": [
       "Index(['strategy', 'train_end_time', 'past_train_end_time', 'list_size',\n",
       "       'metric', 'parameter', 'value', 'max_recall_ratio', 'recall_disp',\n",
       "       'frac_grp1', 'frac_grp2', 'dataset'],\n",
       "      dtype='object')"
      ]
     },
     "execution_count": 33,
     "metadata": {},
     "output_type": "execute_result"
    }
   ],
   "source": [
    "mined_df.columns"
   ]
  },
  {
   "cell_type": "code",
   "execution_count": null,
   "metadata": {},
   "outputs": [],
   "source": []
  },
  {
   "cell_type": "code",
   "execution_count": null,
   "metadata": {},
   "outputs": [],
   "source": []
  },
  {
   "cell_type": "code",
   "execution_count": null,
   "metadata": {},
   "outputs": [],
   "source": []
  },
  {
   "cell_type": "code",
   "execution_count": 34,
   "metadata": {},
   "outputs": [
    {
     "data": {
      "text/plain": [
       "array(['Unmitigated', 'Mitigated - Unadj. Model Seln.',\n",
       "       'Mitigated - Single Model', 'Mitigated - Composite Model'],\n",
       "      dtype=object)"
      ]
     },
     "execution_count": 34,
     "metadata": {},
     "output_type": "execute_result"
    }
   ],
   "source": [
    "comp_df = pd.concat([joco_df3, sj_exp_df, dc_df, mined_df])\n",
    "\n",
    "comp_df['dataset'] = comp_df['dataset'].map({\n",
    "    'donors_choose': 'Education Crowdfunding', \n",
    "    'joco': 'Inmate Mental Health', \n",
    "    'san_jose': 'Housing Safety',\n",
    "    'el_salvador': 'Student Outcomes'\n",
    "})\n",
    "\n",
    "comp_df = comp_df.sort_values(['dataset'])\n",
    "\n",
    "comp_df['strategy'].unique()"
   ]
  },
  {
   "cell_type": "code",
   "execution_count": null,
   "metadata": {},
   "outputs": [],
   "source": []
  },
  {
   "cell_type": "code",
   "execution_count": null,
   "metadata": {},
   "outputs": [],
   "source": []
  },
  {
   "cell_type": "code",
   "execution_count": null,
   "metadata": {},
   "outputs": [],
   "source": []
  },
  {
   "cell_type": "code",
   "execution_count": 35,
   "metadata": {},
   "outputs": [
    {
     "data": {
      "image/png": "[encoded data removed]",
      "text/plain": [
       "<matplotlib.figure.Figure at 0x7fa431990400>"
      ]
     },
     "metadata": {
      "needs_background": "light"
     },
     "output_type": "display_data"
    }
   ],
   "source": [
    "sty_ord = [\n",
    "    'Mitigated - Single Model', \n",
    "    'Mitigated - Composite Model',\n",
    "    'Mitigated - Unadj. Model Seln.',\n",
    "    'Unmitigated'\n",
    "]\n",
    "\n",
    "fig, ax = plt.subplots(figsize=(9,8))\n",
    "sns.lineplot(data=comp_df.groupby(['dataset', 'strategy'])[['value', 'recall_disp']].mean().reset_index(), \n",
    "              x='value', y='recall_disp', \n",
    "              hue='dataset', \n",
    "#              marker=\"o\", \n",
    "              style='strategy',\n",
    "              style_order=sty_ord,\n",
    "#              markers=True,\n",
    "#              markers=['$A1$', '$A2$', '$U$', '$A3$'],\n",
    "#              markers=['$A1$', '$A2$', cut_star, '$A3$'],\n",
    "              markers=['X', 'o', 'P', 's'],\n",
    "#              color='dodgerblue',\n",
    "              markersize=10,\n",
    "#               fillstyle='full',\n",
    "#               markeredgecolor='black',\n",
    "#               markeredgewidth=1.0,\n",
    "              dashes=None,\n",
    "              ci=None,\n",
    "              ax=ax)\n",
    "\n",
    "\n",
    "for i, ds in enumerate(comp_df['dataset'].unique()):\n",
    "    tmp_df = comp_df.loc[comp_df['dataset'] == ds, ].copy()\n",
    "    \n",
    "    x_coords = list(tmp_df.groupby(['dataset', 'strategy'])[['value', 'recall_disp']].mean().reset_index()['value'].values)\n",
    "    y_coords = list(tmp_df.groupby(['dataset', 'strategy'])[['value', 'recall_disp']].mean().reset_index()['recall_disp'].values)\n",
    "\n",
    "    prec_errors = 1.96*tmp_df.groupby(['dataset', 'strategy'])['value'].sem().values\n",
    "    disp_errors = 1.96*tmp_df.groupby(['dataset', 'strategy'])['recall_disp'].sem().values\n",
    "    colors = sns.color_palette().as_hex()[i]\n",
    "    ax.errorbar(x_coords, y_coords, \n",
    "                xerr=prec_errors, \n",
    "                yerr=disp_errors,\n",
    "        ecolor=colors, \n",
    "        fmt=' ', zorder=-1, capsize=5)\n",
    "\n",
    "\n",
    "ax.set_xlim((0.45,0.82))\n",
    "ax.set_ylim((0.7,4.75))\n",
    "\n",
    "ax.set_ylabel('Recall Disparity', fontsize=16)\n",
    "ax.set_xlabel('Precision at Top k', fontsize=16)\n",
    "\n",
    "ax.tick_params(axis='x', labelsize=16)\n",
    "ax.tick_params(axis='y', labelsize=16)\n",
    "\n",
    "\n",
    "handles, labels = ax.get_legend_handles_labels()\n",
    "hhandles = []\n",
    "llabels = []\n",
    "for i, lab in enumerate(labels):\n",
    "    if lab not in list(comp_df['dataset'].unique()) + ['dataset', 'strategy']:\n",
    "        handles[i].set_linestyle(\"\")\n",
    "    hhandles.append(handles[i])\n",
    "    llabels.append(lab)\n",
    "# ax.legend(hhandles, llabels, fontsize=16, bbox_to_anchor=(1.05, 1), loc=2, borderaxespad=0., markerscale=2)\n",
    "ax.legend(hhandles, llabels, fontsize=16, markerscale=2)\n",
    "\n",
    "# ax.plot((0,1),(1,1),'k-', zorder=0)\n",
    "\n",
    "fig.tight_layout()"
   ]
  },
  {
   "cell_type": "code",
   "execution_count": 36,
   "metadata": {},
   "outputs": [
    {
     "data": {
      "image/png": "[encoded data removed]",
      "text/plain": [
       "<matplotlib.figure.Figure at 0x7fa4303f90b8>"
      ]
     },
     "metadata": {
      "needs_background": "light"
     },
     "output_type": "display_data"
    }
   ],
   "source": [
    "sty_ord = [\n",
    "    'Mitigated - Single Model', \n",
    "    'Mitigated - Composite Model',\n",
    "    'Unmitigated'\n",
    "]\n",
    "\n",
    "fig, ax = plt.subplots(figsize=(9,8))\n",
    "sns.lineplot(data=comp_df.loc[comp_df['strategy'] != 'Mitigated - Unadj. Model Seln.', ].groupby(['dataset', 'strategy'])[['value', 'recall_disp']].mean().reset_index(), \n",
    "              x='value', y='recall_disp', \n",
    "              hue='dataset', \n",
    "#              marker=\"o\", \n",
    "              style='strategy',\n",
    "              style_order=sty_ord,\n",
    "#              markers=True,\n",
    "#              markers=['$A1$', '$A2$', '$U$', '$A3$'],\n",
    "#              markers=['$A1$', '$A2$', cut_star, '$A3$'],\n",
    "              markers=['X', 'o', 's'],\n",
    "#              color='dodgerblue',\n",
    "              markersize=10,\n",
    "#               fillstyle='full',\n",
    "#               markeredgecolor='black',\n",
    "#               markeredgewidth=1.0,\n",
    "              dashes=None,\n",
    "              ci=None,\n",
    "              ax=ax)\n",
    "\n",
    "\n",
    "for i, ds in enumerate(comp_df['dataset'].unique()):\n",
    "    tmp_df = comp_df.loc[(comp_df['dataset'] == ds) & (comp_df['strategy'] != 'Mitigated - Unadj. Model Seln.'), ].copy()\n",
    "    \n",
    "    x_coords = list(tmp_df.groupby(['dataset', 'strategy'])[['value', 'recall_disp']].mean().reset_index()['value'].values)\n",
    "    y_coords = list(tmp_df.groupby(['dataset', 'strategy'])[['value', 'recall_disp']].mean().reset_index()['recall_disp'].values)\n",
    "\n",
    "    prec_errors = 1.96*tmp_df.groupby(['dataset', 'strategy'])['value'].sem().values\n",
    "    disp_errors = 1.96*tmp_df.groupby(['dataset', 'strategy'])['recall_disp'].sem().values\n",
    "    colors = sns.color_palette().as_hex()[i]\n",
    "    ax.errorbar(x_coords, y_coords, \n",
    "                xerr=prec_errors, \n",
    "                yerr=disp_errors,\n",
    "        ecolor=colors, \n",
    "        fmt=' ', zorder=-1, capsize=5)\n",
    "\n",
    "\n",
    "ax.set_xlim((0.45,0.82))\n",
    "ax.set_ylim((0.7,4.75))\n",
    "\n",
    "ax.set_ylabel('Recall Disparity', fontsize=16)\n",
    "ax.set_xlabel('Precision at Top k', fontsize=16)\n",
    "\n",
    "ax.tick_params(axis='x', labelsize=16)\n",
    "ax.tick_params(axis='y', labelsize=16)\n",
    "\n",
    "\n",
    "handles, labels = ax.get_legend_handles_labels()\n",
    "hhandles = []\n",
    "llabels = []\n",
    "for i, lab in enumerate(labels):\n",
    "    if lab not in list(comp_df['dataset'].unique()) + ['dataset', 'strategy']:\n",
    "        handles[i].set_linestyle(\"\")\n",
    "    hhandles.append(handles[i])\n",
    "    llabels.append(lab)\n",
    "# ax.legend(hhandles, llabels, fontsize=16, bbox_to_anchor=(1.05, 1), loc=2, borderaxespad=0., markerscale=2)\n",
    "ax.legend(hhandles, llabels, fontsize=16, markerscale=2)\n",
    "\n",
    "# ax.plot((0,1),(1,1),'k-', zorder=0)\n",
    "\n",
    "fig.tight_layout()"
   ]
  },
  {
   "cell_type": "code",
   "execution_count": 80,
   "metadata": {},
   "outputs": [
    {
     "data": {
      "image/png": "[encoded data removed]",
      "text/plain": [
       "<matplotlib.figure.Figure at 0x7fa4301a47b8>"
      ]
     },
     "metadata": {
      "needs_background": "light"
     },
     "output_type": "display_data"
    }
   ],
   "source": [
    "# Experimenting with adding the \"U\" characters via matplotlib rather than afterwards -- it still looks a little\n",
    "# off and would need to find the right location for the one in the legend through trial and error, but this\n",
    "# might be a decent option if we need a higher-resoluation image for publication?\n",
    "\n",
    "\n",
    "sty_ord = [\n",
    "    'Mitigated - Single Model', \n",
    "    'Mitigated - Composite Model',\n",
    "    'Unmitigated'\n",
    "]\n",
    "\n",
    "fig, ax = plt.subplots(figsize=(9,8))\n",
    "sns.lineplot(data=comp_df.loc[comp_df['strategy'] != 'Mitigated - Unadj. Model Seln.', ].groupby(['dataset', 'strategy'])[['value', 'recall_disp']].mean().reset_index(), \n",
    "              x='value', y='recall_disp', \n",
    "              hue='dataset', \n",
    "#              marker=\"o\", \n",
    "              style='strategy',\n",
    "              style_order=sty_ord,\n",
    "#              markers=True,\n",
    "#              markers=['$A1$', '$A2$', '$U$', '$A3$'],\n",
    "#              markers=['$A1$', '$A2$', cut_star, '$A3$'],\n",
    "              markers=['X', 'o', 's'],\n",
    "#              color='dodgerblue',\n",
    "              markersize=10,\n",
    "#               fillstyle='full',\n",
    "#               markeredgecolor='black',\n",
    "#               markeredgewidth=1.0,\n",
    "              dashes=None,\n",
    "              ci=None,\n",
    "              ax=ax)\n",
    "\n",
    "\n",
    "for i, ds in enumerate(comp_df['dataset'].unique()):\n",
    "    tmp_df = comp_df.loc[(comp_df['dataset'] == ds) & (comp_df['strategy'] != 'Mitigated - Unadj. Model Seln.'), ].copy()\n",
    "    \n",
    "    x_coords = list(tmp_df.groupby(['dataset', 'strategy'])[['value', 'recall_disp']].mean().reset_index()['value'].values)\n",
    "    y_coords = list(tmp_df.groupby(['dataset', 'strategy'])[['value', 'recall_disp']].mean().reset_index()['recall_disp'].values)\n",
    "\n",
    "    prec_errors = 1.96*tmp_df.groupby(['dataset', 'strategy'])['value'].sem().values\n",
    "    disp_errors = 1.96*tmp_df.groupby(['dataset', 'strategy'])['recall_disp'].sem().values\n",
    "    colors = sns.color_palette().as_hex()[i]\n",
    "    ax.errorbar(x_coords, y_coords, \n",
    "                xerr=prec_errors, \n",
    "                yerr=disp_errors,\n",
    "        ecolor=colors, \n",
    "        fmt=' ', zorder=-1, capsize=5)\n",
    "\n",
    "    x_unmitigated = tmp_df.loc[(tmp_df['strategy'] == 'Unmitigated'), ].groupby('dataset')['value'].mean().reset_index()['value'].values\n",
    "    y_unmitigated = tmp_df.loc[(tmp_df['strategy'] == 'Unmitigated'), ].groupby('dataset')['recall_disp'].mean().reset_index()['recall_disp'].values\n",
    "    ax.text(x_unmitigated, y_unmitigated, 'U', fontsize=14, color='white', \n",
    "        ha='center', va='center', weight='black',\n",
    "        bbox=dict(facecolor=colors, edgecolor='none', pad=2))\n",
    "\n",
    "ax.set_xlim((0.45,0.82))\n",
    "ax.set_ylim((0.7,4.75))\n",
    "\n",
    "ax.set_ylabel('Recall Disparity', fontsize=16)\n",
    "ax.set_xlabel('Precision at Top k', fontsize=16)\n",
    "\n",
    "ax.tick_params(axis='x', labelsize=16)\n",
    "ax.tick_params(axis='y', labelsize=16)\n",
    "\n",
    "handles, labels = ax.get_legend_handles_labels()\n",
    "hhandles = []\n",
    "llabels = []\n",
    "for i, lab in enumerate(labels):\n",
    "    if lab not in list(comp_df['dataset'].unique()) + ['dataset', 'strategy']:\n",
    "        handles[i].set_linestyle(\"\")\n",
    "    hhandles.append(handles[i])\n",
    "    llabels.append(lab)\n",
    "# ax.legend(hhandles, llabels, fontsize=16, bbox_to_anchor=(1.05, 1), loc=2, borderaxespad=0., markerscale=2)\n",
    "ax.legend(hhandles, llabels, fontsize=16, markerscale=2)\n",
    "\n",
    "# ax.plot((0,1),(1,1),'k-', zorder=0)\n",
    "\n",
    "fig.tight_layout()"
   ]
  },
  {
   "cell_type": "code",
   "execution_count": 45,
   "metadata": {},
   "outputs": [
    {
     "data": {
      "text/html": [
       "<div>\n",
       "<style scoped>\n",
       "    .dataframe tbody tr th:only-of-type {\n",
       "        vertical-align: middle;\n",
       "    }\n",
       "\n",
       "    .dataframe tbody tr th {\n",
       "        vertical-align: top;\n",
       "    }\n",
       "\n",
       "    .dataframe thead th {\n",
       "        text-align: right;\n",
       "    }\n",
       "</style>\n",
       "<table border=\"1\" class=\"dataframe\">\n",
       "  <thead>\n",
       "    <tr style=\"text-align: right;\">\n",
       "      <th></th>\n",
       "      <th>list_size</th>\n",
       "      <th>value</th>\n",
       "      <th>max_recall_ratio</th>\n",
       "      <th>recall_disp</th>\n",
       "      <th>frac_grp1</th>\n",
       "      <th>frac_grp2</th>\n",
       "    </tr>\n",
       "    <tr>\n",
       "      <th>dataset</th>\n",
       "      <th></th>\n",
       "      <th></th>\n",
       "      <th></th>\n",
       "      <th></th>\n",
       "      <th></th>\n",
       "      <th></th>\n",
       "    </tr>\n",
       "  </thead>\n",
       "  <tbody>\n",
       "    <tr>\n",
       "      <th>Education Crowdfunding</th>\n",
       "      <td>1000</td>\n",
       "      <td>0.542000</td>\n",
       "      <td>1.624607</td>\n",
       "      <td>1.624607</td>\n",
       "      <td>0.606100</td>\n",
       "      <td>0.393900</td>\n",
       "    </tr>\n",
       "    <tr>\n",
       "      <th>Housing Safety</th>\n",
       "      <td>500</td>\n",
       "      <td>0.788578</td>\n",
       "      <td>1.744514</td>\n",
       "      <td>1.744514</td>\n",
       "      <td>0.633714</td>\n",
       "      <td>0.366286</td>\n",
       "    </tr>\n",
       "    <tr>\n",
       "      <th>Inmate Mental Health</th>\n",
       "      <td>500</td>\n",
       "      <td>0.553068</td>\n",
       "      <td>1.486855</td>\n",
       "      <td>1.486855</td>\n",
       "      <td>0.709765</td>\n",
       "      <td>0.290000</td>\n",
       "    </tr>\n",
       "    <tr>\n",
       "      <th>Student Outcomes</th>\n",
       "      <td>10000</td>\n",
       "      <td>0.498122</td>\n",
       "      <td>3.566395</td>\n",
       "      <td>3.566395</td>\n",
       "      <td>NaN</td>\n",
       "      <td>NaN</td>\n",
       "    </tr>\n",
       "  </tbody>\n",
       "</table>\n",
       "</div>"
      ],
      "text/plain": [
       "                        list_size     value  max_recall_ratio  recall_disp  \\\n",
       "dataset                                                                      \n",
       "Education Crowdfunding       1000  0.542000          1.624607     1.624607   \n",
       "Housing Safety                500  0.788578          1.744514     1.744514   \n",
       "Inmate Mental Health          500  0.553068          1.486855     1.486855   \n",
       "Student Outcomes            10000  0.498122          3.566395     3.566395   \n",
       "\n",
       "                        frac_grp1  frac_grp2  \n",
       "dataset                                       \n",
       "Education Crowdfunding   0.606100   0.393900  \n",
       "Housing Safety           0.633714   0.366286  \n",
       "Inmate Mental Health     0.709765   0.290000  \n",
       "Student Outcomes              NaN        NaN  "
      ]
     },
     "execution_count": 45,
     "metadata": {},
     "output_type": "execute_result"
    }
   ],
   "source": [
    "comp_df.loc[(comp_df['strategy'] == 'Unmitigated'), ].groupby('dataset').mean()"
   ]
  },
  {
   "cell_type": "code",
   "execution_count": 114,
   "metadata": {},
   "outputs": [],
   "source": [
    "from scipy.stats import ttest_ind"
   ]
  },
  {
   "cell_type": "code",
   "execution_count": 84,
   "metadata": {},
   "outputs": [],
   "source": [
    "df_orig = comp_df.loc[(comp_df['dataset'] == 'Housing Safety') & (comp_df['strategy'] == 'Unmitigated'), ['value']]\n",
    "df_corr = comp_df.loc[(comp_df['dataset'] == 'Housing Safety') & (comp_df['strategy'] == 'Mitigated - Single Model'), ['value']]"
   ]
  },
  {
   "cell_type": "code",
   "execution_count": 85,
   "metadata": {},
   "outputs": [
    {
     "data": {
      "text/plain": [
       "Ttest_indResult(statistic=-0.8005879229486914, pvalue=0.43062543663176145)"
      ]
     },
     "execution_count": 85,
     "metadata": {},
     "output_type": "execute_result"
    }
   ],
   "source": [
    "ttest_ind(df_orig['value'], df_corr['value'])"
   ]
  },
  {
   "cell_type": "code",
   "execution_count": 116,
   "metadata": {},
   "outputs": [
    {
     "name": "stdout",
     "output_type": "stream",
     "text": [
      "Education Crowdfunding\n",
      "Ttest_indResult(statistic=0.21710200848563305, pvalue=0.8305706302833114)\n",
      "Housing Safety\n",
      "Ttest_indResult(statistic=-0.7364126687269733, pvalue=0.4721396326511358)\n",
      "Inmate Mental Health\n",
      "Ttest_indResult(statistic=0.20745153049357476, pvalue=0.8379861699357891)\n",
      "Student Outcomes\n",
      "Ttest_indResult(statistic=0.38426703004692686, pvalue=0.710793190268381)\n"
     ]
    }
   ],
   "source": [
    "# 2-sided t-test for the unmitigated vs mitigated - single model precisions\n",
    "\n",
    "for i, ds in enumerate(comp_df['dataset'].unique()):\n",
    "    print(ds)\n",
    "    df_orig = comp_df.loc[(comp_df['dataset'] == ds) & (comp_df['strategy'] == 'Unmitigated'), ['train_end_time', 'value']].sort_values('train_end_time').groupby('train_end_time')['value'].mean().to_frame()\n",
    "    df_corr = comp_df.loc[(comp_df['dataset'] == ds) & (comp_df['strategy'] == 'Mitigated - Single Model'), ['train_end_time', 'value']].sort_values('train_end_time').groupby('train_end_time')['value'].mean().to_frame()\n",
    "    print(ttest_ind(df_orig['value'], df_corr['value']))\n"
   ]
  },
  {
   "cell_type": "code",
   "execution_count": 117,
   "metadata": {},
   "outputs": [
    {
     "name": "stdout",
     "output_type": "stream",
     "text": [
      "Education Crowdfunding\n",
      "Ttest_indResult(statistic=0.152969017589323, pvalue=0.8801244566281576)\n",
      "Housing Safety\n",
      "Ttest_indResult(statistic=-0.535639242339626, pvalue=0.5995752521137514)\n",
      "Inmate Mental Health\n",
      "Ttest_indResult(statistic=1.3665716092375249, pvalue=0.18858842167810227)\n",
      "Student Outcomes\n",
      "Ttest_indResult(statistic=0.3624135481137994, pvalue=0.7264303986179541)\n"
     ]
    }
   ],
   "source": [
    "# 2-sided t-test for the unmitigated vs mitigated - composite precisions\n",
    "\n",
    "for i, ds in enumerate(comp_df['dataset'].unique()):\n",
    "    print(ds)\n",
    "    df_orig = comp_df.loc[(comp_df['dataset'] == ds) & (comp_df['strategy'] == 'Unmitigated'), ['train_end_time', 'value']].sort_values('train_end_time').groupby('train_end_time')['value'].mean().to_frame()\n",
    "    df_corr = comp_df.loc[(comp_df['dataset'] == ds) & (comp_df['strategy'] == 'Mitigated - Composite Model'), ['train_end_time', 'value']].sort_values('train_end_time').groupby('train_end_time')['value'].mean().to_frame()\n",
    "    print(ttest_ind(df_orig['value'], df_corr['value']))"
   ]
  },
  {
   "cell_type": "code",
   "execution_count": 118,
   "metadata": {},
   "outputs": [
    {
     "data": {
      "text/html": [
       "<div>\n",
       "<style scoped>\n",
       "    .dataframe tbody tr th:only-of-type {\n",
       "        vertical-align: middle;\n",
       "    }\n",
       "\n",
       "    .dataframe tbody tr th {\n",
       "        vertical-align: top;\n",
       "    }\n",
       "\n",
       "    .dataframe thead th {\n",
       "        text-align: right;\n",
       "    }\n",
       "</style>\n",
       "<table border=\"1\" class=\"dataframe\">\n",
       "  <thead>\n",
       "    <tr style=\"text-align: right;\">\n",
       "      <th></th>\n",
       "      <th>value</th>\n",
       "    </tr>\n",
       "    <tr>\n",
       "      <th>dataset</th>\n",
       "      <th></th>\n",
       "    </tr>\n",
       "  </thead>\n",
       "  <tbody>\n",
       "    <tr>\n",
       "      <th>Education Crowdfunding</th>\n",
       "      <td>0.542000</td>\n",
       "    </tr>\n",
       "    <tr>\n",
       "      <th>Housing Safety</th>\n",
       "      <td>0.788578</td>\n",
       "    </tr>\n",
       "    <tr>\n",
       "      <th>Inmate Mental Health</th>\n",
       "      <td>0.553068</td>\n",
       "    </tr>\n",
       "    <tr>\n",
       "      <th>Student Outcomes</th>\n",
       "      <td>0.498122</td>\n",
       "    </tr>\n",
       "  </tbody>\n",
       "</table>\n",
       "</div>"
      ],
      "text/plain": [
       "                           value\n",
       "dataset                         \n",
       "Education Crowdfunding  0.542000\n",
       "Housing Safety          0.788578\n",
       "Inmate Mental Health    0.553068\n",
       "Student Outcomes        0.498122"
      ]
     },
     "execution_count": 118,
     "metadata": {},
     "output_type": "execute_result"
    }
   ],
   "source": [
    "comp_df.loc[(comp_df['strategy'] == 'Unmitigated'), ['dataset', 'value']].groupby('dataset').mean()"
   ]
  },
  {
   "cell_type": "code",
   "execution_count": 122,
   "metadata": {},
   "outputs": [
    {
     "data": {
      "text/html": [
       "<div>\n",
       "<style scoped>\n",
       "    .dataframe tbody tr th:only-of-type {\n",
       "        vertical-align: middle;\n",
       "    }\n",
       "\n",
       "    .dataframe tbody tr th {\n",
       "        vertical-align: top;\n",
       "    }\n",
       "\n",
       "    .dataframe thead th {\n",
       "        text-align: right;\n",
       "    }\n",
       "</style>\n",
       "<table border=\"1\" class=\"dataframe\">\n",
       "  <thead>\n",
       "    <tr style=\"text-align: right;\">\n",
       "      <th></th>\n",
       "      <th>value</th>\n",
       "    </tr>\n",
       "    <tr>\n",
       "      <th>dataset</th>\n",
       "      <th></th>\n",
       "    </tr>\n",
       "  </thead>\n",
       "  <tbody>\n",
       "    <tr>\n",
       "      <th>Education Crowdfunding</th>\n",
       "      <td>0.540100</td>\n",
       "    </tr>\n",
       "    <tr>\n",
       "      <th>Housing Safety</th>\n",
       "      <td>0.793207</td>\n",
       "    </tr>\n",
       "    <tr>\n",
       "      <th>Inmate Mental Health</th>\n",
       "      <td>0.543800</td>\n",
       "    </tr>\n",
       "    <tr>\n",
       "      <th>Student Outcomes</th>\n",
       "      <td>0.494620</td>\n",
       "    </tr>\n",
       "  </tbody>\n",
       "</table>\n",
       "</div>"
      ],
      "text/plain": [
       "                           value\n",
       "dataset                         \n",
       "Education Crowdfunding  0.540100\n",
       "Housing Safety          0.793207\n",
       "Inmate Mental Health    0.543800\n",
       "Student Outcomes        0.494620"
      ]
     },
     "execution_count": 122,
     "metadata": {},
     "output_type": "execute_result"
    }
   ],
   "source": [
    "comp_df.loc[(comp_df['strategy'] == 'Mitigated - Composite Model'), ['dataset', 'value']].groupby('dataset').mean()"
   ]
  },
  {
   "cell_type": "code",
   "execution_count": null,
   "metadata": {},
   "outputs": [],
   "source": []
  }
 ],
 "metadata": {
  "kernelspec": {
   "display_name": "Python 3",
   "language": "python",
   "name": "python3"
  },
  "language_info": {
   "codemirror_mode": {
    "name": "ipython",
    "version": 3
   },
   "file_extension": ".py",
   "mimetype": "text/x-python",
   "name": "python",
   "nbconvert_exporter": "python",
   "pygments_lexer": "ipython3",
   "version": "3.6.8"
  }
 },
 "nbformat": 4,
 "nbformat_minor": 4
}
