{
 "cells": [
  {
   "cell_type": "markdown",
   "metadata": {},
   "source": [
    "# Replicating Results\n",
    "\n",
    "\n",
    "### What is this?\n",
    "This notebook provides step-by-step instructions for replicating the results for multi-adjustment"
   ]
  },
  {
   "cell_type": "code",
   "execution_count": 1,
   "metadata": {},
   "outputs": [],
   "source": [
    "import pandas as pd\n",
    "import numpy as np\n",
    "import statsmodels.api as sm\n",
    "import statsmodels.formula.api as smf\n",
    "\n",
    "import os\n",
    "import yaml\n",
    "import sqlalchemy\n",
    "\n",
    "import seaborn as sns\n",
    "import matplotlib.pyplot as plt\n",
    "%matplotlib inline\n",
    "pd.options.display.max_columns = None\n",
    "\n",
    "from IPython.display import display \n",
    "from itertools import permutations, combinations\n",
    "from jinja2 import Template\n",
    "import dateparser\n",
    "\n",
    "\n",
    "from ohio.ext.numpy import pg_copy_to_table"
   ]
  },
  {
   "cell_type": "markdown",
   "metadata": {},
   "source": [
    "Specify The Database, demo_col of interest, demo_values of interest and the procedure you wish to use for adjustment"
   ]
  },
  {
   "cell_type": "code",
   "execution_count": 2,
   "metadata": {},
   "outputs": [],
   "source": [
    "database=\"el_salvador_education\""
   ]
  },
  {
   "cell_type": "code",
   "execution_count": 3,
   "metadata": {},
   "outputs": [],
   "source": [
    "working_schema, results_schema = \"bias_analysis_temp\", \"bias_analysis\""
   ]
  },
  {
   "cell_type": "code",
   "execution_count": 4,
   "metadata": {},
   "outputs": [],
   "source": [
    "demo_col = \"ovg\""
   ]
  },
  {
   "cell_type": "code",
   "execution_count": 5,
   "metadata": {},
   "outputs": [],
   "source": [
    "demo_values = [\"1\", \"0\"]"
   ]
  },
  {
   "cell_type": "markdown",
   "metadata": {},
   "source": [
    "## Getting Set Up\n",
    "\n",
    "You will need a database with the following schemas:\n",
    "- **public**: The raw data from donors choose as well as some tables with calculated features and intermediate modeling tables\n",
    "- **model_metadata**: Information about the models we ran, such as model types and hyperparameters (models were run with `triage`, which generates this schema. In `triage` a \"model group\" specifies a type of model and associated hyperparameter values, while a \"model\" is an instantiation of a given model group on a specific temporal validation split). Note that this schema contains information on other model runs with this dataset, in addition to the run used for the current study of fairness-accuracy trade-offs.\n",
    "- **test_results**: Validation set statistics and predictions for the models. Here, `test_results.predictions` contains project-level predicted scores from each model in the grid, while `test_results.evaluations` contains aggregated summary statistics for each model.\n",
    "- **train_results**: Training set statistics for the models, including feature importances.\n",
    "- **features**: Intermediate tables containing calculated features from the `triage` run.\n",
    "- **bias_working**: Intermediate tables from the bias analysis, as well as the mapping table between projects and school poverty levels, `bias_working.entity_demos`.\n",
    "- **bias_results_submitted**: Results of the fairness-accuracy trade-offs from the study as submitted (see below to use these to replicate the figures from the study).\n",
    "- **bias_results**: Empty bias analysis results tables that will be populated by re-running the fairness adjustments (see below for instructions).\n",
    "\n",
    "\n",
    "Finally, to connect to the database, you'll need a yaml file named `db_profile.yaml` in the same directory as this notebook with your connection info:\n",
    "```yaml\n",
    "host: {POSTGRES_HOST}\n",
    "user: {POSTGRES_USER}\n",
    "db: education_crowdfunding\n",
    "pass: {POSTGRES_PASSWORD}\n",
    "port: {POSTGRES_PORT}\n",
    "```\n"
   ]
  },
  {
   "cell_type": "code",
   "execution_count": 6,
   "metadata": {},
   "outputs": [
    {
     "name": "stderr",
     "output_type": "stream",
     "text": [
      "/tmp/ipykernel_7204/127057796.py:3: SADeprecationWarning: Calling URL() directly is deprecated and will be disabled in a future release.  The public constructor for URL is now the URL.create() method.\n",
      "  dburl = sqlalchemy.engine.url.URL(\n"
     ]
    }
   ],
   "source": [
    "with open('../../config/db_default_profile.yaml') as fd:\n",
    "    config = yaml.full_load(fd)\n",
    "    dburl = sqlalchemy.engine.url.URL(\n",
    "        \"postgresql\",\n",
    "        host=config[\"host\"],\n",
    "        username=config[\"user\"],\n",
    "        database=database,\n",
    "        password=config[\"pass\"],\n",
    "        port=config[\"port\"],\n",
    "    )\n",
    "    engine = sqlalchemy.create_engine(dburl, poolclass=sqlalchemy.pool.QueuePool)"
   ]
  },
  {
   "cell_type": "code",
   "execution_count": 7,
   "metadata": {},
   "outputs": [],
   "source": [
    "def get_frac_demos(model_group_id=None, train_end_time=None):\n",
    "    if model_group_id is None and train_end_time is None:\n",
    "        sel_string = \"\"\n",
    "    elif model_group_id is None:\n",
    "        sel_string = f\"and train_end_time = '{train_end_time}'\"\n",
    "    elif train_end_time is None:\n",
    "        sel_string = f\"and model_group_id = {model_group_id}\"\n",
    "    else:\n",
    "        sel_string = f\"and train_end_time = '{train_end_time}' and model_group_id = {model_group_id}\"\n",
    "    sql = f\"\"\"\n",
    "    select model_group_id, train_end_time, weight, count(distinct entity_id) \n",
    "    from {results_schema}.selected_entities se natural join {working_schema}.entity_demos ed\n",
    "    where ed.{plevel} = '{demo_values[0]}' {sel_string}\n",
    "    group by 1, 2, 3 \n",
    "    \"\"\"\n",
    "    ts_df = pd.read_sql(sql, engine)\n",
    "    return ts_df"
   ]
  },
  {
   "cell_type": "code",
   "execution_count": 8,
   "metadata": {},
   "outputs": [],
   "source": [
    "def get_difference_df(weight1, weight2, model_group_id=None, train_end_time=None):\n",
    "    if model_group_id is None and train_end_time is None:\n",
    "        sel_string = f\"\"\n",
    "    elif model_group_id is None:\n",
    "        sel_string = f\"WHERE train_end_time = '{train_end_time}'\"\n",
    "    elif train_end_time is None:\n",
    "        sel_string = f\"WHERE model_group_id = {model_group_id}\"\n",
    "    else:\n",
    "        sel_string = f\"WHERE model_group_id = {model_group_id} and train_end_time = '{train_end_time}'\"\n",
    "    \n",
    "    sql = f\"\"\"\n",
    "        with all_entities as (select model_group_id, train_end_time, weight, entity_id, {demo_col} \n",
    "        from {results_schema}.selected_entities se natural join {working_schema}.entity_demos ed)\n",
    "        , e1 as (select * from all_entities where weight = {weight1})\n",
    "        , e2 as (select * from all_entities where weight = {weight2})\n",
    "        , e3 as (select * from e1 where (model_group_id , train_end_time , entity_id) not in (select model_group_id , train_end_time , entity_id  from e2))\n",
    "        , e4 as (select * from e2 where (model_group_id , train_end_time , entity_id) not in (select model_group_id , train_end_time , entity_id  from e1))\n",
    "        SELECT distinct * from e3 UNION ALL SELECT distinct * FROM e4 {sel_string}\n",
    "        \"\"\"    \n",
    "        \n",
    "    ts_df = pd.read_sql(sql, engine)\n",
    "    return ts_df    "
   ]
  },
  {
   "cell_type": "code",
   "execution_count": null,
   "metadata": {},
   "outputs": [],
   "source": [
    "diff_df = get_difference_df(weight1=0.9, weight2=0.8)"
   ]
  },
  {
   "cell_type": "code",
   "execution_count": null,
   "metadata": {},
   "outputs": [],
   "source": [
    "print(f\"Model Group IDs Used\")\n",
    "print(diff_df['model_group_id'].unique())\n",
    "print(f\"Train End Times Used\")\n",
    "print(diff_df['train_end_time'].unique())"
   ]
  },
  {
   "cell_type": "markdown",
   "metadata": {},
   "source": [
    "# Performing Entity Analysis\n",
    "\n",
    "Assumes that the model_adjustment_results_{demo_col} table is populated correctly for model selection"
   ]
  },
  {
   "cell_type": "code",
   "execution_count": 1,
   "metadata": {},
   "outputs": [],
   "source": [
    "from DJRecallAdjuster import ra_procedure"
   ]
  },
  {
   "cell_type": "code",
   "execution_count": 2,
   "metadata": {
    "scrolled": false
   },
   "outputs": [
    {
     "name": "stdout",
     "output_type": "stream",
     "text": [
      "0.99\n",
      "[('2010-01-01', '2010-01-01'), ('2010-01-01', '2011-01-01')]\n",
      "Date Pair: [('2010-01-01', '2010-01-01'), ('2010-01-01', '2011-01-01')] pre sql done\n"
     ]
    },
    {
     "ename": "KeyboardInterrupt",
     "evalue": "Interrupted by user",
     "output_type": "error",
     "traceback": [
      "\u001b[0;31m---------------------------------------------------------------------------\u001b[0m",
      "\u001b[0;31mKeyboardInterrupt\u001b[0m                         Traceback (most recent call last)",
      "Cell \u001b[0;32mIn [2], line 1\u001b[0m\n\u001b[0;32m----> 1\u001b[0m ra_procedure(weights\u001b[38;5;241m=\u001b[39m\u001b[38;5;28;01mNone\u001b[39;00m, pause_phases\u001b[38;5;241m=\u001b[39m\u001b[38;5;28;01mTrue\u001b[39;00m, entity_selection\u001b[38;5;241m=\u001b[39m\u001b[38;5;28;01mTrue\u001b[39;00m)\n",
      "File \u001b[0;32m~/peeps-chili/nature_machine_intelligence_2021/el_salvador/DJRecallAdjuster.py:486\u001b[0m, in \u001b[0;36mra_procedure\u001b[0;34m(weights, demo_col, working_schema, results_schema, list_size, alternate_save_names, engine_donors, config, pause_phases, exhaustive, entity_selection)\u001b[0m\n\u001b[1;32m    484\u001b[0m     engine_donors\u001b[38;5;241m.\u001b[39mexecute(\u001b[38;5;124mf\u001b[39m\u001b[38;5;124m\"\u001b[39m\u001b[38;5;124mDROP TABLE IF EXISTS \u001b[39m\u001b[38;5;132;01m{\u001b[39;00mresults_schema\u001b[38;5;132;01m}\u001b[39;00m\u001b[38;5;124m.selected_entities\u001b[39m\u001b[38;5;124m\"\u001b[39m)\n\u001b[1;32m    485\u001b[0m     engine_donors\u001b[38;5;241m.\u001b[39mexecute(\u001b[38;5;124m\"\u001b[39m\u001b[38;5;124mCOMMIT\u001b[39m\u001b[38;5;124m\"\u001b[39m)\n\u001b[0;32m--> 486\u001b[0m ra \u001b[38;5;241m=\u001b[39m RecallAdjuster(engine\u001b[38;5;241m=\u001b[39mengine, params\u001b[38;5;241m=\u001b[39mparams, pause_phases\u001b[38;5;241m=\u001b[39mpause_phases, small_model_selection\u001b[38;5;241m=\u001b[39m\u001b[38;5;28;01mTrue\u001b[39;00m, entity_selection\u001b[38;5;241m=\u001b[39m\u001b[38;5;28;01mTrue\u001b[39;00m)\n\u001b[1;32m    488\u001b[0m \u001b[38;5;28;01mif\u001b[39;00m weights[\u001b[38;5;241m0\u001b[39m] \u001b[38;5;241m==\u001b[39m \u001b[38;5;241m0.99\u001b[39m:\n\u001b[1;32m    489\u001b[0m     engine_donors\u001b[38;5;241m.\u001b[39mexecute(\u001b[38;5;124mf\u001b[39m\u001b[38;5;124m\"\"\"\u001b[39m\n\u001b[1;32m    490\u001b[0m \u001b[38;5;124m                CREATE TABLE \u001b[39m\u001b[38;5;132;01m{\u001b[39;00mresults_schema\u001b[38;5;132;01m}\u001b[39;00m\u001b[38;5;124m.selected_entities AS\u001b[39m\n\u001b[1;32m    491\u001b[0m \u001b[38;5;124m                SELECT *, \u001b[39m\u001b[38;5;132;01m{\u001b[39;00mweights[\u001b[38;5;241m0\u001b[39m]\u001b[38;5;132;01m}\u001b[39;00m\u001b[38;5;124m as weight FROM \u001b[39m\u001b[38;5;132;01m{\u001b[39;00mworking_schema\u001b[38;5;132;01m}\u001b[39;00m\u001b[38;5;124m.tmp_selected_entities;\u001b[39m\n\u001b[1;32m    492\u001b[0m \u001b[38;5;124m            \u001b[39m\u001b[38;5;124m\"\"\"\u001b[39m)\n",
      "File \u001b[0;32m~/peeps-chili/nature_machine_intelligence_2021/el_salvador/DJRecallAdjuster.py:155\u001b[0m, in \u001b[0;36mRecallAdjuster.__init__\u001b[0;34m(self, engine, params, pause_phases, exhaustive, small_model_selection, entity_selection)\u001b[0m\n\u001b[1;32m    152\u001b[0m \u001b[38;5;28mself\u001b[39m\u001b[38;5;241m.\u001b[39mengine\u001b[38;5;241m.\u001b[39mexecute(\u001b[38;5;124m\"\u001b[39m\u001b[38;5;124mCOMMIT\u001b[39m\u001b[38;5;124m\"\u001b[39m)\n\u001b[1;32m    154\u001b[0m \u001b[38;5;28;01mif\u001b[39;00m pause_phases:\n\u001b[0;32m--> 155\u001b[0m     \u001b[38;5;28;43minput\u001b[39;49m\u001b[43m(\u001b[49m\u001b[38;5;124;43mf\u001b[39;49m\u001b[38;5;124;43m\"\u001b[39;49m\u001b[38;5;124;43mDate Pair: \u001b[39;49m\u001b[38;5;132;43;01m{\u001b[39;49;00m\u001b[38;5;28;43mself\u001b[39;49m\u001b[38;5;241;43m.\u001b[39;49m\u001b[43mparams\u001b[49m\u001b[43m[\u001b[49m\u001b[38;5;124;43m'\u001b[39;49m\u001b[38;5;124;43mdate_pairs\u001b[39;49m\u001b[38;5;124;43m'\u001b[39;49m\u001b[43m]\u001b[49m\u001b[38;5;132;43;01m}\u001b[39;49;00m\u001b[38;5;124;43m Adjustment Done\u001b[39;49m\u001b[38;5;124;43m\"\u001b[39;49m\u001b[43m)\u001b[49m\n\u001b[1;32m    157\u001b[0m \u001b[38;5;66;03m# store the results to dataframes for subsequent plotting and analysis\u001b[39;00m\n\u001b[1;32m    158\u001b[0m sql \u001b[38;5;241m=\u001b[39m \u001b[38;5;124m'\u001b[39m\u001b[38;5;124mSELECT * FROM \u001b[39m\u001b[38;5;132;01m%s\u001b[39;00m\u001b[38;5;124m.model_adjustment_results_\u001b[39m\u001b[38;5;132;01m%s\u001b[39;00m\u001b[38;5;124m'\u001b[39m \u001b[38;5;241m%\u001b[39m (\u001b[38;5;28mself\u001b[39m\u001b[38;5;241m.\u001b[39mparams[\u001b[38;5;124m'\u001b[39m\u001b[38;5;124mschema\u001b[39m\u001b[38;5;124m'\u001b[39m], \u001b[38;5;28mself\u001b[39m\u001b[38;5;241m.\u001b[39mparams[\u001b[38;5;124m'\u001b[39m\u001b[38;5;124mdemo_col\u001b[39m\u001b[38;5;124m'\u001b[39m])\n",
      "File \u001b[0;32m~/.pyenv/versions/3.8.1/lib/python3.8/site-packages/ipykernel/kernelbase.py:1177\u001b[0m, in \u001b[0;36mKernel.raw_input\u001b[0;34m(self, prompt)\u001b[0m\n\u001b[1;32m   1173\u001b[0m \u001b[38;5;28;01mif\u001b[39;00m \u001b[38;5;129;01mnot\u001b[39;00m \u001b[38;5;28mself\u001b[39m\u001b[38;5;241m.\u001b[39m_allow_stdin:\n\u001b[1;32m   1174\u001b[0m     \u001b[38;5;28;01mraise\u001b[39;00m StdinNotImplementedError(\n\u001b[1;32m   1175\u001b[0m         \u001b[38;5;124m\"\u001b[39m\u001b[38;5;124mraw_input was called, but this frontend does not support input requests.\u001b[39m\u001b[38;5;124m\"\u001b[39m\n\u001b[1;32m   1176\u001b[0m     )\n\u001b[0;32m-> 1177\u001b[0m \u001b[38;5;28;01mreturn\u001b[39;00m \u001b[38;5;28;43mself\u001b[39;49m\u001b[38;5;241;43m.\u001b[39;49m\u001b[43m_input_request\u001b[49m\u001b[43m(\u001b[49m\n\u001b[1;32m   1178\u001b[0m \u001b[43m    \u001b[49m\u001b[38;5;28;43mstr\u001b[39;49m\u001b[43m(\u001b[49m\u001b[43mprompt\u001b[49m\u001b[43m)\u001b[49m\u001b[43m,\u001b[49m\n\u001b[1;32m   1179\u001b[0m \u001b[43m    \u001b[49m\u001b[38;5;28;43mself\u001b[39;49m\u001b[38;5;241;43m.\u001b[39;49m\u001b[43m_parent_ident\u001b[49m\u001b[43m[\u001b[49m\u001b[38;5;124;43m\"\u001b[39;49m\u001b[38;5;124;43mshell\u001b[39;49m\u001b[38;5;124;43m\"\u001b[39;49m\u001b[43m]\u001b[49m\u001b[43m,\u001b[49m\n\u001b[1;32m   1180\u001b[0m \u001b[43m    \u001b[49m\u001b[38;5;28;43mself\u001b[39;49m\u001b[38;5;241;43m.\u001b[39;49m\u001b[43mget_parent\u001b[49m\u001b[43m(\u001b[49m\u001b[38;5;124;43m\"\u001b[39;49m\u001b[38;5;124;43mshell\u001b[39;49m\u001b[38;5;124;43m\"\u001b[39;49m\u001b[43m)\u001b[49m\u001b[43m,\u001b[49m\n\u001b[1;32m   1181\u001b[0m \u001b[43m    \u001b[49m\u001b[43mpassword\u001b[49m\u001b[38;5;241;43m=\u001b[39;49m\u001b[38;5;28;43;01mFalse\u001b[39;49;00m\u001b[43m,\u001b[49m\n\u001b[1;32m   1182\u001b[0m \u001b[43m\u001b[49m\u001b[43m)\u001b[49m\n",
      "File \u001b[0;32m~/.pyenv/versions/3.8.1/lib/python3.8/site-packages/ipykernel/kernelbase.py:1219\u001b[0m, in \u001b[0;36mKernel._input_request\u001b[0;34m(self, prompt, ident, parent, password)\u001b[0m\n\u001b[1;32m   1216\u001b[0m             \u001b[38;5;28;01mbreak\u001b[39;00m\n\u001b[1;32m   1217\u001b[0m \u001b[38;5;28;01mexcept\u001b[39;00m \u001b[38;5;167;01mKeyboardInterrupt\u001b[39;00m:\n\u001b[1;32m   1218\u001b[0m     \u001b[38;5;66;03m# re-raise KeyboardInterrupt, to truncate traceback\u001b[39;00m\n\u001b[0;32m-> 1219\u001b[0m     \u001b[38;5;28;01mraise\u001b[39;00m \u001b[38;5;167;01mKeyboardInterrupt\u001b[39;00m(\u001b[38;5;124m\"\u001b[39m\u001b[38;5;124mInterrupted by user\u001b[39m\u001b[38;5;124m\"\u001b[39m) \u001b[38;5;28;01mfrom\u001b[39;00m \u001b[38;5;28mNone\u001b[39m\n\u001b[1;32m   1220\u001b[0m \u001b[38;5;28;01mexcept\u001b[39;00m \u001b[38;5;167;01mException\u001b[39;00m:\n\u001b[1;32m   1221\u001b[0m     \u001b[38;5;28mself\u001b[39m\u001b[38;5;241m.\u001b[39mlog\u001b[38;5;241m.\u001b[39mwarning(\u001b[38;5;124m\"\u001b[39m\u001b[38;5;124mInvalid Message:\u001b[39m\u001b[38;5;124m\"\u001b[39m, exc_info\u001b[38;5;241m=\u001b[39m\u001b[38;5;28;01mTrue\u001b[39;00m)\n",
      "\u001b[0;31mKeyboardInterrupt\u001b[0m: Interrupted by user"
     ]
    }
   ],
   "source": [
    "ra_procedure(weights=None, pause_phases=True, entity_selection=True)"
   ]
  },
  {
   "cell_type": "code",
   "execution_count": null,
   "metadata": {},
   "outputs": [],
   "source": []
  }
 ],
 "metadata": {
  "kernelspec": {
   "display_name": "py3env",
   "language": "python",
   "name": "py3env"
  },
  "language_info": {
   "codemirror_mode": {
    "name": "ipython",
    "version": 3
   },
   "file_extension": ".py",
   "mimetype": "text/x-python",
   "name": "python",
   "nbconvert_exporter": "python",
   "pygments_lexer": "ipython3",
   "version": "3.8.1"
  }
 },
 "nbformat": 4,
 "nbformat_minor": 4
}
