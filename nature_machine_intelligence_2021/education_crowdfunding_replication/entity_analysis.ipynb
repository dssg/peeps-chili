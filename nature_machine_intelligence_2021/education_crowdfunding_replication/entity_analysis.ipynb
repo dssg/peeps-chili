{
 "cells": [
  {
   "cell_type": "markdown",
   "metadata": {},
   "source": [
    "# Replicating Results\n",
    "\n",
    "\n",
    "### What is this?\n",
    "This notebook provides step-by-step instructions for replicating the results for multi-adjustment"
   ]
  },
  {
   "cell_type": "code",
   "execution_count": 1,
   "metadata": {},
   "outputs": [],
   "source": [
    "import pandas as pd\n",
    "import numpy as np\n",
    "import statsmodels.api as sm\n",
    "import statsmodels.formula.api as smf\n",
    "\n",
    "import os\n",
    "import yaml\n",
    "import sqlalchemy\n",
    "\n",
    "import seaborn as sns\n",
    "import matplotlib.pyplot as plt\n",
    "%matplotlib inline\n",
    "pd.options.display.max_columns = None\n",
    "\n",
    "from IPython.display import display \n",
    "from itertools import permutations, combinations\n",
    "from jinja2 import Template\n",
    "import dateparser\n",
    "\n",
    "\n",
    "from ohio.ext.numpy import pg_copy_to_table"
   ]
  },
  {
   "cell_type": "markdown",
   "metadata": {},
   "source": [
    "Specify The Database, demo_col of interest, demo_values of interest and the procedure you wish to use for adjustment"
   ]
  },
  {
   "cell_type": "code",
   "execution_count": 2,
   "metadata": {},
   "outputs": [],
   "source": [
    "database=\"dhananja_donors\""
   ]
  },
  {
   "cell_type": "code",
   "execution_count": 3,
   "metadata": {},
   "outputs": [],
   "source": [
    "working_schema, results_schema = \"bias_working\", \"bias_results\""
   ]
  },
  {
   "cell_type": "code",
   "execution_count": 4,
   "metadata": {},
   "outputs": [],
   "source": [
    "demo_col = \"plevel\""
   ]
  },
  {
   "cell_type": "code",
   "execution_count": 5,
   "metadata": {},
   "outputs": [],
   "source": [
    "demo_values = [\"not_highest\", \"highest\"]"
   ]
  },
  {
   "cell_type": "markdown",
   "metadata": {},
   "source": [
    "## Getting Set Up\n",
    "\n",
    "You will need a database with the following schemas:\n",
    "- **public**: The raw data from donors choose as well as some tables with calculated features and intermediate modeling tables\n",
    "- **model_metadata**: Information about the models we ran, such as model types and hyperparameters (models were run with `triage`, which generates this schema. In `triage` a \"model group\" specifies a type of model and associated hyperparameter values, while a \"model\" is an instantiation of a given model group on a specific temporal validation split). Note that this schema contains information on other model runs with this dataset, in addition to the run used for the current study of fairness-accuracy trade-offs.\n",
    "- **test_results**: Validation set statistics and predictions for the models. Here, `test_results.predictions` contains project-level predicted scores from each model in the grid, while `test_results.evaluations` contains aggregated summary statistics for each model.\n",
    "- **train_results**: Training set statistics for the models, including feature importances.\n",
    "- **features**: Intermediate tables containing calculated features from the `triage` run.\n",
    "- **bias_working**: Intermediate tables from the bias analysis, as well as the mapping table between projects and school poverty levels, `bias_working.entity_demos`.\n",
    "- **bias_results_submitted**: Results of the fairness-accuracy trade-offs from the study as submitted (see below to use these to replicate the figures from the study).\n",
    "- **bias_results**: Empty bias analysis results tables that will be populated by re-running the fairness adjustments (see below for instructions).\n",
    "\n",
    "\n",
    "Finally, to connect to the database, you'll need a yaml file named `db_profile.yaml` in the same directory as this notebook with your connection info:\n",
    "```yaml\n",
    "host: {POSTGRES_HOST}\n",
    "user: {POSTGRES_USER}\n",
    "db: education_crowdfunding\n",
    "pass: {POSTGRES_PASSWORD}\n",
    "port: {POSTGRES_PORT}\n",
    "```\n"
   ]
  },
  {
   "cell_type": "code",
   "execution_count": 12,
   "metadata": {},
   "outputs": [
    {
     "name": "stderr",
     "output_type": "stream",
     "text": [
      "/tmp/ipykernel_27940/127057796.py:3: SADeprecationWarning: Calling URL() directly is deprecated and will be disabled in a future release.  The public constructor for URL is now the URL.create() method.\n",
      "  dburl = sqlalchemy.engine.url.URL(\n"
     ]
    }
   ],
   "source": [
    "with open('../../config/db_default_profile.yaml') as fd:\n",
    "    config = yaml.full_load(fd)\n",
    "    dburl = sqlalchemy.engine.url.URL(\n",
    "        \"postgresql\",\n",
    "        host=config[\"host\"],\n",
    "        username=config[\"user\"],\n",
    "        database=database,\n",
    "        password=config[\"pass\"],\n",
    "        port=config[\"port\"],\n",
    "    )\n",
    "    engine = sqlalchemy.create_engine(dburl, poolclass=sqlalchemy.pool.QueuePool)"
   ]
  },
  {
   "cell_type": "code",
   "execution_count": 90,
   "metadata": {},
   "outputs": [],
   "source": [
    "def get_frac_demos(model_group_id=None, train_end_time=None):\n",
    "    if model_group_id is None and train_end_time is None:\n",
    "        sel_string = \"\"\n",
    "    elif model_group_id is None:\n",
    "        sel_string = f\"and train_end_time = '{train_end_time}'\"\n",
    "    elif train_end_time is None:\n",
    "        sel_string = f\"and model_group_id = {model_group_id}\"\n",
    "    else:\n",
    "        sel_string = f\"and train_end_time = '{train_end_time}' and model_group_id = {model_group_id}\"\n",
    "    sql = f\"\"\"\n",
    "    select model_group_id, train_end_time, weight, count(distinct entity_id) \n",
    "    from {results_schema}.selected_entities se natural join {working_schema}.entity_demos ed\n",
    "    where ed.{demo_col} = '{demo_values[0]}' {sel_string}\n",
    "    group by 1, 2, 3 \n",
    "    \"\"\"\n",
    "    ts_df = pd.read_sql(sql, engine)\n",
    "    return ts_df"
   ]
  },
  {
   "cell_type": "code",
   "execution_count": 97,
   "metadata": {},
   "outputs": [],
   "source": [
    "def get_difference(weight1, weight2, model_group_id=None, train_end_time=None):\n",
    "    if model_group_id is None and train_end_time is None:\n",
    "        sel_string = f\"\"\n",
    "    elif model_group_id is None:\n",
    "        sel_string = f\"WHERE train_end_time = '{train_end_time}'\"\n",
    "    elif train_end_time is None:\n",
    "        sel_string = f\"WHERE model_group_id = {model_group_id}\"\n",
    "    else:\n",
    "        sel_string = f\"WHERE model_group_id = {model_group_id} and train_end_time = '{train_end_time}'\"\n",
    "    \n",
    "    sql = f\"\"\"\n",
    "        with all_entities as (select * \n",
    "        from {results_schema}.selected_entities se natural join {working_schema}.entity_demos ed)\n",
    "        , e1 as (select * from all_entities where weight = {weight1})\n",
    "        , e2 as (select * from all_entities where weight = {weight2})\n",
    "        , e3 as (select * from e1 where (model_group_id , train_end_time , entity_id) not in (select model_group_id , train_end_time , entity_id  from e2))\n",
    "        , e4 as (select * from e2 where (model_group_id , train_end_time , entity_id) not in (select model_group_id , train_end_time , entity_id  from e1))\n",
    "        SELECT distinct * from e3 {sel_string} UNION ALL SELECT distinct * FROM e4 {sel_string}\n",
    "        \"\"\"    \n",
    "    ts_df = pd.read_sql(sql, engine)\n",
    "    return ts_df"
   ]
  },
  {
   "cell_type": "code",
   "execution_count": 98,
   "metadata": {},
   "outputs": [
    {
     "name": "stdout",
     "output_type": "stream",
     "text": [
      "\n",
      "    select model_group_id, train_end_time, weight, count(distinct entity_id) \n",
      "    from bias_results.selected_entities se natural join bias_working.entity_demos ed\n",
      "    where ed.plevel = 'not_highest' \n",
      "    group by 1, 2, 3 \n",
      "    \n"
     ]
    },
    {
     "data": {
      "text/html": [
       "<div>\n",
       "<style scoped>\n",
       "    .dataframe tbody tr th:only-of-type {\n",
       "        vertical-align: middle;\n",
       "    }\n",
       "\n",
       "    .dataframe tbody tr th {\n",
       "        vertical-align: top;\n",
       "    }\n",
       "\n",
       "    .dataframe thead th {\n",
       "        text-align: right;\n",
       "    }\n",
       "</style>\n",
       "<table border=\"1\" class=\"dataframe\">\n",
       "  <thead>\n",
       "    <tr style=\"text-align: right;\">\n",
       "      <th></th>\n",
       "      <th>model_group_id</th>\n",
       "      <th>train_end_time</th>\n",
       "      <th>weight</th>\n",
       "      <th>count</th>\n",
       "    </tr>\n",
       "  </thead>\n",
       "  <tbody>\n",
       "    <tr>\n",
       "      <th>0</th>\n",
       "      <td>915</td>\n",
       "      <td>2011-03-01</td>\n",
       "      <td>0.01</td>\n",
       "      <td>430</td>\n",
       "    </tr>\n",
       "    <tr>\n",
       "      <th>1</th>\n",
       "      <td>915</td>\n",
       "      <td>2011-03-01</td>\n",
       "      <td>0.10</td>\n",
       "      <td>430</td>\n",
       "    </tr>\n",
       "    <tr>\n",
       "      <th>2</th>\n",
       "      <td>915</td>\n",
       "      <td>2011-03-01</td>\n",
       "      <td>0.20</td>\n",
       "      <td>430</td>\n",
       "    </tr>\n",
       "    <tr>\n",
       "      <th>3</th>\n",
       "      <td>915</td>\n",
       "      <td>2011-03-01</td>\n",
       "      <td>0.30</td>\n",
       "      <td>430</td>\n",
       "    </tr>\n",
       "    <tr>\n",
       "      <th>4</th>\n",
       "      <td>915</td>\n",
       "      <td>2011-03-01</td>\n",
       "      <td>0.40</td>\n",
       "      <td>430</td>\n",
       "    </tr>\n",
       "    <tr>\n",
       "      <th>...</th>\n",
       "      <td>...</td>\n",
       "      <td>...</td>\n",
       "      <td>...</td>\n",
       "      <td>...</td>\n",
       "    </tr>\n",
       "    <tr>\n",
       "      <th>971</th>\n",
       "      <td>994</td>\n",
       "      <td>2013-01-01</td>\n",
       "      <td>0.60</td>\n",
       "      <td>498</td>\n",
       "    </tr>\n",
       "    <tr>\n",
       "      <th>972</th>\n",
       "      <td>994</td>\n",
       "      <td>2013-01-01</td>\n",
       "      <td>0.70</td>\n",
       "      <td>500</td>\n",
       "    </tr>\n",
       "    <tr>\n",
       "      <th>973</th>\n",
       "      <td>994</td>\n",
       "      <td>2013-01-01</td>\n",
       "      <td>0.80</td>\n",
       "      <td>502</td>\n",
       "    </tr>\n",
       "    <tr>\n",
       "      <th>974</th>\n",
       "      <td>994</td>\n",
       "      <td>2013-01-01</td>\n",
       "      <td>0.90</td>\n",
       "      <td>504</td>\n",
       "    </tr>\n",
       "    <tr>\n",
       "      <th>975</th>\n",
       "      <td>994</td>\n",
       "      <td>2013-01-01</td>\n",
       "      <td>0.99</td>\n",
       "      <td>505</td>\n",
       "    </tr>\n",
       "  </tbody>\n",
       "</table>\n",
       "<p>976 rows × 4 columns</p>\n",
       "</div>"
      ],
      "text/plain": [
       "     model_group_id train_end_time  weight  count\n",
       "0               915     2011-03-01    0.01    430\n",
       "1               915     2011-03-01    0.10    430\n",
       "2               915     2011-03-01    0.20    430\n",
       "3               915     2011-03-01    0.30    430\n",
       "4               915     2011-03-01    0.40    430\n",
       "..              ...            ...     ...    ...\n",
       "971             994     2013-01-01    0.60    498\n",
       "972             994     2013-01-01    0.70    500\n",
       "973             994     2013-01-01    0.80    502\n",
       "974             994     2013-01-01    0.90    504\n",
       "975             994     2013-01-01    0.99    505\n",
       "\n",
       "[976 rows x 4 columns]"
      ]
     },
     "execution_count": 98,
     "metadata": {},
     "output_type": "execute_result"
    }
   ],
   "source": [
    "get_frac_demos()"
   ]
  },
  {
   "cell_type": "code",
   "execution_count": 99,
   "metadata": {},
   "outputs": [],
   "source": [
    "diff_df = get_difference(weight1=0.9, weight2=0.8)"
   ]
  },
  {
   "cell_type": "code",
   "execution_count": 100,
   "metadata": {},
   "outputs": [
    {
     "name": "stdout",
     "output_type": "stream",
     "text": [
      "Model Group IDs Used\n",
      "[942 994 928 925 965 918 915 960]\n",
      "Train End Times Used\n",
      "['2012-09-01T00:00:00.000000000' '2011-09-01T00:00:00.000000000'\n",
      " '2011-11-01T00:00:00.000000000' '2012-05-01T00:00:00.000000000'\n",
      " '2012-11-01T00:00:00.000000000' '2012-03-01T00:00:00.000000000'\n",
      " '2012-01-01T00:00:00.000000000' '2013-01-01T00:00:00.000000000'\n",
      " '2012-07-01T00:00:00.000000000' '2011-07-01T00:00:00.000000000'\n",
      " '2011-05-01T00:00:00.000000000' '2011-03-01T00:00:00.000000000']\n"
     ]
    }
   ],
   "source": [
    "print(f\"Model Group IDs Used\")\n",
    "print(diff_df['model_group_id'].unique())\n",
    "print(f\"Train End Times Used\")\n",
    "print(diff_df['train_end_time'].unique())"
   ]
  },
  {
   "cell_type": "code",
   "execution_count": 101,
   "metadata": {},
   "outputs": [],
   "source": [
    "model_group_id = 915\n",
    "train_end_time = \"2012-03-01\""
   ]
  },
  {
   "cell_type": "code",
   "execution_count": 102,
   "metadata": {},
   "outputs": [
    {
     "name": "stdout",
     "output_type": "stream",
     "text": [
      "\n",
      "    select model_group_id, train_end_time, weight, count(distinct entity_id) \n",
      "    from bias_results.selected_entities se natural join bias_working.entity_demos ed\n",
      "    where ed.plevel = 'not_highest' and train_end_time = '2012-03-01' and model_group_id = 915\n",
      "    group by 1, 2, 3 \n",
      "    \n"
     ]
    },
    {
     "data": {
      "text/html": [
       "<div>\n",
       "<style scoped>\n",
       "    .dataframe tbody tr th:only-of-type {\n",
       "        vertical-align: middle;\n",
       "    }\n",
       "\n",
       "    .dataframe tbody tr th {\n",
       "        vertical-align: top;\n",
       "    }\n",
       "\n",
       "    .dataframe thead th {\n",
       "        text-align: right;\n",
       "    }\n",
       "</style>\n",
       "<table border=\"1\" class=\"dataframe\">\n",
       "  <thead>\n",
       "    <tr style=\"text-align: right;\">\n",
       "      <th></th>\n",
       "      <th>model_group_id</th>\n",
       "      <th>train_end_time</th>\n",
       "      <th>weight</th>\n",
       "      <th>count</th>\n",
       "    </tr>\n",
       "  </thead>\n",
       "  <tbody>\n",
       "    <tr>\n",
       "      <th>0</th>\n",
       "      <td>915</td>\n",
       "      <td>2012-03-01</td>\n",
       "      <td>0.01</td>\n",
       "      <td>478</td>\n",
       "    </tr>\n",
       "    <tr>\n",
       "      <th>1</th>\n",
       "      <td>915</td>\n",
       "      <td>2012-03-01</td>\n",
       "      <td>0.10</td>\n",
       "      <td>477</td>\n",
       "    </tr>\n",
       "    <tr>\n",
       "      <th>2</th>\n",
       "      <td>915</td>\n",
       "      <td>2012-03-01</td>\n",
       "      <td>0.20</td>\n",
       "      <td>476</td>\n",
       "    </tr>\n",
       "    <tr>\n",
       "      <th>3</th>\n",
       "      <td>915</td>\n",
       "      <td>2012-03-01</td>\n",
       "      <td>0.30</td>\n",
       "      <td>475</td>\n",
       "    </tr>\n",
       "    <tr>\n",
       "      <th>4</th>\n",
       "      <td>915</td>\n",
       "      <td>2012-03-01</td>\n",
       "      <td>0.40</td>\n",
       "      <td>474</td>\n",
       "    </tr>\n",
       "    <tr>\n",
       "      <th>5</th>\n",
       "      <td>915</td>\n",
       "      <td>2012-03-01</td>\n",
       "      <td>0.50</td>\n",
       "      <td>473</td>\n",
       "    </tr>\n",
       "    <tr>\n",
       "      <th>6</th>\n",
       "      <td>915</td>\n",
       "      <td>2012-03-01</td>\n",
       "      <td>0.60</td>\n",
       "      <td>471</td>\n",
       "    </tr>\n",
       "    <tr>\n",
       "      <th>7</th>\n",
       "      <td>915</td>\n",
       "      <td>2012-03-01</td>\n",
       "      <td>0.70</td>\n",
       "      <td>470</td>\n",
       "    </tr>\n",
       "    <tr>\n",
       "      <th>8</th>\n",
       "      <td>915</td>\n",
       "      <td>2012-03-01</td>\n",
       "      <td>0.80</td>\n",
       "      <td>469</td>\n",
       "    </tr>\n",
       "    <tr>\n",
       "      <th>9</th>\n",
       "      <td>915</td>\n",
       "      <td>2012-03-01</td>\n",
       "      <td>0.90</td>\n",
       "      <td>468</td>\n",
       "    </tr>\n",
       "  </tbody>\n",
       "</table>\n",
       "</div>"
      ],
      "text/plain": [
       "   model_group_id train_end_time  weight  count\n",
       "0             915     2012-03-01    0.01    478\n",
       "1             915     2012-03-01    0.10    477\n",
       "2             915     2012-03-01    0.20    476\n",
       "3             915     2012-03-01    0.30    475\n",
       "4             915     2012-03-01    0.40    474\n",
       "5             915     2012-03-01    0.50    473\n",
       "6             915     2012-03-01    0.60    471\n",
       "7             915     2012-03-01    0.70    470\n",
       "8             915     2012-03-01    0.80    469\n",
       "9             915     2012-03-01    0.90    468"
      ]
     },
     "execution_count": 102,
     "metadata": {},
     "output_type": "execute_result"
    }
   ],
   "source": [
    "get_frac_demos(model_group_id=model_group_id, train_end_time=train_end_time)"
   ]
  },
  {
   "cell_type": "code",
   "execution_count": 103,
   "metadata": {},
   "outputs": [
    {
     "data": {
      "text/html": [
       "<div>\n",
       "<style scoped>\n",
       "    .dataframe tbody tr th:only-of-type {\n",
       "        vertical-align: middle;\n",
       "    }\n",
       "\n",
       "    .dataframe tbody tr th {\n",
       "        vertical-align: top;\n",
       "    }\n",
       "\n",
       "    .dataframe thead th {\n",
       "        text-align: right;\n",
       "    }\n",
       "</style>\n",
       "<table border=\"1\" class=\"dataframe\">\n",
       "  <thead>\n",
       "    <tr style=\"text-align: right;\">\n",
       "      <th></th>\n",
       "      <th>entity_id</th>\n",
       "      <th>model_group_id</th>\n",
       "      <th>train_end_time</th>\n",
       "      <th>score</th>\n",
       "      <th>label_value</th>\n",
       "      <th>model_rank</th>\n",
       "      <th>rn_demo</th>\n",
       "      <th>weight</th>\n",
       "      <th>as_of_date</th>\n",
       "      <th>plevel</th>\n",
       "    </tr>\n",
       "  </thead>\n",
       "  <tbody>\n",
       "    <tr>\n",
       "      <th>0</th>\n",
       "      <td>103676</td>\n",
       "      <td>915</td>\n",
       "      <td>2012-03-01</td>\n",
       "      <td>0.64011</td>\n",
       "      <td>1</td>\n",
       "      <td>1126</td>\n",
       "      <td>532</td>\n",
       "      <td>0.9</td>\n",
       "      <td>2012-08-13</td>\n",
       "      <td>highest</td>\n",
       "    </tr>\n",
       "    <tr>\n",
       "      <th>1</th>\n",
       "      <td>372556</td>\n",
       "      <td>915</td>\n",
       "      <td>2012-03-01</td>\n",
       "      <td>0.66103</td>\n",
       "      <td>1</td>\n",
       "      <td>904</td>\n",
       "      <td>469</td>\n",
       "      <td>0.8</td>\n",
       "      <td>2012-06-25</td>\n",
       "      <td>not_highest</td>\n",
       "    </tr>\n",
       "  </tbody>\n",
       "</table>\n",
       "</div>"
      ],
      "text/plain": [
       "   entity_id  model_group_id train_end_time    score  label_value  model_rank  \\\n",
       "0     103676             915     2012-03-01  0.64011            1        1126   \n",
       "1     372556             915     2012-03-01  0.66103            1         904   \n",
       "\n",
       "   rn_demo  weight as_of_date       plevel  \n",
       "0      532     0.9 2012-08-13      highest  \n",
       "1      469     0.8 2012-06-25  not_highest  "
      ]
     },
     "execution_count": 103,
     "metadata": {},
     "output_type": "execute_result"
    }
   ],
   "source": [
    "get_difference(weight1=0.9, weight2=0.8, model_group_id=model_group_id, train_end_time=train_end_time)"
   ]
  },
  {
   "cell_type": "markdown",
   "metadata": {},
   "source": [
    "# Performing Entity Analysis\n",
    "\n",
    "Assumes that the model_adjustment_results_{demo_col} table is populated correctly for model selection"
   ]
  },
  {
   "cell_type": "code",
   "execution_count": null,
   "metadata": {},
   "outputs": [],
   "source": [
    "from DJRecallAdjuster import entity_analysis_procedure"
   ]
  },
  {
   "cell_type": "code",
   "execution_count": 1,
   "metadata": {
    "scrolled": false
   },
   "outputs": [
    {
     "ename": "NameError",
     "evalue": "name 'ra_procedure' is not defined",
     "output_type": "error",
     "traceback": [
      "\u001b[0;31m---------------------------------------------------------------------------\u001b[0m",
      "\u001b[0;31mNameError\u001b[0m                                 Traceback (most recent call last)",
      "Cell \u001b[0;32mIn [1], line 1\u001b[0m\n\u001b[0;32m----> 1\u001b[0m ra_procedure(weights\u001b[38;5;241m=\u001b[39mweights, pause_phases\u001b[38;5;241m=\u001b[39m\u001b[38;5;28;01mFalse\u001b[39;00m)\n",
      "\u001b[0;31mNameError\u001b[0m: name 'ra_procedure' is not defined"
     ]
    }
   ],
   "source": [
    "entity_analysis_procedure(pause_phases=False)"
   ]
  }
 ],
 "metadata": {
  "kernelspec": {
   "display_name": "py3env",
   "language": "python",
   "name": "py3env"
  },
  "language_info": {
   "codemirror_mode": {
    "name": "ipython",
    "version": 3
   },
   "file_extension": ".py",
   "mimetype": "text/x-python",
   "name": "python",
   "nbconvert_exporter": "python",
   "pygments_lexer": "ipython3",
   "version": "3.8.1"
  }
 },
 "nbformat": 4,
 "nbformat_minor": 4
}
