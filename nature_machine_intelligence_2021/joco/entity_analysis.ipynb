{
 "cells": [
  {
   "cell_type": "markdown",
   "metadata": {},
   "source": [
    "# Replicating Results\n",
    "\n",
    "\n",
    "### What is this?\n",
    "This notebook provides step-by-step instructions for replicating the results for multi-adjustment"
   ]
  },
  {
   "cell_type": "code",
   "execution_count": 1,
   "metadata": {},
   "outputs": [],
   "source": [
    "import pandas as pd\n",
    "import numpy as np\n",
    "import statsmodels.api as sm\n",
    "import statsmodels.formula.api as smf\n",
    "\n",
    "import os\n",
    "import yaml\n",
    "import sqlalchemy\n",
    "\n",
    "import seaborn as sns\n",
    "import matplotlib.pyplot as plt\n",
    "%matplotlib inline\n",
    "pd.options.display.max_columns = None\n",
    "\n",
    "from IPython.display import display \n",
    "from itertools import permutations, combinations\n",
    "from jinja2 import Template\n",
    "import dateparser\n",
    "\n",
    "\n",
    "from ohio.ext.numpy import pg_copy_to_table"
   ]
  },
  {
   "cell_type": "markdown",
   "metadata": {},
   "source": [
    "Specify The Database, demo_col of interest, demo_values of interest and the procedure you wish to use for adjustment"
   ]
  },
  {
   "cell_type": "code",
   "execution_count": 2,
   "metadata": {},
   "outputs": [],
   "source": [
    "database=\"johnson_ddj\""
   ]
  },
  {
   "cell_type": "code",
   "execution_count": 3,
   "metadata": {},
   "outputs": [],
   "source": [
    "working_schema, results_schema = \"kit_bias_class_test\", \"kit_bias_testbed\""
   ]
  },
  {
   "cell_type": "code",
   "execution_count": 4,
   "metadata": {},
   "outputs": [],
   "source": [
    "demo_col = \"race_2way\""
   ]
  },
  {
   "cell_type": "code",
   "execution_count": 5,
   "metadata": {},
   "outputs": [],
   "source": [
    "demo_values = [\"white\", \"nonwhite\"]"
   ]
  },
  {
   "cell_type": "markdown",
   "metadata": {},
   "source": [
    "## Getting Set Up\n",
    "\n",
    "You will need a database with the following schemas:\n",
    "- **public**: The raw data from donors choose as well as some tables with calculated features and intermediate modeling tables\n",
    "- **model_metadata**: Information about the models we ran, such as model types and hyperparameters (models were run with `triage`, which generates this schema. In `triage` a \"model group\" specifies a type of model and associated hyperparameter values, while a \"model\" is an instantiation of a given model group on a specific temporal validation split). Note that this schema contains information on other model runs with this dataset, in addition to the run used for the current study of fairness-accuracy trade-offs.\n",
    "- **test_results**: Validation set statistics and predictions for the models. Here, `test_results.predictions` contains project-level predicted scores from each model in the grid, while `test_results.evaluations` contains aggregated summary statistics for each model.\n",
    "- **train_results**: Training set statistics for the models, including feature importances.\n",
    "- **features**: Intermediate tables containing calculated features from the `triage` run.\n",
    "- **bias_working**: Intermediate tables from the bias analysis, as well as the mapping table between projects and school poverty levels, `bias_working.entity_demos`.\n",
    "- **bias_results_submitted**: Results of the fairness-accuracy trade-offs from the study as submitted (see below to use these to replicate the figures from the study).\n",
    "- **bias_results**: Empty bias analysis results tables that will be populated by re-running the fairness adjustments (see below for instructions).\n",
    "\n",
    "\n",
    "Finally, to connect to the database, you'll need a yaml file named `db_profile.yaml` in the same directory as this notebook with your connection info:\n",
    "```yaml\n",
    "host: {POSTGRES_HOST}\n",
    "user: {POSTGRES_USER}\n",
    "db: education_crowdfunding\n",
    "pass: {POSTGRES_PASSWORD}\n",
    "port: {POSTGRES_PORT}\n",
    "```\n"
   ]
  },
  {
   "cell_type": "code",
   "execution_count": 6,
   "metadata": {},
   "outputs": [
    {
     "ename": "FileNotFoundError",
     "evalue": "[Errno 2] No such file or directory: '../config/db_default_profile.yaml'",
     "output_type": "error",
     "traceback": [
      "\u001b[0;31m---------------------------------------------------------------------------\u001b[0m",
      "\u001b[0;31mFileNotFoundError\u001b[0m                         Traceback (most recent call last)",
      "Cell \u001b[0;32mIn [6], line 1\u001b[0m\n\u001b[0;32m----> 1\u001b[0m \u001b[38;5;28;01mwith\u001b[39;00m \u001b[38;5;28mopen\u001b[39m(\u001b[38;5;124m'\u001b[39m\u001b[38;5;124m../config/db_default_profile.yaml\u001b[39m\u001b[38;5;124m'\u001b[39m) \u001b[38;5;28;01mas\u001b[39;00m fd:\n\u001b[1;32m      2\u001b[0m     config \u001b[38;5;241m=\u001b[39m yaml\u001b[38;5;241m.\u001b[39mfull_load(fd)\n\u001b[1;32m      3\u001b[0m     dburl \u001b[38;5;241m=\u001b[39m sqlalchemy\u001b[38;5;241m.\u001b[39mengine\u001b[38;5;241m.\u001b[39murl\u001b[38;5;241m.\u001b[39mURL(\n\u001b[1;32m      4\u001b[0m         \u001b[38;5;124m\"\u001b[39m\u001b[38;5;124mpostgresql\u001b[39m\u001b[38;5;124m\"\u001b[39m,\n\u001b[1;32m      5\u001b[0m         host\u001b[38;5;241m=\u001b[39mconfig[\u001b[38;5;124m\"\u001b[39m\u001b[38;5;124mhost\u001b[39m\u001b[38;5;124m\"\u001b[39m],\n\u001b[0;32m   (...)\u001b[0m\n\u001b[1;32m      9\u001b[0m         port\u001b[38;5;241m=\u001b[39mconfig[\u001b[38;5;124m\"\u001b[39m\u001b[38;5;124mport\u001b[39m\u001b[38;5;124m\"\u001b[39m],\n\u001b[1;32m     10\u001b[0m     )\n",
      "\u001b[0;31mFileNotFoundError\u001b[0m: [Errno 2] No such file or directory: '../config/db_default_profile.yaml'"
     ]
    }
   ],
   "source": [
    "with open('../config/db_default_profile.yaml') as fd:\n",
    "    config = yaml.full_load(fd)\n",
    "    dburl = sqlalchemy.engine.url.URL(\n",
    "        \"postgresql\",\n",
    "        host=config[\"host\"],\n",
    "        username=config[\"user\"],\n",
    "        database=database,\n",
    "        password=config[\"pass\"],\n",
    "        port=config[\"port\"],\n",
    "    )\n",
    "    engine = sqlalchemy.create_engine(dburl, poolclass=sqlalchemy.pool.QueuePool)"
   ]
  },
  {
   "cell_type": "code",
   "execution_count": null,
   "metadata": {},
   "outputs": [],
   "source": [
    "def get_frac_demos(model_group_id=None, train_end_time=None):\n",
    "    if model_group_id is None and train_end_time is None:\n",
    "        sel_string = \"\"\n",
    "    elif model_group_id is None:\n",
    "        sel_string = f\"and train_end_time = '{train_end_time}'\"\n",
    "    elif train_end_time is None:\n",
    "        sel_string = f\"and model_group_id = {model_group_id}\"\n",
    "    else:\n",
    "        sel_string = f\"and train_end_time = '{train_end_time}' and model_group_id = {model_group_id}\"\n",
    "    sql = f\"\"\"\n",
    "    select model_group_id, train_end_time, weight, count(distinct entity_id) \n",
    "    from {results_schema}.selected_entities se natural join {working_schema}.entity_demos ed\n",
    "    where ed.{plevel} = '{demo_values[0]}' {sel_string}\n",
    "    group by 1, 2, 3 \n",
    "    \"\"\"\n",
    "    ts_df = pd.read_sql(sql, engine)\n",
    "    return ts_df"
   ]
  },
  {
   "cell_type": "code",
   "execution_count": null,
   "metadata": {},
   "outputs": [],
   "source": [
    "def get_difference_df(weight1, weight2, mode_group_id=None, train_end_time=None):\n",
    "    if model_group_id is None and train_end_time is None:\n",
    "        sel_string = f\"\"\n",
    "    elif model_group_id is None:\n",
    "        sel_string = f\"WHERE train_end_time = '{train_end_time}'\"\n",
    "    elif train_end_time is None:\n",
    "        sel_string = f\"WHERE model_group_id = {model_group_id}\"\n",
    "    else:\n",
    "        sel_string = f\"WHERE model_group_id = {model_group_id} and train_end_time = '{train_end_time}'\"\n",
    "    \n",
    "    sql = f\"\"\"\n",
    "        with all_entities as (select model_group_id, train_end_time, weight, entity_id, {demo_col} \n",
    "        from {results_schema}.selected_entities se natural join {working_schema}.entity_demos ed)\n",
    "        , e1 as (select * from all_entities where weight = {weight1})\n",
    "        , e2 as (select * from all_entities where weight = {weight2})\n",
    "        , e3 as (select * from e1 where (model_group_id , train_end_time , entity_id) not in (select model_group_id , train_end_time , entity_id  from e2))\n",
    "        , e4 as (select * from e2 where (model_group_id , train_end_time , entity_id) not in (select model_group_id , train_end_time , entity_id  from e1))\n",
    "        SELECT distinct * from e3 UNION ALL SELECT distinct * FROM e4 {sel_string}\n",
    "        \"\"\"    \n",
    "        \n",
    "    ts_df = pd.read_sql(sql, engine)\n",
    "    return ts_df    "
   ]
  },
  {
   "cell_type": "code",
   "execution_count": null,
   "metadata": {},
   "outputs": [],
   "source": [
    "diff_df = get_difference_df(weight1=0.9, weight2=0.8)"
   ]
  },
  {
   "cell_type": "code",
   "execution_count": null,
   "metadata": {},
   "outputs": [],
   "source": [
    "print(f\"Model Group IDs Used\")\n",
    "print(diff_df['model_group_id'].unique())\n",
    "print(f\"Train End Times Used\")\n",
    "print(diff_df['train_end_time'].unique())"
   ]
  },
  {
   "cell_type": "markdown",
   "metadata": {},
   "source": [
    "# Performing Entity Analysis\n",
    "\n",
    "Assumes that the model_adjustment_results_{demo_col} table is populated correctly for model selection"
   ]
  },
  {
   "cell_type": "code",
   "execution_count": null,
   "metadata": {},
   "outputs": [],
   "source": [
    "from DJRecallAdjuster import ra_procedure"
   ]
  },
  {
   "cell_type": "code",
   "execution_count": 1,
   "metadata": {
    "scrolled": false
   },
   "outputs": [
    {
     "ename": "NameError",
     "evalue": "name 'ra_procedure' is not defined",
     "output_type": "error",
     "traceback": [
      "\u001b[0;31m---------------------------------------------------------------------------\u001b[0m",
      "\u001b[0;31mNameError\u001b[0m                                 Traceback (most recent call last)",
      "Cell \u001b[0;32mIn [1], line 1\u001b[0m\n\u001b[0;32m----> 1\u001b[0m ra_procedure(weights\u001b[38;5;241m=\u001b[39mweights, pause_phases\u001b[38;5;241m=\u001b[39m\u001b[38;5;28;01mFalse\u001b[39;00m)\n",
      "\u001b[0;31mNameError\u001b[0m: name 'ra_procedure' is not defined"
     ]
    }
   ],
   "source": [
    "ra_procedure(weights=None, pause_phases=True, entity_selection=True)"
   ]
  }
 ],
 "metadata": {
  "kernelspec": {
   "display_name": "py3env",
   "language": "python",
   "name": "py3env"
  },
  "language_info": {
   "codemirror_mode": {
    "name": "ipython",
    "version": 3
   },
   "file_extension": ".py",
   "mimetype": "text/x-python",
   "name": "python",
   "nbconvert_exporter": "python",
   "pygments_lexer": "ipython3",
   "version": "3.8.1"
  }
 },
 "nbformat": 4,
 "nbformat_minor": 4
}
