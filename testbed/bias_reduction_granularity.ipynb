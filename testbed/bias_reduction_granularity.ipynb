{
  "cells": [
    {
      "cell_type": "markdown",
      "metadata": {
        "id": "view-in-github",
        "colab_type": "text"
      },
      "source": [
        "<a href=\"https://colab.research.google.com/github/dssg/peeps-chili/blob/kit_score_granularity/testbed/bias_reduction_granularity.ipynb\" target=\"_parent\"><img src=\"https://colab.research.google.com/assets/colab-badge.svg\" alt=\"Open In Colab\"/></a>"
      ]
    },
    {
      "cell_type": "markdown",
      "metadata": {
        "id": "L9qMX4ql1I-1"
      },
      "source": [
        "# Dealing with Bias and Fairness in AI/Data Science Systems\n",
        "## AAAI 2021 Hands-on Tutorial\n",
        "### Pedro Saleiro, Kit Rodolfa, Rayid Ghani"
      ]
    },
    {
      "cell_type": "markdown",
      "metadata": {
        "id": "EhX8GSV41I-7"
      },
      "source": [
        "# <font color=red>Exploring Bias Reduction Strategies</font>"
      ]
    },
    {
      "cell_type": "markdown",
      "metadata": {
        "id": "9Ir7c2vS1I-7"
      },
      "source": [
        "## 1. Install dependencies, import packages and data\n",
        "This is needed every time you open this notebook in **colab** to install dependencies"
      ]
    },
    {
      "cell_type": "code",
      "execution_count": 1,
      "metadata": {
        "colab": {
          "base_uri": "https://localhost:8080/"
        },
        "id": "acjWHI1e1I-8",
        "outputId": "7e04d136-ff7e-45b2-c68f-9280900e5f69"
      },
      "outputs": [
        {
          "output_type": "stream",
          "name": "stdout",
          "text": [
            "Collecting aequitas==0.42.0\n",
            "  Downloading aequitas-0.42.0-py3-none-any.whl (2.2 MB)\n",
            "\u001b[K     |████████████████████████████████| 2.2 MB 5.3 MB/s \n",
            "\u001b[?25hRequirement already satisfied: matplotlib>=3.0.3 in /usr/local/lib/python3.7/dist-packages (from aequitas==0.42.0) (3.2.2)\n",
            "Collecting markdown2==2.3.5\n",
            "  Downloading markdown2-2.3.5.zip (161 kB)\n",
            "\u001b[K     |████████████████████████████████| 161 kB 45.4 MB/s \n",
            "\u001b[?25hCollecting xhtml2pdf==0.2.2\n",
            "  Downloading xhtml2pdf-0.2.2.tar.gz (97 kB)\n",
            "\u001b[K     |████████████████████████████████| 97 kB 4.4 MB/s \n",
            "\u001b[?25hCollecting Flask==0.12.2\n",
            "  Downloading Flask-0.12.2-py2.py3-none-any.whl (83 kB)\n",
            "\u001b[K     |████████████████████████████████| 83 kB 1.2 MB/s \n",
            "\u001b[?25hRequirement already satisfied: pandas>=0.24.1 in /usr/local/lib/python3.7/dist-packages (from aequitas==0.42.0) (1.3.5)\n",
            "Collecting Flask-Bootstrap==3.3.7.1\n",
            "  Downloading Flask-Bootstrap-3.3.7.1.tar.gz (456 kB)\n",
            "\u001b[K     |████████████████████████████████| 456 kB 37.9 MB/s \n",
            "\u001b[?25hCollecting pyyaml>=5.1\n",
            "  Downloading PyYAML-6.0-cp37-cp37m-manylinux_2_5_x86_64.manylinux1_x86_64.manylinux_2_12_x86_64.manylinux2010_x86_64.whl (596 kB)\n",
            "\u001b[K     |████████████████████████████████| 596 kB 44.5 MB/s \n",
            "\u001b[?25hCollecting tabulate==0.8.2\n",
            "  Downloading tabulate-0.8.2.tar.gz (45 kB)\n",
            "\u001b[K     |████████████████████████████████| 45 kB 3.2 MB/s \n",
            "\u001b[?25hCollecting ohio>=0.2.0\n",
            "  Downloading ohio-0.5.0-py3-none-any.whl (26 kB)\n",
            "Requirement already satisfied: seaborn>=0.9.0 in /usr/local/lib/python3.7/dist-packages (from aequitas==0.42.0) (0.11.2)\n",
            "Collecting millify==0.1.1\n",
            "  Downloading millify-0.1.1.tar.gz (1.2 kB)\n",
            "Requirement already satisfied: SQLAlchemy>=1.1.1 in /usr/local/lib/python3.7/dist-packages (from aequitas==0.42.0) (1.4.32)\n",
            "Collecting altair==4.1.0\n",
            "  Downloading altair-4.1.0-py3-none-any.whl (727 kB)\n",
            "\u001b[K     |████████████████████████████████| 727 kB 35.5 MB/s \n",
            "\u001b[?25hRequirement already satisfied: numpy in /usr/local/lib/python3.7/dist-packages (from altair==4.1.0->aequitas==0.42.0) (1.21.5)\n",
            "Requirement already satisfied: entrypoints in /usr/local/lib/python3.7/dist-packages (from altair==4.1.0->aequitas==0.42.0) (0.4)\n",
            "Requirement already satisfied: jsonschema in /usr/local/lib/python3.7/dist-packages (from altair==4.1.0->aequitas==0.42.0) (4.3.3)\n",
            "Requirement already satisfied: jinja2 in /usr/local/lib/python3.7/dist-packages (from altair==4.1.0->aequitas==0.42.0) (2.11.3)\n",
            "Requirement already satisfied: toolz in /usr/local/lib/python3.7/dist-packages (from altair==4.1.0->aequitas==0.42.0) (0.11.2)\n",
            "Requirement already satisfied: itsdangerous>=0.21 in /usr/local/lib/python3.7/dist-packages (from Flask==0.12.2->aequitas==0.42.0) (1.1.0)\n",
            "Requirement already satisfied: Werkzeug>=0.7 in /usr/local/lib/python3.7/dist-packages (from Flask==0.12.2->aequitas==0.42.0) (1.0.1)\n",
            "Requirement already satisfied: click>=2.0 in /usr/local/lib/python3.7/dist-packages (from Flask==0.12.2->aequitas==0.42.0) (7.1.2)\n",
            "Collecting dominate\n",
            "  Downloading dominate-2.6.0-py2.py3-none-any.whl (29 kB)\n",
            "Collecting visitor\n",
            "  Downloading visitor-0.1.3.tar.gz (3.3 kB)\n",
            "Requirement already satisfied: html5lib>=1.0 in /usr/local/lib/python3.7/dist-packages (from xhtml2pdf==0.2.2->aequitas==0.42.0) (1.0.1)\n",
            "Requirement already satisfied: httplib2 in /usr/local/lib/python3.7/dist-packages (from xhtml2pdf==0.2.2->aequitas==0.42.0) (0.17.4)\n",
            "Collecting pyPdf2\n",
            "  Downloading PyPDF2-1.26.0.tar.gz (77 kB)\n",
            "\u001b[K     |████████████████████████████████| 77 kB 5.3 MB/s \n",
            "\u001b[?25hRequirement already satisfied: Pillow in /usr/local/lib/python3.7/dist-packages (from xhtml2pdf==0.2.2->aequitas==0.42.0) (7.1.2)\n",
            "Collecting reportlab>=3.0\n",
            "  Downloading reportlab-3.6.9-cp37-cp37m-manylinux_2_17_x86_64.manylinux2014_x86_64.whl (2.7 MB)\n",
            "\u001b[K     |████████████████████████████████| 2.7 MB 36.3 MB/s \n",
            "\u001b[?25hRequirement already satisfied: six in /usr/local/lib/python3.7/dist-packages (from xhtml2pdf==0.2.2->aequitas==0.42.0) (1.15.0)\n",
            "Requirement already satisfied: webencodings in /usr/local/lib/python3.7/dist-packages (from html5lib>=1.0->xhtml2pdf==0.2.2->aequitas==0.42.0) (0.5.1)\n",
            "Requirement already satisfied: MarkupSafe>=0.23 in /usr/local/lib/python3.7/dist-packages (from jinja2->altair==4.1.0->aequitas==0.42.0) (2.0.1)\n",
            "Requirement already satisfied: python-dateutil>=2.1 in /usr/local/lib/python3.7/dist-packages (from matplotlib>=3.0.3->aequitas==0.42.0) (2.8.2)\n",
            "Requirement already satisfied: kiwisolver>=1.0.1 in /usr/local/lib/python3.7/dist-packages (from matplotlib>=3.0.3->aequitas==0.42.0) (1.4.0)\n",
            "Requirement already satisfied: pyparsing!=2.0.4,!=2.1.2,!=2.1.6,>=2.0.1 in /usr/local/lib/python3.7/dist-packages (from matplotlib>=3.0.3->aequitas==0.42.0) (3.0.7)\n",
            "Requirement already satisfied: cycler>=0.10 in /usr/local/lib/python3.7/dist-packages (from matplotlib>=3.0.3->aequitas==0.42.0) (0.11.0)\n",
            "Requirement already satisfied: typing-extensions in /usr/local/lib/python3.7/dist-packages (from kiwisolver>=1.0.1->matplotlib>=3.0.3->aequitas==0.42.0) (3.10.0.2)\n",
            "Requirement already satisfied: pytz>=2017.3 in /usr/local/lib/python3.7/dist-packages (from pandas>=0.24.1->aequitas==0.42.0) (2018.9)\n",
            "Requirement already satisfied: scipy>=1.0 in /usr/local/lib/python3.7/dist-packages (from seaborn>=0.9.0->aequitas==0.42.0) (1.4.1)\n",
            "Requirement already satisfied: greenlet!=0.4.17 in /usr/local/lib/python3.7/dist-packages (from SQLAlchemy>=1.1.1->aequitas==0.42.0) (1.1.2)\n",
            "Requirement already satisfied: importlib-metadata in /usr/local/lib/python3.7/dist-packages (from SQLAlchemy>=1.1.1->aequitas==0.42.0) (4.11.3)\n",
            "Requirement already satisfied: zipp>=0.5 in /usr/local/lib/python3.7/dist-packages (from importlib-metadata->SQLAlchemy>=1.1.1->aequitas==0.42.0) (3.7.0)\n",
            "Requirement already satisfied: attrs>=17.4.0 in /usr/local/lib/python3.7/dist-packages (from jsonschema->altair==4.1.0->aequitas==0.42.0) (21.4.0)\n",
            "Requirement already satisfied: pyrsistent!=0.17.0,!=0.17.1,!=0.17.2,>=0.14.0 in /usr/local/lib/python3.7/dist-packages (from jsonschema->altair==4.1.0->aequitas==0.42.0) (0.18.1)\n",
            "Requirement already satisfied: importlib-resources>=1.4.0 in /usr/local/lib/python3.7/dist-packages (from jsonschema->altair==4.1.0->aequitas==0.42.0) (5.4.0)\n",
            "Building wheels for collected packages: Flask-Bootstrap, markdown2, millify, tabulate, xhtml2pdf, pyPdf2, visitor\n",
            "  Building wheel for Flask-Bootstrap (setup.py) ... \u001b[?25l\u001b[?25hdone\n",
            "  Created wheel for Flask-Bootstrap: filename=Flask_Bootstrap-3.3.7.1-py3-none-any.whl size=460123 sha256=efa96f9bee4d07b00e153e1782693cc6f801d6b4b63c8f6c7a45ca35f3d2a445\n",
            "  Stored in directory: /root/.cache/pip/wheels/67/a2/d6/50d039c9b59b4caca6d7b53839c8100354a52ab7553d2456eb\n",
            "  Building wheel for markdown2 (setup.py) ... \u001b[?25l\u001b[?25hdone\n",
            "  Created wheel for markdown2: filename=markdown2-2.3.5-py3-none-any.whl size=33327 sha256=715bf149146f9c0bac48f9eb4c41c8e462e532cb9f9eb589fe42ba381819d019\n",
            "  Stored in directory: /root/.cache/pip/wheels/46/b9/ae/4050b5eeeedc7cba8ed5a0203189c89c0fa980f683822bfa31\n",
            "  Building wheel for millify (setup.py) ... \u001b[?25l\u001b[?25hdone\n",
            "  Created wheel for millify: filename=millify-0.1.1-py3-none-any.whl size=1866 sha256=c28f9794d34ba46675e3cc0c22cb0a8204b1cdf1e847e48fb8f9352f54668405\n",
            "  Stored in directory: /root/.cache/pip/wheels/38/26/25/c2a8bb99a5cf348903e6ac35a29878e221cc9daeb698545148\n",
            "  Building wheel for tabulate (setup.py) ... \u001b[?25l\u001b[?25hdone\n",
            "  Created wheel for tabulate: filename=tabulate-0.8.2-py3-none-any.whl size=23550 sha256=f14e9307dfa996f9497ac4b791eb2fd1c8833bf9f3eb6861f2a2ffafee48782b\n",
            "  Stored in directory: /root/.cache/pip/wheels/33/63/72/4156fe55e8e06830d7aed3d20a6d1aacc753536843ab7330f6\n",
            "  Building wheel for xhtml2pdf (setup.py) ... \u001b[?25l\u001b[?25hdone\n",
            "  Created wheel for xhtml2pdf: filename=xhtml2pdf-0.2.2-py3-none-any.whl size=230265 sha256=2287efe3febb5a3ee37247d4b04a56e1608a46eab02312ada2fc71eaaf9e6bcf\n",
            "  Stored in directory: /root/.cache/pip/wheels/65/e6/3a/9851102d40dd8e643a4ff3ce5d69988f95d1d9b7448e37a916\n",
            "  Building wheel for pyPdf2 (setup.py) ... \u001b[?25l\u001b[?25hdone\n",
            "  Created wheel for pyPdf2: filename=PyPDF2-1.26.0-py3-none-any.whl size=61102 sha256=912c995f20e676741f5a092b8335181384d0dc41448748083a853919874bf0cc\n",
            "  Stored in directory: /root/.cache/pip/wheels/80/1a/24/648467ade3a77ed20f35cfd2badd32134e96dd25ca811e64b3\n",
            "  Building wheel for visitor (setup.py) ... \u001b[?25l\u001b[?25hdone\n",
            "  Created wheel for visitor: filename=visitor-0.1.3-py3-none-any.whl size=3946 sha256=07d6f9f291406c97888c3527da85de8b43978fcfb93d3057bd600bbc6109db0a\n",
            "  Stored in directory: /root/.cache/pip/wheels/64/34/11/053f47218984c9a31a00f911ed98dda036b867481dcc527a12\n",
            "Successfully built Flask-Bootstrap markdown2 millify tabulate xhtml2pdf pyPdf2 visitor\n",
            "Installing collected packages: visitor, reportlab, pyPdf2, Flask, dominate, xhtml2pdf, tabulate, pyyaml, ohio, millify, markdown2, Flask-Bootstrap, altair, aequitas\n",
            "  Attempting uninstall: Flask\n",
            "    Found existing installation: Flask 1.1.4\n",
            "    Uninstalling Flask-1.1.4:\n",
            "      Successfully uninstalled Flask-1.1.4\n",
            "  Attempting uninstall: tabulate\n",
            "    Found existing installation: tabulate 0.8.9\n",
            "    Uninstalling tabulate-0.8.9:\n",
            "      Successfully uninstalled tabulate-0.8.9\n",
            "  Attempting uninstall: pyyaml\n",
            "    Found existing installation: PyYAML 3.13\n",
            "    Uninstalling PyYAML-3.13:\n",
            "      Successfully uninstalled PyYAML-3.13\n",
            "  Attempting uninstall: altair\n",
            "    Found existing installation: altair 4.2.0\n",
            "    Uninstalling altair-4.2.0:\n",
            "      Successfully uninstalled altair-4.2.0\n",
            "Successfully installed Flask-0.12.2 Flask-Bootstrap-3.3.7.1 aequitas-0.42.0 altair-4.1.0 dominate-2.6.0 markdown2-2.3.5 millify-0.1.1 ohio-0.5.0 pyPdf2-1.26.0 pyyaml-6.0 reportlab-3.6.9 tabulate-0.8.2 visitor-0.1.3 xhtml2pdf-0.2.2\n",
            "Collecting fairlearn==0.4.6\n",
            "  Downloading fairlearn-0.4.6-py3-none-any.whl (21.2 MB)\n",
            "\u001b[K     |████████████████████████████████| 21.2 MB 6.2 MB/s \n",
            "\u001b[?25hRequirement already satisfied: scipy>=1.3.1 in /usr/local/lib/python3.7/dist-packages (from fairlearn==0.4.6) (1.4.1)\n",
            "Requirement already satisfied: pandas>=0.25.1 in /usr/local/lib/python3.7/dist-packages (from fairlearn==0.4.6) (1.3.5)\n",
            "Requirement already satisfied: numpy>=1.17.2 in /usr/local/lib/python3.7/dist-packages (from fairlearn==0.4.6) (1.21.5)\n",
            "Requirement already satisfied: ipywidgets>=7.5.0 in /usr/local/lib/python3.7/dist-packages (from fairlearn==0.4.6) (7.7.0)\n",
            "Requirement already satisfied: scikit-learn>=0.22.1 in /usr/local/lib/python3.7/dist-packages (from fairlearn==0.4.6) (1.0.2)\n",
            "Requirement already satisfied: ipython>=4.0.0 in /usr/local/lib/python3.7/dist-packages (from ipywidgets>=7.5.0->fairlearn==0.4.6) (5.5.0)\n",
            "Requirement already satisfied: widgetsnbextension~=3.6.0 in /usr/local/lib/python3.7/dist-packages (from ipywidgets>=7.5.0->fairlearn==0.4.6) (3.6.0)\n",
            "Requirement already satisfied: ipython-genutils~=0.2.0 in /usr/local/lib/python3.7/dist-packages (from ipywidgets>=7.5.0->fairlearn==0.4.6) (0.2.0)\n",
            "Requirement already satisfied: traitlets>=4.3.1 in /usr/local/lib/python3.7/dist-packages (from ipywidgets>=7.5.0->fairlearn==0.4.6) (5.1.1)\n",
            "Requirement already satisfied: jupyterlab-widgets>=1.0.0 in /usr/local/lib/python3.7/dist-packages (from ipywidgets>=7.5.0->fairlearn==0.4.6) (1.1.0)\n",
            "Requirement already satisfied: ipykernel>=4.5.1 in /usr/local/lib/python3.7/dist-packages (from ipywidgets>=7.5.0->fairlearn==0.4.6) (4.10.1)\n",
            "Requirement already satisfied: nbformat>=4.2.0 in /usr/local/lib/python3.7/dist-packages (from ipywidgets>=7.5.0->fairlearn==0.4.6) (5.2.0)\n",
            "Requirement already satisfied: jupyter-client in /usr/local/lib/python3.7/dist-packages (from ipykernel>=4.5.1->ipywidgets>=7.5.0->fairlearn==0.4.6) (5.3.5)\n",
            "Requirement already satisfied: tornado>=4.0 in /usr/local/lib/python3.7/dist-packages (from ipykernel>=4.5.1->ipywidgets>=7.5.0->fairlearn==0.4.6) (5.1.1)\n",
            "Requirement already satisfied: simplegeneric>0.8 in /usr/local/lib/python3.7/dist-packages (from ipython>=4.0.0->ipywidgets>=7.5.0->fairlearn==0.4.6) (0.8.1)\n",
            "Requirement already satisfied: pygments in /usr/local/lib/python3.7/dist-packages (from ipython>=4.0.0->ipywidgets>=7.5.0->fairlearn==0.4.6) (2.6.1)\n",
            "Requirement already satisfied: pexpect in /usr/local/lib/python3.7/dist-packages (from ipython>=4.0.0->ipywidgets>=7.5.0->fairlearn==0.4.6) (4.8.0)\n",
            "Requirement already satisfied: decorator in /usr/local/lib/python3.7/dist-packages (from ipython>=4.0.0->ipywidgets>=7.5.0->fairlearn==0.4.6) (4.4.2)\n",
            "Requirement already satisfied: prompt-toolkit<2.0.0,>=1.0.4 in /usr/local/lib/python3.7/dist-packages (from ipython>=4.0.0->ipywidgets>=7.5.0->fairlearn==0.4.6) (1.0.18)\n",
            "Requirement already satisfied: setuptools>=18.5 in /usr/local/lib/python3.7/dist-packages (from ipython>=4.0.0->ipywidgets>=7.5.0->fairlearn==0.4.6) (57.4.0)\n",
            "Requirement already satisfied: pickleshare in /usr/local/lib/python3.7/dist-packages (from ipython>=4.0.0->ipywidgets>=7.5.0->fairlearn==0.4.6) (0.7.5)\n",
            "Requirement already satisfied: jupyter-core in /usr/local/lib/python3.7/dist-packages (from nbformat>=4.2.0->ipywidgets>=7.5.0->fairlearn==0.4.6) (4.9.2)\n",
            "Requirement already satisfied: jsonschema!=2.5.0,>=2.4 in /usr/local/lib/python3.7/dist-packages (from nbformat>=4.2.0->ipywidgets>=7.5.0->fairlearn==0.4.6) (4.3.3)\n",
            "Requirement already satisfied: pyrsistent!=0.17.0,!=0.17.1,!=0.17.2,>=0.14.0 in /usr/local/lib/python3.7/dist-packages (from jsonschema!=2.5.0,>=2.4->nbformat>=4.2.0->ipywidgets>=7.5.0->fairlearn==0.4.6) (0.18.1)\n",
            "Requirement already satisfied: attrs>=17.4.0 in /usr/local/lib/python3.7/dist-packages (from jsonschema!=2.5.0,>=2.4->nbformat>=4.2.0->ipywidgets>=7.5.0->fairlearn==0.4.6) (21.4.0)\n",
            "Requirement already satisfied: importlib-metadata in /usr/local/lib/python3.7/dist-packages (from jsonschema!=2.5.0,>=2.4->nbformat>=4.2.0->ipywidgets>=7.5.0->fairlearn==0.4.6) (4.11.3)\n",
            "Requirement already satisfied: importlib-resources>=1.4.0 in /usr/local/lib/python3.7/dist-packages (from jsonschema!=2.5.0,>=2.4->nbformat>=4.2.0->ipywidgets>=7.5.0->fairlearn==0.4.6) (5.4.0)\n",
            "Requirement already satisfied: typing-extensions in /usr/local/lib/python3.7/dist-packages (from jsonschema!=2.5.0,>=2.4->nbformat>=4.2.0->ipywidgets>=7.5.0->fairlearn==0.4.6) (3.10.0.2)\n",
            "Requirement already satisfied: zipp>=3.1.0 in /usr/local/lib/python3.7/dist-packages (from importlib-resources>=1.4.0->jsonschema!=2.5.0,>=2.4->nbformat>=4.2.0->ipywidgets>=7.5.0->fairlearn==0.4.6) (3.7.0)\n",
            "Requirement already satisfied: python-dateutil>=2.7.3 in /usr/local/lib/python3.7/dist-packages (from pandas>=0.25.1->fairlearn==0.4.6) (2.8.2)\n",
            "Requirement already satisfied: pytz>=2017.3 in /usr/local/lib/python3.7/dist-packages (from pandas>=0.25.1->fairlearn==0.4.6) (2018.9)\n",
            "Requirement already satisfied: wcwidth in /usr/local/lib/python3.7/dist-packages (from prompt-toolkit<2.0.0,>=1.0.4->ipython>=4.0.0->ipywidgets>=7.5.0->fairlearn==0.4.6) (0.2.5)\n",
            "Requirement already satisfied: six>=1.9.0 in /usr/local/lib/python3.7/dist-packages (from prompt-toolkit<2.0.0,>=1.0.4->ipython>=4.0.0->ipywidgets>=7.5.0->fairlearn==0.4.6) (1.15.0)\n",
            "Requirement already satisfied: joblib>=0.11 in /usr/local/lib/python3.7/dist-packages (from scikit-learn>=0.22.1->fairlearn==0.4.6) (1.1.0)\n",
            "Requirement already satisfied: threadpoolctl>=2.0.0 in /usr/local/lib/python3.7/dist-packages (from scikit-learn>=0.22.1->fairlearn==0.4.6) (3.1.0)\n",
            "Requirement already satisfied: notebook>=4.4.1 in /usr/local/lib/python3.7/dist-packages (from widgetsnbextension~=3.6.0->ipywidgets>=7.5.0->fairlearn==0.4.6) (5.3.1)\n",
            "Requirement already satisfied: terminado>=0.8.1 in /usr/local/lib/python3.7/dist-packages (from notebook>=4.4.1->widgetsnbextension~=3.6.0->ipywidgets>=7.5.0->fairlearn==0.4.6) (0.13.3)\n",
            "Requirement already satisfied: nbconvert in /usr/local/lib/python3.7/dist-packages (from notebook>=4.4.1->widgetsnbextension~=3.6.0->ipywidgets>=7.5.0->fairlearn==0.4.6) (5.6.1)\n",
            "Requirement already satisfied: jinja2 in /usr/local/lib/python3.7/dist-packages (from notebook>=4.4.1->widgetsnbextension~=3.6.0->ipywidgets>=7.5.0->fairlearn==0.4.6) (2.11.3)\n",
            "Requirement already satisfied: Send2Trash in /usr/local/lib/python3.7/dist-packages (from notebook>=4.4.1->widgetsnbextension~=3.6.0->ipywidgets>=7.5.0->fairlearn==0.4.6) (1.8.0)\n",
            "Requirement already satisfied: pyzmq>=13 in /usr/local/lib/python3.7/dist-packages (from jupyter-client->ipykernel>=4.5.1->ipywidgets>=7.5.0->fairlearn==0.4.6) (22.3.0)\n",
            "Requirement already satisfied: ptyprocess in /usr/local/lib/python3.7/dist-packages (from terminado>=0.8.1->notebook>=4.4.1->widgetsnbextension~=3.6.0->ipywidgets>=7.5.0->fairlearn==0.4.6) (0.7.0)\n",
            "Requirement already satisfied: MarkupSafe>=0.23 in /usr/local/lib/python3.7/dist-packages (from jinja2->notebook>=4.4.1->widgetsnbextension~=3.6.0->ipywidgets>=7.5.0->fairlearn==0.4.6) (2.0.1)\n",
            "Requirement already satisfied: bleach in /usr/local/lib/python3.7/dist-packages (from nbconvert->notebook>=4.4.1->widgetsnbextension~=3.6.0->ipywidgets>=7.5.0->fairlearn==0.4.6) (4.1.0)\n",
            "Requirement already satisfied: defusedxml in /usr/local/lib/python3.7/dist-packages (from nbconvert->notebook>=4.4.1->widgetsnbextension~=3.6.0->ipywidgets>=7.5.0->fairlearn==0.4.6) (0.7.1)\n",
            "Requirement already satisfied: mistune<2,>=0.8.1 in /usr/local/lib/python3.7/dist-packages (from nbconvert->notebook>=4.4.1->widgetsnbextension~=3.6.0->ipywidgets>=7.5.0->fairlearn==0.4.6) (0.8.4)\n",
            "Requirement already satisfied: entrypoints>=0.2.2 in /usr/local/lib/python3.7/dist-packages (from nbconvert->notebook>=4.4.1->widgetsnbextension~=3.6.0->ipywidgets>=7.5.0->fairlearn==0.4.6) (0.4)\n",
            "Requirement already satisfied: pandocfilters>=1.4.1 in /usr/local/lib/python3.7/dist-packages (from nbconvert->notebook>=4.4.1->widgetsnbextension~=3.6.0->ipywidgets>=7.5.0->fairlearn==0.4.6) (1.5.0)\n",
            "Requirement already satisfied: testpath in /usr/local/lib/python3.7/dist-packages (from nbconvert->notebook>=4.4.1->widgetsnbextension~=3.6.0->ipywidgets>=7.5.0->fairlearn==0.4.6) (0.6.0)\n",
            "Requirement already satisfied: packaging in /usr/local/lib/python3.7/dist-packages (from bleach->nbconvert->notebook>=4.4.1->widgetsnbextension~=3.6.0->ipywidgets>=7.5.0->fairlearn==0.4.6) (21.3)\n",
            "Requirement already satisfied: webencodings in /usr/local/lib/python3.7/dist-packages (from bleach->nbconvert->notebook>=4.4.1->widgetsnbextension~=3.6.0->ipywidgets>=7.5.0->fairlearn==0.4.6) (0.5.1)\n",
            "Requirement already satisfied: pyparsing!=3.0.5,>=2.0.2 in /usr/local/lib/python3.7/dist-packages (from packaging->bleach->nbconvert->notebook>=4.4.1->widgetsnbextension~=3.6.0->ipywidgets>=7.5.0->fairlearn==0.4.6) (3.0.7)\n",
            "Installing collected packages: fairlearn\n",
            "Successfully installed fairlearn-0.4.6\n"
          ]
        }
      ],
      "source": [
        "# packages not installed in colab\n",
        "!pip install aequitas==0.42.0\n",
        "!pip install fairlearn==0.4.6\n",
        "\n",
        "\n",
        "import yaml\n",
        "import os\n",
        "import math\n",
        "import pandas as pd\n",
        "import numpy as np\n",
        "import seaborn as sns\n",
        "from aequitas.group import Group\n",
        "from aequitas.bias import Bias\n",
        "from aequitas.fairness import Fairness\n",
        "import aequitas.plot as ap\n",
        "import matplotlib.pyplot as plt\n",
        "from sklearn.ensemble import RandomForestClassifier\n",
        "from sklearn.tree import DecisionTreeClassifier\n",
        "import fairlearn\n",
        "import warnings\n",
        "warnings.filterwarnings(\"ignore\")\n",
        "sns.set() \n",
        "DPI = 200\n",
        "DATAPATH = 'https://github.com/dssg/fairness_tutorial/raw/master/data/'"
      ]
    },
    {
      "cell_type": "markdown",
      "metadata": {
        "id": "5Hk52wg81I--"
      },
      "source": [
        "## What has already happened?\n",
        "\n",
        "We've already cleaned data, generated features, created train-test sets, built 1000s of models on each training set and scored each test set with them, and calculated various evaluation metrics. \n",
        "\n",
        "As described earlier, the goal here is to select top 1000 project submissions that are likely to not get funded in order to prioritize resource allocation. That corresponds to the metric **Precision at top 1000**.\n",
        "\n",
        "### <font color=red>We audited the \"best\" model at precision at top 1000 and found that it has disparities for True Positive Rate for all attributes that we care about (poverty_level of the school, sex, and school_location_type)</font>\n"
      ]
    },
    {
      "cell_type": "markdown",
      "metadata": {
        "id": "8om4FLvA1I-_"
      },
      "source": [
        "## What do we want to do now?\n",
        "\n",
        "1. Could we have picked a different model that was similar enough in \"precision at top 1000\" but less biased?\n"
      ]
    },
    {
      "cell_type": "markdown",
      "metadata": {
        "id": "WMCo3Jkk1I_A"
      },
      "source": [
        "## Load predictions, labels, and attributes for all models that were built to audit\n",
        "\n",
        "We have trained 400 models using random sampling of hyperparameters for the following algorithms: RandomForest, Logistic Regression, MLP and LightGBM. The `evals_df` contains a table with the performance metrics for each model on the holdout test set."
      ]
    },
    {
      "cell_type": "code",
      "execution_count": 2,
      "metadata": {
        "scrolled": true,
        "colab": {
          "base_uri": "https://localhost:8080/",
          "height": 809
        },
        "id": "IBXlp0vT1I_B",
        "outputId": "826b6766-fbd3-43ad-9115-fc221c61e9ed"
      },
      "outputs": [
        {
          "output_type": "execute_result",
          "data": {
            "text/plain": [
              "   model_precision                          model_classpath  \\\n",
              "0            0.552  sklearn.ensemble.RandomForestClassifier   \n",
              "1            0.551  sklearn.ensemble.RandomForestClassifier   \n",
              "2            0.550  sklearn.ensemble.RandomForestClassifier   \n",
              "3            0.549                  lightgbm.LGBMClassifier   \n",
              "4            0.548  sklearn.ensemble.RandomForestClassifier   \n",
              "5            0.547  sklearn.ensemble.RandomForestClassifier   \n",
              "6            0.544  sklearn.ensemble.RandomForestClassifier   \n",
              "7            0.544  sklearn.ensemble.RandomForestClassifier   \n",
              "8            0.543  sklearn.ensemble.RandomForestClassifier   \n",
              "9            0.543  sklearn.ensemble.RandomForestClassifier   \n",
              "\n",
              "                                     hyperparameters  \\\n",
              "0  {\"n_jobs\": -1, \"criterion\": \"gini\", \"max_depth...   \n",
              "1  {\"n_jobs\": -1, \"criterion\": \"gini\", \"max_depth...   \n",
              "2  {\"n_jobs\": -1, \"criterion\": \"gini\", \"max_depth...   \n",
              "3  {\"n_jobs\": -1, \"max_depth\": 2, \"num_leaves\": 5...   \n",
              "4  {\"n_jobs\": -1, \"criterion\": \"gini\", \"max_depth...   \n",
              "5  {\"n_jobs\": -1, \"criterion\": \"entropy\", \"max_de...   \n",
              "6  {\"n_jobs\": -1, \"criterion\": \"gini\", \"max_depth...   \n",
              "7  {\"n_jobs\": -1, \"criterion\": \"gini\", \"max_depth...   \n",
              "8  {\"n_jobs\": -1, \"criterion\": \"gini\", \"max_depth...   \n",
              "9  {\"n_jobs\": -1, \"criterion\": \"entropy\", \"max_de...   \n",
              "\n",
              "                         model_uuid                  predictions_uuid  \\\n",
              "0  a04e2eedd9c5ff18bcf77e84ae9db561  c598fbe93f4c218ac7d325fb478598f1   \n",
              "1  3f8f65db414b74ba1c4773e131bdb51d  2d8e4d82f4e67e1de1de8650a7838fc2   \n",
              "2  8823d053f9fbe6c34efdae3a2f24c39c  5e78e49f70fac0193eaadb8513428f23   \n",
              "3  ffc7abef4fe933b0f0cfed63d5d03910  f04edad1446642411085e84271898506   \n",
              "4  110d892ce37127a79d7c6e0eac9a5d13  09092f371176a13cddca59bac20da4fd   \n",
              "5  856a91cee8d3e81d35b0c7578d8459cb  dc9f61602f5c90b70aa8e6040eaf2972   \n",
              "6  9d582bc500e1d99e0949ec9d35ae8eb3  d3de1db6eed5cfab17d64d6a13e20c8d   \n",
              "7  bcc12af1a0ae151aabd5238e3a4fb242  eb671681600d5304fce6873004c61c50   \n",
              "8  7fa15e633491add493d45e9dc7440315  5bd60c3f912e6d62b9acf7b3a56ae803   \n",
              "9  da8d97ec5529f435974e238b1b29cf7f  4cd560dcb70bfe5bfef3ad1628eaba8a   \n",
              "\n",
              "   target_pp matrix_type matrix_start_date matrix_end_date  \n",
              "0       1000        test        2012-12-01      2013-01-31  \n",
              "1       1000        test        2012-12-01      2013-01-31  \n",
              "2       1000        test        2012-12-01      2013-01-31  \n",
              "3       1000        test        2012-12-01      2013-01-31  \n",
              "4       1000        test        2012-12-01      2013-01-31  \n",
              "5       1000        test        2012-12-01      2013-01-31  \n",
              "6       1000        test        2012-12-01      2013-01-31  \n",
              "7       1000        test        2012-12-01      2013-01-31  \n",
              "8       1000        test        2012-12-01      2013-01-31  \n",
              "9       1000        test        2012-12-01      2013-01-31  "
            ],
            "text/html": [
              "\n",
              "  <div id=\"df-6c6f5419-4bdb-404b-83a9-bcf4fc1785e5\">\n",
              "    <div class=\"colab-df-container\">\n",
              "      <div>\n",
              "<style scoped>\n",
              "    .dataframe tbody tr th:only-of-type {\n",
              "        vertical-align: middle;\n",
              "    }\n",
              "\n",
              "    .dataframe tbody tr th {\n",
              "        vertical-align: top;\n",
              "    }\n",
              "\n",
              "    .dataframe thead th {\n",
              "        text-align: right;\n",
              "    }\n",
              "</style>\n",
              "<table border=\"1\" class=\"dataframe\">\n",
              "  <thead>\n",
              "    <tr style=\"text-align: right;\">\n",
              "      <th></th>\n",
              "      <th>model_precision</th>\n",
              "      <th>model_classpath</th>\n",
              "      <th>hyperparameters</th>\n",
              "      <th>model_uuid</th>\n",
              "      <th>predictions_uuid</th>\n",
              "      <th>target_pp</th>\n",
              "      <th>matrix_type</th>\n",
              "      <th>matrix_start_date</th>\n",
              "      <th>matrix_end_date</th>\n",
              "    </tr>\n",
              "  </thead>\n",
              "  <tbody>\n",
              "    <tr>\n",
              "      <th>0</th>\n",
              "      <td>0.552</td>\n",
              "      <td>sklearn.ensemble.RandomForestClassifier</td>\n",
              "      <td>{\"n_jobs\": -1, \"criterion\": \"gini\", \"max_depth...</td>\n",
              "      <td>a04e2eedd9c5ff18bcf77e84ae9db561</td>\n",
              "      <td>c598fbe93f4c218ac7d325fb478598f1</td>\n",
              "      <td>1000</td>\n",
              "      <td>test</td>\n",
              "      <td>2012-12-01</td>\n",
              "      <td>2013-01-31</td>\n",
              "    </tr>\n",
              "    <tr>\n",
              "      <th>1</th>\n",
              "      <td>0.551</td>\n",
              "      <td>sklearn.ensemble.RandomForestClassifier</td>\n",
              "      <td>{\"n_jobs\": -1, \"criterion\": \"gini\", \"max_depth...</td>\n",
              "      <td>3f8f65db414b74ba1c4773e131bdb51d</td>\n",
              "      <td>2d8e4d82f4e67e1de1de8650a7838fc2</td>\n",
              "      <td>1000</td>\n",
              "      <td>test</td>\n",
              "      <td>2012-12-01</td>\n",
              "      <td>2013-01-31</td>\n",
              "    </tr>\n",
              "    <tr>\n",
              "      <th>2</th>\n",
              "      <td>0.550</td>\n",
              "      <td>sklearn.ensemble.RandomForestClassifier</td>\n",
              "      <td>{\"n_jobs\": -1, \"criterion\": \"gini\", \"max_depth...</td>\n",
              "      <td>8823d053f9fbe6c34efdae3a2f24c39c</td>\n",
              "      <td>5e78e49f70fac0193eaadb8513428f23</td>\n",
              "      <td>1000</td>\n",
              "      <td>test</td>\n",
              "      <td>2012-12-01</td>\n",
              "      <td>2013-01-31</td>\n",
              "    </tr>\n",
              "    <tr>\n",
              "      <th>3</th>\n",
              "      <td>0.549</td>\n",
              "      <td>lightgbm.LGBMClassifier</td>\n",
              "      <td>{\"n_jobs\": -1, \"max_depth\": 2, \"num_leaves\": 5...</td>\n",
              "      <td>ffc7abef4fe933b0f0cfed63d5d03910</td>\n",
              "      <td>f04edad1446642411085e84271898506</td>\n",
              "      <td>1000</td>\n",
              "      <td>test</td>\n",
              "      <td>2012-12-01</td>\n",
              "      <td>2013-01-31</td>\n",
              "    </tr>\n",
              "    <tr>\n",
              "      <th>4</th>\n",
              "      <td>0.548</td>\n",
              "      <td>sklearn.ensemble.RandomForestClassifier</td>\n",
              "      <td>{\"n_jobs\": -1, \"criterion\": \"gini\", \"max_depth...</td>\n",
              "      <td>110d892ce37127a79d7c6e0eac9a5d13</td>\n",
              "      <td>09092f371176a13cddca59bac20da4fd</td>\n",
              "      <td>1000</td>\n",
              "      <td>test</td>\n",
              "      <td>2012-12-01</td>\n",
              "      <td>2013-01-31</td>\n",
              "    </tr>\n",
              "    <tr>\n",
              "      <th>5</th>\n",
              "      <td>0.547</td>\n",
              "      <td>sklearn.ensemble.RandomForestClassifier</td>\n",
              "      <td>{\"n_jobs\": -1, \"criterion\": \"entropy\", \"max_de...</td>\n",
              "      <td>856a91cee8d3e81d35b0c7578d8459cb</td>\n",
              "      <td>dc9f61602f5c90b70aa8e6040eaf2972</td>\n",
              "      <td>1000</td>\n",
              "      <td>test</td>\n",
              "      <td>2012-12-01</td>\n",
              "      <td>2013-01-31</td>\n",
              "    </tr>\n",
              "    <tr>\n",
              "      <th>6</th>\n",
              "      <td>0.544</td>\n",
              "      <td>sklearn.ensemble.RandomForestClassifier</td>\n",
              "      <td>{\"n_jobs\": -1, \"criterion\": \"gini\", \"max_depth...</td>\n",
              "      <td>9d582bc500e1d99e0949ec9d35ae8eb3</td>\n",
              "      <td>d3de1db6eed5cfab17d64d6a13e20c8d</td>\n",
              "      <td>1000</td>\n",
              "      <td>test</td>\n",
              "      <td>2012-12-01</td>\n",
              "      <td>2013-01-31</td>\n",
              "    </tr>\n",
              "    <tr>\n",
              "      <th>7</th>\n",
              "      <td>0.544</td>\n",
              "      <td>sklearn.ensemble.RandomForestClassifier</td>\n",
              "      <td>{\"n_jobs\": -1, \"criterion\": \"gini\", \"max_depth...</td>\n",
              "      <td>bcc12af1a0ae151aabd5238e3a4fb242</td>\n",
              "      <td>eb671681600d5304fce6873004c61c50</td>\n",
              "      <td>1000</td>\n",
              "      <td>test</td>\n",
              "      <td>2012-12-01</td>\n",
              "      <td>2013-01-31</td>\n",
              "    </tr>\n",
              "    <tr>\n",
              "      <th>8</th>\n",
              "      <td>0.543</td>\n",
              "      <td>sklearn.ensemble.RandomForestClassifier</td>\n",
              "      <td>{\"n_jobs\": -1, \"criterion\": \"gini\", \"max_depth...</td>\n",
              "      <td>7fa15e633491add493d45e9dc7440315</td>\n",
              "      <td>5bd60c3f912e6d62b9acf7b3a56ae803</td>\n",
              "      <td>1000</td>\n",
              "      <td>test</td>\n",
              "      <td>2012-12-01</td>\n",
              "      <td>2013-01-31</td>\n",
              "    </tr>\n",
              "    <tr>\n",
              "      <th>9</th>\n",
              "      <td>0.543</td>\n",
              "      <td>sklearn.ensemble.RandomForestClassifier</td>\n",
              "      <td>{\"n_jobs\": -1, \"criterion\": \"entropy\", \"max_de...</td>\n",
              "      <td>da8d97ec5529f435974e238b1b29cf7f</td>\n",
              "      <td>4cd560dcb70bfe5bfef3ad1628eaba8a</td>\n",
              "      <td>1000</td>\n",
              "      <td>test</td>\n",
              "      <td>2012-12-01</td>\n",
              "      <td>2013-01-31</td>\n",
              "    </tr>\n",
              "  </tbody>\n",
              "</table>\n",
              "</div>\n",
              "      <button class=\"colab-df-convert\" onclick=\"convertToInteractive('df-6c6f5419-4bdb-404b-83a9-bcf4fc1785e5')\"\n",
              "              title=\"Convert this dataframe to an interactive table.\"\n",
              "              style=\"display:none;\">\n",
              "        \n",
              "  <svg xmlns=\"http://www.w3.org/2000/svg\" height=\"24px\"viewBox=\"0 0 24 24\"\n",
              "       width=\"24px\">\n",
              "    <path d=\"M0 0h24v24H0V0z\" fill=\"none\"/>\n",
              "    <path d=\"M18.56 5.44l.94 2.06.94-2.06 2.06-.94-2.06-.94-.94-2.06-.94 2.06-2.06.94zm-11 1L8.5 8.5l.94-2.06 2.06-.94-2.06-.94L8.5 2.5l-.94 2.06-2.06.94zm10 10l.94 2.06.94-2.06 2.06-.94-2.06-.94-.94-2.06-.94 2.06-2.06.94z\"/><path d=\"M17.41 7.96l-1.37-1.37c-.4-.4-.92-.59-1.43-.59-.52 0-1.04.2-1.43.59L10.3 9.45l-7.72 7.72c-.78.78-.78 2.05 0 2.83L4 21.41c.39.39.9.59 1.41.59.51 0 1.02-.2 1.41-.59l7.78-7.78 2.81-2.81c.8-.78.8-2.07 0-2.86zM5.41 20L4 18.59l7.72-7.72 1.47 1.35L5.41 20z\"/>\n",
              "  </svg>\n",
              "      </button>\n",
              "      \n",
              "  <style>\n",
              "    .colab-df-container {\n",
              "      display:flex;\n",
              "      flex-wrap:wrap;\n",
              "      gap: 12px;\n",
              "    }\n",
              "\n",
              "    .colab-df-convert {\n",
              "      background-color: #E8F0FE;\n",
              "      border: none;\n",
              "      border-radius: 50%;\n",
              "      cursor: pointer;\n",
              "      display: none;\n",
              "      fill: #1967D2;\n",
              "      height: 32px;\n",
              "      padding: 0 0 0 0;\n",
              "      width: 32px;\n",
              "    }\n",
              "\n",
              "    .colab-df-convert:hover {\n",
              "      background-color: #E2EBFA;\n",
              "      box-shadow: 0px 1px 2px rgba(60, 64, 67, 0.3), 0px 1px 3px 1px rgba(60, 64, 67, 0.15);\n",
              "      fill: #174EA6;\n",
              "    }\n",
              "\n",
              "    [theme=dark] .colab-df-convert {\n",
              "      background-color: #3B4455;\n",
              "      fill: #D2E3FC;\n",
              "    }\n",
              "\n",
              "    [theme=dark] .colab-df-convert:hover {\n",
              "      background-color: #434B5C;\n",
              "      box-shadow: 0px 1px 3px 1px rgba(0, 0, 0, 0.15);\n",
              "      filter: drop-shadow(0px 1px 2px rgba(0, 0, 0, 0.3));\n",
              "      fill: #FFFFFF;\n",
              "    }\n",
              "  </style>\n",
              "\n",
              "      <script>\n",
              "        const buttonEl =\n",
              "          document.querySelector('#df-6c6f5419-4bdb-404b-83a9-bcf4fc1785e5 button.colab-df-convert');\n",
              "        buttonEl.style.display =\n",
              "          google.colab.kernel.accessAllowed ? 'block' : 'none';\n",
              "\n",
              "        async function convertToInteractive(key) {\n",
              "          const element = document.querySelector('#df-6c6f5419-4bdb-404b-83a9-bcf4fc1785e5');\n",
              "          const dataTable =\n",
              "            await google.colab.kernel.invokeFunction('convertToInteractive',\n",
              "                                                     [key], {});\n",
              "          if (!dataTable) return;\n",
              "\n",
              "          const docLinkHtml = 'Like what you see? Visit the ' +\n",
              "            '<a target=\"_blank\" href=https://colab.research.google.com/notebooks/data_table.ipynb>data table notebook</a>'\n",
              "            + ' to learn more about interactive tables.';\n",
              "          element.innerHTML = '';\n",
              "          dataTable['output_type'] = 'display_data';\n",
              "          await google.colab.output.renderOutput(dataTable, element);\n",
              "          const docLink = document.createElement('div');\n",
              "          docLink.innerHTML = docLinkHtml;\n",
              "          element.appendChild(docLink);\n",
              "        }\n",
              "      </script>\n",
              "    </div>\n",
              "  </div>\n",
              "  "
            ]
          },
          "metadata": {},
          "execution_count": 2
        }
      ],
      "source": [
        "evals_df = pd.read_csv(DATAPATH +'split2_evals.csv.gz', compression='gzip')\n",
        "# Let's sort the models by Precision at top 1000 predicted positives (our performance metric of interest for this case study)\n",
        "evals_df.sort_values('model_precision', ascending = False)\n",
        "evals_df.head(10)"
      ]
    },
    {
      "cell_type": "markdown",
      "metadata": {
        "id": "RZ5JsDmG1I_C"
      },
      "source": [
        "### Spot-check the model with highest precision at 1000 to see what type it is"
      ]
    },
    {
      "cell_type": "code",
      "execution_count": 3,
      "metadata": {
        "colab": {
          "base_uri": "https://localhost:8080/"
        },
        "id": "1HKOfm-m1I_D",
        "outputId": "e1ae8fcb-33ec-4439-aaba-db4acfd635e6"
      },
      "outputs": [
        {
          "output_type": "stream",
          "name": "stdout",
          "text": [
            "Highest precision model classpath and hyperparameters: \n",
            "\n",
            " sklearn.ensemble.RandomForestClassifier \n",
            " {\"n_jobs\": -1, \"criterion\": \"gini\", \"max_depth\": 30, \"max_features\": \"sqrt\", \"n_estimators\": 87, \"random_state\": 213500298, \"min_samples_leaf\": 44, \"min_samples_split\": 3}\n"
          ]
        }
      ],
      "source": [
        "print('Highest precision model classpath and hyperparameters: \\n\\n' , evals_df['model_classpath'][0], '\\n', evals_df['hyperparameters'][0])"
      ]
    },
    {
      "cell_type": "markdown",
      "metadata": {
        "id": "wqU5d2de1I_E"
      },
      "source": [
        "## Load pre-computed Aequitas audit results \n",
        "\n",
        "The `aequitas_df` contains a table with the bias audit results for the 400 models for all the attributes we care about (we pre-selected the metrics of interest for this tutorial). "
      ]
    },
    {
      "cell_type": "code",
      "execution_count": 4,
      "metadata": {
        "colab": {
          "base_uri": "https://localhost:8080/",
          "height": 427
        },
        "id": "ukcfQUwh1I_F",
        "outputId": "35d956a7-11e1-4133-f82c-5aa255df7a12"
      },
      "outputs": [
        {
          "output_type": "execute_result",
          "data": {
            "text/plain": [
              "                         model_uuid                  predictions_uuid     k  \\\n",
              "0  a04e2eedd9c5ff18bcf77e84ae9db561  c598fbe93f4c218ac7d325fb478598f1  1000   \n",
              "1  a04e2eedd9c5ff18bcf77e84ae9db561  c598fbe93f4c218ac7d325fb478598f1  1000   \n",
              "2  a04e2eedd9c5ff18bcf77e84ae9db561  c598fbe93f4c218ac7d325fb478598f1  1000   \n",
              "3  a04e2eedd9c5ff18bcf77e84ae9db561  c598fbe93f4c218ac7d325fb478598f1  1000   \n",
              "4  a04e2eedd9c5ff18bcf77e84ae9db561  c598fbe93f4c218ac7d325fb478598f1  1000   \n",
              "5  a04e2eedd9c5ff18bcf77e84ae9db561  c598fbe93f4c218ac7d325fb478598f1  1000   \n",
              "6  3f8f65db414b74ba1c4773e131bdb51d  2d8e4d82f4e67e1de1de8650a7838fc2  1000   \n",
              "7  3f8f65db414b74ba1c4773e131bdb51d  2d8e4d82f4e67e1de1de8650a7838fc2  1000   \n",
              "8  3f8f65db414b74ba1c4773e131bdb51d  2d8e4d82f4e67e1de1de8650a7838fc2  1000   \n",
              "9  3f8f65db414b74ba1c4773e131bdb51d  2d8e4d82f4e67e1de1de8650a7838fc2  1000   \n",
              "\n",
              "  attribute_name attribute_value       tpr  tpr_disparity tpr_ref_group_value  \\\n",
              "0     metro_type  suburban_rural  0.139156       1.000000      suburban_rural   \n",
              "1     metro_type           urban  0.042674       0.306665      suburban_rural   \n",
              "2    teacher_sex          female  0.102390       3.370670                male   \n",
              "3  poverty_level           lower  0.137859       1.000000               lower   \n",
              "4  poverty_level         highest  0.050771       0.368285               lower   \n",
              "5    teacher_sex            male  0.030377       1.000000                male   \n",
              "6  poverty_level           lower  0.149405       1.000000               lower   \n",
              "7  poverty_level         highest  0.039846       0.266696               lower   \n",
              "8    teacher_sex          female  0.101613       2.986684                male   \n",
              "9    teacher_sex            male  0.034022       1.000000                male   \n",
              "\n",
              "    pp   tp  group_label_pos      prev  group_size matrix_type  \\\n",
              "0  626  333             2393  0.367814        6506        test   \n",
              "1  192  120             2812  0.308502        9115        test   \n",
              "2  951  527             5147  0.341019       15093        test   \n",
              "3  753  394             2858  0.370976        7704        test   \n",
              "4  247  158             3112  0.312043        9973        test   \n",
              "5   49   25              823  0.318498        2584        test   \n",
              "6  805  427             2858  0.370976        7704        test   \n",
              "7  195  124             3112  0.312043        9973        test   \n",
              "8  944  523             5147  0.341019       15093        test   \n",
              "9   56   28              823  0.318498        2584        test   \n",
              "\n",
              "  matrix_start_date matrix_end_date  \n",
              "0        2012-12-01      2013-01-31  \n",
              "1        2012-12-01      2013-01-31  \n",
              "2        2012-12-01      2013-01-31  \n",
              "3        2012-12-01      2013-01-31  \n",
              "4        2012-12-01      2013-01-31  \n",
              "5        2012-12-01      2013-01-31  \n",
              "6        2012-12-01      2013-01-31  \n",
              "7        2012-12-01      2013-01-31  \n",
              "8        2012-12-01      2013-01-31  \n",
              "9        2012-12-01      2013-01-31  "
            ],
            "text/html": [
              "\n",
              "  <div id=\"df-78b51ba8-0087-40e5-9e88-154e3c9e78a3\">\n",
              "    <div class=\"colab-df-container\">\n",
              "      <div>\n",
              "<style scoped>\n",
              "    .dataframe tbody tr th:only-of-type {\n",
              "        vertical-align: middle;\n",
              "    }\n",
              "\n",
              "    .dataframe tbody tr th {\n",
              "        vertical-align: top;\n",
              "    }\n",
              "\n",
              "    .dataframe thead th {\n",
              "        text-align: right;\n",
              "    }\n",
              "</style>\n",
              "<table border=\"1\" class=\"dataframe\">\n",
              "  <thead>\n",
              "    <tr style=\"text-align: right;\">\n",
              "      <th></th>\n",
              "      <th>model_uuid</th>\n",
              "      <th>predictions_uuid</th>\n",
              "      <th>k</th>\n",
              "      <th>attribute_name</th>\n",
              "      <th>attribute_value</th>\n",
              "      <th>tpr</th>\n",
              "      <th>tpr_disparity</th>\n",
              "      <th>tpr_ref_group_value</th>\n",
              "      <th>pp</th>\n",
              "      <th>tp</th>\n",
              "      <th>group_label_pos</th>\n",
              "      <th>prev</th>\n",
              "      <th>group_size</th>\n",
              "      <th>matrix_type</th>\n",
              "      <th>matrix_start_date</th>\n",
              "      <th>matrix_end_date</th>\n",
              "    </tr>\n",
              "  </thead>\n",
              "  <tbody>\n",
              "    <tr>\n",
              "      <th>0</th>\n",
              "      <td>a04e2eedd9c5ff18bcf77e84ae9db561</td>\n",
              "      <td>c598fbe93f4c218ac7d325fb478598f1</td>\n",
              "      <td>1000</td>\n",
              "      <td>metro_type</td>\n",
              "      <td>suburban_rural</td>\n",
              "      <td>0.139156</td>\n",
              "      <td>1.000000</td>\n",
              "      <td>suburban_rural</td>\n",
              "      <td>626</td>\n",
              "      <td>333</td>\n",
              "      <td>2393</td>\n",
              "      <td>0.367814</td>\n",
              "      <td>6506</td>\n",
              "      <td>test</td>\n",
              "      <td>2012-12-01</td>\n",
              "      <td>2013-01-31</td>\n",
              "    </tr>\n",
              "    <tr>\n",
              "      <th>1</th>\n",
              "      <td>a04e2eedd9c5ff18bcf77e84ae9db561</td>\n",
              "      <td>c598fbe93f4c218ac7d325fb478598f1</td>\n",
              "      <td>1000</td>\n",
              "      <td>metro_type</td>\n",
              "      <td>urban</td>\n",
              "      <td>0.042674</td>\n",
              "      <td>0.306665</td>\n",
              "      <td>suburban_rural</td>\n",
              "      <td>192</td>\n",
              "      <td>120</td>\n",
              "      <td>2812</td>\n",
              "      <td>0.308502</td>\n",
              "      <td>9115</td>\n",
              "      <td>test</td>\n",
              "      <td>2012-12-01</td>\n",
              "      <td>2013-01-31</td>\n",
              "    </tr>\n",
              "    <tr>\n",
              "      <th>2</th>\n",
              "      <td>a04e2eedd9c5ff18bcf77e84ae9db561</td>\n",
              "      <td>c598fbe93f4c218ac7d325fb478598f1</td>\n",
              "      <td>1000</td>\n",
              "      <td>teacher_sex</td>\n",
              "      <td>female</td>\n",
              "      <td>0.102390</td>\n",
              "      <td>3.370670</td>\n",
              "      <td>male</td>\n",
              "      <td>951</td>\n",
              "      <td>527</td>\n",
              "      <td>5147</td>\n",
              "      <td>0.341019</td>\n",
              "      <td>15093</td>\n",
              "      <td>test</td>\n",
              "      <td>2012-12-01</td>\n",
              "      <td>2013-01-31</td>\n",
              "    </tr>\n",
              "    <tr>\n",
              "      <th>3</th>\n",
              "      <td>a04e2eedd9c5ff18bcf77e84ae9db561</td>\n",
              "      <td>c598fbe93f4c218ac7d325fb478598f1</td>\n",
              "      <td>1000</td>\n",
              "      <td>poverty_level</td>\n",
              "      <td>lower</td>\n",
              "      <td>0.137859</td>\n",
              "      <td>1.000000</td>\n",
              "      <td>lower</td>\n",
              "      <td>753</td>\n",
              "      <td>394</td>\n",
              "      <td>2858</td>\n",
              "      <td>0.370976</td>\n",
              "      <td>7704</td>\n",
              "      <td>test</td>\n",
              "      <td>2012-12-01</td>\n",
              "      <td>2013-01-31</td>\n",
              "    </tr>\n",
              "    <tr>\n",
              "      <th>4</th>\n",
              "      <td>a04e2eedd9c5ff18bcf77e84ae9db561</td>\n",
              "      <td>c598fbe93f4c218ac7d325fb478598f1</td>\n",
              "      <td>1000</td>\n",
              "      <td>poverty_level</td>\n",
              "      <td>highest</td>\n",
              "      <td>0.050771</td>\n",
              "      <td>0.368285</td>\n",
              "      <td>lower</td>\n",
              "      <td>247</td>\n",
              "      <td>158</td>\n",
              "      <td>3112</td>\n",
              "      <td>0.312043</td>\n",
              "      <td>9973</td>\n",
              "      <td>test</td>\n",
              "      <td>2012-12-01</td>\n",
              "      <td>2013-01-31</td>\n",
              "    </tr>\n",
              "    <tr>\n",
              "      <th>5</th>\n",
              "      <td>a04e2eedd9c5ff18bcf77e84ae9db561</td>\n",
              "      <td>c598fbe93f4c218ac7d325fb478598f1</td>\n",
              "      <td>1000</td>\n",
              "      <td>teacher_sex</td>\n",
              "      <td>male</td>\n",
              "      <td>0.030377</td>\n",
              "      <td>1.000000</td>\n",
              "      <td>male</td>\n",
              "      <td>49</td>\n",
              "      <td>25</td>\n",
              "      <td>823</td>\n",
              "      <td>0.318498</td>\n",
              "      <td>2584</td>\n",
              "      <td>test</td>\n",
              "      <td>2012-12-01</td>\n",
              "      <td>2013-01-31</td>\n",
              "    </tr>\n",
              "    <tr>\n",
              "      <th>6</th>\n",
              "      <td>3f8f65db414b74ba1c4773e131bdb51d</td>\n",
              "      <td>2d8e4d82f4e67e1de1de8650a7838fc2</td>\n",
              "      <td>1000</td>\n",
              "      <td>poverty_level</td>\n",
              "      <td>lower</td>\n",
              "      <td>0.149405</td>\n",
              "      <td>1.000000</td>\n",
              "      <td>lower</td>\n",
              "      <td>805</td>\n",
              "      <td>427</td>\n",
              "      <td>2858</td>\n",
              "      <td>0.370976</td>\n",
              "      <td>7704</td>\n",
              "      <td>test</td>\n",
              "      <td>2012-12-01</td>\n",
              "      <td>2013-01-31</td>\n",
              "    </tr>\n",
              "    <tr>\n",
              "      <th>7</th>\n",
              "      <td>3f8f65db414b74ba1c4773e131bdb51d</td>\n",
              "      <td>2d8e4d82f4e67e1de1de8650a7838fc2</td>\n",
              "      <td>1000</td>\n",
              "      <td>poverty_level</td>\n",
              "      <td>highest</td>\n",
              "      <td>0.039846</td>\n",
              "      <td>0.266696</td>\n",
              "      <td>lower</td>\n",
              "      <td>195</td>\n",
              "      <td>124</td>\n",
              "      <td>3112</td>\n",
              "      <td>0.312043</td>\n",
              "      <td>9973</td>\n",
              "      <td>test</td>\n",
              "      <td>2012-12-01</td>\n",
              "      <td>2013-01-31</td>\n",
              "    </tr>\n",
              "    <tr>\n",
              "      <th>8</th>\n",
              "      <td>3f8f65db414b74ba1c4773e131bdb51d</td>\n",
              "      <td>2d8e4d82f4e67e1de1de8650a7838fc2</td>\n",
              "      <td>1000</td>\n",
              "      <td>teacher_sex</td>\n",
              "      <td>female</td>\n",
              "      <td>0.101613</td>\n",
              "      <td>2.986684</td>\n",
              "      <td>male</td>\n",
              "      <td>944</td>\n",
              "      <td>523</td>\n",
              "      <td>5147</td>\n",
              "      <td>0.341019</td>\n",
              "      <td>15093</td>\n",
              "      <td>test</td>\n",
              "      <td>2012-12-01</td>\n",
              "      <td>2013-01-31</td>\n",
              "    </tr>\n",
              "    <tr>\n",
              "      <th>9</th>\n",
              "      <td>3f8f65db414b74ba1c4773e131bdb51d</td>\n",
              "      <td>2d8e4d82f4e67e1de1de8650a7838fc2</td>\n",
              "      <td>1000</td>\n",
              "      <td>teacher_sex</td>\n",
              "      <td>male</td>\n",
              "      <td>0.034022</td>\n",
              "      <td>1.000000</td>\n",
              "      <td>male</td>\n",
              "      <td>56</td>\n",
              "      <td>28</td>\n",
              "      <td>823</td>\n",
              "      <td>0.318498</td>\n",
              "      <td>2584</td>\n",
              "      <td>test</td>\n",
              "      <td>2012-12-01</td>\n",
              "      <td>2013-01-31</td>\n",
              "    </tr>\n",
              "  </tbody>\n",
              "</table>\n",
              "</div>\n",
              "      <button class=\"colab-df-convert\" onclick=\"convertToInteractive('df-78b51ba8-0087-40e5-9e88-154e3c9e78a3')\"\n",
              "              title=\"Convert this dataframe to an interactive table.\"\n",
              "              style=\"display:none;\">\n",
              "        \n",
              "  <svg xmlns=\"http://www.w3.org/2000/svg\" height=\"24px\"viewBox=\"0 0 24 24\"\n",
              "       width=\"24px\">\n",
              "    <path d=\"M0 0h24v24H0V0z\" fill=\"none\"/>\n",
              "    <path d=\"M18.56 5.44l.94 2.06.94-2.06 2.06-.94-2.06-.94-.94-2.06-.94 2.06-2.06.94zm-11 1L8.5 8.5l.94-2.06 2.06-.94-2.06-.94L8.5 2.5l-.94 2.06-2.06.94zm10 10l.94 2.06.94-2.06 2.06-.94-2.06-.94-.94-2.06-.94 2.06-2.06.94z\"/><path d=\"M17.41 7.96l-1.37-1.37c-.4-.4-.92-.59-1.43-.59-.52 0-1.04.2-1.43.59L10.3 9.45l-7.72 7.72c-.78.78-.78 2.05 0 2.83L4 21.41c.39.39.9.59 1.41.59.51 0 1.02-.2 1.41-.59l7.78-7.78 2.81-2.81c.8-.78.8-2.07 0-2.86zM5.41 20L4 18.59l7.72-7.72 1.47 1.35L5.41 20z\"/>\n",
              "  </svg>\n",
              "      </button>\n",
              "      \n",
              "  <style>\n",
              "    .colab-df-container {\n",
              "      display:flex;\n",
              "      flex-wrap:wrap;\n",
              "      gap: 12px;\n",
              "    }\n",
              "\n",
              "    .colab-df-convert {\n",
              "      background-color: #E8F0FE;\n",
              "      border: none;\n",
              "      border-radius: 50%;\n",
              "      cursor: pointer;\n",
              "      display: none;\n",
              "      fill: #1967D2;\n",
              "      height: 32px;\n",
              "      padding: 0 0 0 0;\n",
              "      width: 32px;\n",
              "    }\n",
              "\n",
              "    .colab-df-convert:hover {\n",
              "      background-color: #E2EBFA;\n",
              "      box-shadow: 0px 1px 2px rgba(60, 64, 67, 0.3), 0px 1px 3px 1px rgba(60, 64, 67, 0.15);\n",
              "      fill: #174EA6;\n",
              "    }\n",
              "\n",
              "    [theme=dark] .colab-df-convert {\n",
              "      background-color: #3B4455;\n",
              "      fill: #D2E3FC;\n",
              "    }\n",
              "\n",
              "    [theme=dark] .colab-df-convert:hover {\n",
              "      background-color: #434B5C;\n",
              "      box-shadow: 0px 1px 3px 1px rgba(0, 0, 0, 0.15);\n",
              "      filter: drop-shadow(0px 1px 2px rgba(0, 0, 0, 0.3));\n",
              "      fill: #FFFFFF;\n",
              "    }\n",
              "  </style>\n",
              "\n",
              "      <script>\n",
              "        const buttonEl =\n",
              "          document.querySelector('#df-78b51ba8-0087-40e5-9e88-154e3c9e78a3 button.colab-df-convert');\n",
              "        buttonEl.style.display =\n",
              "          google.colab.kernel.accessAllowed ? 'block' : 'none';\n",
              "\n",
              "        async function convertToInteractive(key) {\n",
              "          const element = document.querySelector('#df-78b51ba8-0087-40e5-9e88-154e3c9e78a3');\n",
              "          const dataTable =\n",
              "            await google.colab.kernel.invokeFunction('convertToInteractive',\n",
              "                                                     [key], {});\n",
              "          if (!dataTable) return;\n",
              "\n",
              "          const docLinkHtml = 'Like what you see? Visit the ' +\n",
              "            '<a target=\"_blank\" href=https://colab.research.google.com/notebooks/data_table.ipynb>data table notebook</a>'\n",
              "            + ' to learn more about interactive tables.';\n",
              "          element.innerHTML = '';\n",
              "          dataTable['output_type'] = 'display_data';\n",
              "          await google.colab.output.renderOutput(dataTable, element);\n",
              "          const docLink = document.createElement('div');\n",
              "          docLink.innerHTML = docLinkHtml;\n",
              "          element.appendChild(docLink);\n",
              "        }\n",
              "      </script>\n",
              "    </div>\n",
              "  </div>\n",
              "  "
            ]
          },
          "metadata": {},
          "execution_count": 4
        }
      ],
      "source": [
        "aequitas_df = pd.read_csv(DATAPATH + 'split2_aequitas.csv.gz', compression='gzip')\n",
        "aequitas_df.head(10)"
      ]
    },
    {
      "cell_type": "markdown",
      "metadata": {
        "id": "jfmto3xS1I_F"
      },
      "source": [
        "Combining the `evals_df` with the `aequitas_df` allow us to get a clearer picture how the different models compare with each other in both performance and bias of our groups of interest. \n",
        "\n",
        "The `create_scatter_disparity_performance` method will help us to easily plot the 400 models bias-performance tradeoffs and it's going to be used throughout the notebook."
      ]
    },
    {
      "cell_type": "code",
      "execution_count": 5,
      "metadata": {
        "id": "ohtdkw-J1I_H"
      },
      "outputs": [],
      "source": [
        "def create_scatter_disparity_performance(evals_df, aequitas_df,  attr_col, group_name, \n",
        "                                         performance_col='model_precision', bias_metric='tpr', flip_disparity=False, \n",
        "                                         mitigated_tags=[], mitigated_bdfs=[], mitigated_performances=[], ylim=None):\n",
        "    disparity_df = aequitas_df.loc[(aequitas_df['attribute_name']==attr_col) & (aequitas_df['attribute_value']==group_name)].copy()\n",
        "    disparity_metric = bias_metric + '_disparity'\n",
        "    scatter_schema = ['model_uuid', performance_col, 'attribute_name', 'attribute_value', bias_metric, disparity_metric, 'model_tag']\n",
        "    if flip_disparity:\n",
        "        disparity_df[disparity_metric]= disparity_df.apply(lambda x: 1/x[disparity_metric] , axis=1)\n",
        "    scatter = pd.merge(evals_df, disparity_df, how='left', on=['model_uuid'], left_index=True, sort=True, copy=True)\n",
        "    scatter = scatter[['model_uuid', performance_col, 'attribute_name', 'attribute_value', bias_metric, disparity_metric]].copy()\n",
        "    scatter['model_tag'] = 'Other Models'\n",
        "    scatter.sort_values('model_precision', ascending = False, inplace=True, ignore_index=True)\n",
        "    scatter['model_tag'] = scatter.apply(lambda x: 'Highest Precision at 1000' if int(x.name) < 1 else x['model_tag'], axis=1)\n",
        "    mitigated_points = []\n",
        "    scatter_final = pd.DataFrame()\n",
        "    if mitigated_bdfs and mitigated_performances:\n",
        "        for i in range(len(mitigated_bdfs)):\n",
        "            if not mitigated_bdfs[i].empty and mitigated_performances[i] !=None:\n",
        "                mitigated_bdfs[i][performance_col] = mitigated_performances[i]\n",
        "                mitigated_bdfs[i]['model_tag'] = mitigated_tags[i]\n",
        "                new_disparity_df = mitigated_bdfs[i].loc[(mitigated_bdfs[i]['attribute_name']==attr_col) & (mitigated_bdfs[i]['attribute_value']==group_name)].copy()\n",
        "                if flip_disparity:\n",
        "                    new_disparity_df[disparity_metric]= new_disparity_df.apply(lambda x: 1/x[disparity_metric] , axis=1)\n",
        "                scatter_new = new_disparity_df[[c for c in new_disparity_df.columns if c in scatter_schema]].copy()\n",
        "                mitigated_points.append(scatter_new)\n",
        "        scatter_final = pd.concat(mitigated_points , axis=0)\n",
        "\n",
        "    ax = sns.scatterplot(\n",
        "        x='model_precision', y=disparity_metric, hue='model_tag',\n",
        "        data=scatter,\n",
        "        alpha=0.4, s=20, palette = np.array(sns.color_palette()[0:2])\n",
        "\n",
        "\n",
        "    )\n",
        "    if not scatter_final.empty:\n",
        "        ax1 = sns.scatterplot(\n",
        "            x='model_precision', y=disparity_metric, hue='model_tag',\n",
        "            data=scatter_final,\n",
        "            alpha = 0.95, s=20,  palette = np.array(sns.color_palette()[2:3] + sns.color_palette()[4:])\n",
        "        )\n",
        "\n",
        "    if ylim:\n",
        "        plt.ylim(0, 10)\n",
        "    flip_placeholder = 'Flipped' if flip_disparity else ''\n",
        "    ax.set_title('{} {} vs.{} for {}:{}'.format(flip_placeholder, disparity_metric, performance_col, attr_col,group_name ), y=1., fontsize='xx-small')\n",
        "    #plt.gcf().set_size_inches((4, 3))\n",
        "    plt.legend(loc='upper left', fontsize='xx-small', prop={'size': 5})\n",
        "    plt.gcf().set_dpi(DPI)\n",
        "    plt.show() "
      ]
    },
    {
      "cell_type": "markdown",
      "metadata": {
        "id": "iM1wxj5S1I_J"
      },
      "source": [
        "\n",
        "\n",
        "\n",
        "## Let's see if we could have picked a better model for fairness in Poverty Level\n",
        "\n",
        "Each point in the scatterplot represents a model. We highlight the model we picked before (highest global performance)."
      ]
    },
    {
      "cell_type": "code",
      "execution_count": 6,
      "metadata": {
        "colab": {
          "base_uri": "https://localhost:8080/",
          "height": 312
        },
        "id": "ZrY3sBsO1I_J",
        "outputId": "8b65332d-e06d-42ad-92e6-01f21150aa78"
      },
      "outputs": [
        {
          "output_type": "error",
          "ename": "MergeError",
          "evalue": "ignored",
          "traceback": [
            "\u001b[0;31m---------------------------------------------------------------------------\u001b[0m",
            "\u001b[0;31mMergeError\u001b[0m                                Traceback (most recent call last)",
            "\u001b[0;32m<ipython-input-6-757e79167509>\u001b[0m in \u001b[0;36m<module>\u001b[0;34m()\u001b[0m\n\u001b[0;32m----> 1\u001b[0;31m \u001b[0mcreate_scatter_disparity_performance\u001b[0m\u001b[0;34m(\u001b[0m\u001b[0mevals_df\u001b[0m\u001b[0;34m,\u001b[0m \u001b[0maequitas_df\u001b[0m\u001b[0;34m,\u001b[0m \u001b[0;34m'poverty_level'\u001b[0m\u001b[0;34m,\u001b[0m \u001b[0;34m'highest'\u001b[0m\u001b[0;34m,\u001b[0m \u001b[0mflip_disparity\u001b[0m\u001b[0;34m=\u001b[0m\u001b[0;32mTrue\u001b[0m \u001b[0;34m)\u001b[0m\u001b[0;34m\u001b[0m\u001b[0;34m\u001b[0m\u001b[0m\n\u001b[0m",
            "\u001b[0;32m<ipython-input-5-de91b1fdc743>\u001b[0m in \u001b[0;36mcreate_scatter_disparity_performance\u001b[0;34m(evals_df, aequitas_df, attr_col, group_name, performance_col, bias_metric, flip_disparity, mitigated_tags, mitigated_bdfs, mitigated_performances, ylim)\u001b[0m\n\u001b[1;32m      7\u001b[0m     \u001b[0;32mif\u001b[0m \u001b[0mflip_disparity\u001b[0m\u001b[0;34m:\u001b[0m\u001b[0;34m\u001b[0m\u001b[0;34m\u001b[0m\u001b[0m\n\u001b[1;32m      8\u001b[0m         \u001b[0mdisparity_df\u001b[0m\u001b[0;34m[\u001b[0m\u001b[0mdisparity_metric\u001b[0m\u001b[0;34m]\u001b[0m\u001b[0;34m=\u001b[0m \u001b[0mdisparity_df\u001b[0m\u001b[0;34m.\u001b[0m\u001b[0mapply\u001b[0m\u001b[0;34m(\u001b[0m\u001b[0;32mlambda\u001b[0m \u001b[0mx\u001b[0m\u001b[0;34m:\u001b[0m \u001b[0;36m1\u001b[0m\u001b[0;34m/\u001b[0m\u001b[0mx\u001b[0m\u001b[0;34m[\u001b[0m\u001b[0mdisparity_metric\u001b[0m\u001b[0;34m]\u001b[0m \u001b[0;34m,\u001b[0m \u001b[0maxis\u001b[0m\u001b[0;34m=\u001b[0m\u001b[0;36m1\u001b[0m\u001b[0;34m)\u001b[0m\u001b[0;34m\u001b[0m\u001b[0;34m\u001b[0m\u001b[0m\n\u001b[0;32m----> 9\u001b[0;31m     \u001b[0mscatter\u001b[0m \u001b[0;34m=\u001b[0m \u001b[0mpd\u001b[0m\u001b[0;34m.\u001b[0m\u001b[0mmerge\u001b[0m\u001b[0;34m(\u001b[0m\u001b[0mevals_df\u001b[0m\u001b[0;34m,\u001b[0m \u001b[0mdisparity_df\u001b[0m\u001b[0;34m,\u001b[0m \u001b[0mhow\u001b[0m\u001b[0;34m=\u001b[0m\u001b[0;34m'left'\u001b[0m\u001b[0;34m,\u001b[0m \u001b[0mon\u001b[0m\u001b[0;34m=\u001b[0m\u001b[0;34m[\u001b[0m\u001b[0;34m'model_uuid'\u001b[0m\u001b[0;34m]\u001b[0m\u001b[0;34m,\u001b[0m \u001b[0mleft_index\u001b[0m\u001b[0;34m=\u001b[0m\u001b[0;32mTrue\u001b[0m\u001b[0;34m,\u001b[0m \u001b[0msort\u001b[0m\u001b[0;34m=\u001b[0m\u001b[0;32mTrue\u001b[0m\u001b[0;34m,\u001b[0m \u001b[0mcopy\u001b[0m\u001b[0;34m=\u001b[0m\u001b[0;32mTrue\u001b[0m\u001b[0;34m)\u001b[0m\u001b[0;34m\u001b[0m\u001b[0;34m\u001b[0m\u001b[0m\n\u001b[0m\u001b[1;32m     10\u001b[0m     \u001b[0mscatter\u001b[0m \u001b[0;34m=\u001b[0m \u001b[0mscatter\u001b[0m\u001b[0;34m[\u001b[0m\u001b[0;34m[\u001b[0m\u001b[0;34m'model_uuid'\u001b[0m\u001b[0;34m,\u001b[0m \u001b[0mperformance_col\u001b[0m\u001b[0;34m,\u001b[0m \u001b[0;34m'attribute_name'\u001b[0m\u001b[0;34m,\u001b[0m \u001b[0;34m'attribute_value'\u001b[0m\u001b[0;34m,\u001b[0m \u001b[0mbias_metric\u001b[0m\u001b[0;34m,\u001b[0m \u001b[0mdisparity_metric\u001b[0m\u001b[0;34m]\u001b[0m\u001b[0;34m]\u001b[0m\u001b[0;34m.\u001b[0m\u001b[0mcopy\u001b[0m\u001b[0;34m(\u001b[0m\u001b[0;34m)\u001b[0m\u001b[0;34m\u001b[0m\u001b[0;34m\u001b[0m\u001b[0m\n\u001b[1;32m     11\u001b[0m     \u001b[0mscatter\u001b[0m\u001b[0;34m[\u001b[0m\u001b[0;34m'model_tag'\u001b[0m\u001b[0;34m]\u001b[0m \u001b[0;34m=\u001b[0m \u001b[0;34m'Other Models'\u001b[0m\u001b[0;34m\u001b[0m\u001b[0;34m\u001b[0m\u001b[0m\n",
            "\u001b[0;32m/usr/local/lib/python3.7/dist-packages/pandas/core/reshape/merge.py\u001b[0m in \u001b[0;36mmerge\u001b[0;34m(left, right, how, on, left_on, right_on, left_index, right_index, sort, suffixes, copy, indicator, validate)\u001b[0m\n\u001b[1;32m    117\u001b[0m         \u001b[0mcopy\u001b[0m\u001b[0;34m=\u001b[0m\u001b[0mcopy\u001b[0m\u001b[0;34m,\u001b[0m\u001b[0;34m\u001b[0m\u001b[0;34m\u001b[0m\u001b[0m\n\u001b[1;32m    118\u001b[0m         \u001b[0mindicator\u001b[0m\u001b[0;34m=\u001b[0m\u001b[0mindicator\u001b[0m\u001b[0;34m,\u001b[0m\u001b[0;34m\u001b[0m\u001b[0;34m\u001b[0m\u001b[0m\n\u001b[0;32m--> 119\u001b[0;31m         \u001b[0mvalidate\u001b[0m\u001b[0;34m=\u001b[0m\u001b[0mvalidate\u001b[0m\u001b[0;34m,\u001b[0m\u001b[0;34m\u001b[0m\u001b[0;34m\u001b[0m\u001b[0m\n\u001b[0m\u001b[1;32m    120\u001b[0m     )\n\u001b[1;32m    121\u001b[0m     \u001b[0;32mreturn\u001b[0m \u001b[0mop\u001b[0m\u001b[0;34m.\u001b[0m\u001b[0mget_result\u001b[0m\u001b[0;34m(\u001b[0m\u001b[0;34m)\u001b[0m\u001b[0;34m\u001b[0m\u001b[0;34m\u001b[0m\u001b[0m\n",
            "\u001b[0;32m/usr/local/lib/python3.7/dist-packages/pandas/core/reshape/merge.py\u001b[0m in \u001b[0;36m__init__\u001b[0;34m(self, left, right, how, on, left_on, right_on, axis, left_index, right_index, sort, suffixes, copy, indicator, validate)\u001b[0m\n\u001b[1;32m    679\u001b[0m             \u001b[0mwarnings\u001b[0m\u001b[0;34m.\u001b[0m\u001b[0mwarn\u001b[0m\u001b[0;34m(\u001b[0m\u001b[0mmsg\u001b[0m\u001b[0;34m,\u001b[0m \u001b[0mFutureWarning\u001b[0m\u001b[0;34m,\u001b[0m \u001b[0mstacklevel\u001b[0m\u001b[0;34m=\u001b[0m\u001b[0;36m3\u001b[0m\u001b[0;34m)\u001b[0m\u001b[0;34m\u001b[0m\u001b[0;34m\u001b[0m\u001b[0m\n\u001b[1;32m    680\u001b[0m \u001b[0;34m\u001b[0m\u001b[0m\n\u001b[0;32m--> 681\u001b[0;31m         \u001b[0mself\u001b[0m\u001b[0;34m.\u001b[0m\u001b[0m_validate_specification\u001b[0m\u001b[0;34m(\u001b[0m\u001b[0;34m)\u001b[0m\u001b[0;34m\u001b[0m\u001b[0;34m\u001b[0m\u001b[0m\n\u001b[0m\u001b[1;32m    682\u001b[0m \u001b[0;34m\u001b[0m\u001b[0m\n\u001b[1;32m    683\u001b[0m         \u001b[0mcross_col\u001b[0m \u001b[0;34m=\u001b[0m \u001b[0;32mNone\u001b[0m\u001b[0;34m\u001b[0m\u001b[0;34m\u001b[0m\u001b[0m\n",
            "\u001b[0;32m/usr/local/lib/python3.7/dist-packages/pandas/core/reshape/merge.py\u001b[0m in \u001b[0;36m_validate_specification\u001b[0;34m(self)\u001b[0m\n\u001b[1;32m   1365\u001b[0m             \u001b[0;32mif\u001b[0m \u001b[0mself\u001b[0m\u001b[0;34m.\u001b[0m\u001b[0mleft_index\u001b[0m \u001b[0;32mor\u001b[0m \u001b[0mself\u001b[0m\u001b[0;34m.\u001b[0m\u001b[0mright_index\u001b[0m\u001b[0;34m:\u001b[0m\u001b[0;34m\u001b[0m\u001b[0;34m\u001b[0m\u001b[0m\n\u001b[1;32m   1366\u001b[0m                 raise MergeError(\n\u001b[0;32m-> 1367\u001b[0;31m                     \u001b[0;34m'Can only pass argument \"on\" OR \"left_index\" '\u001b[0m\u001b[0;34m\u001b[0m\u001b[0;34m\u001b[0m\u001b[0m\n\u001b[0m\u001b[1;32m   1368\u001b[0m                     \u001b[0;34m'and \"right_index\", not a combination of both.'\u001b[0m\u001b[0;34m\u001b[0m\u001b[0;34m\u001b[0m\u001b[0m\n\u001b[1;32m   1369\u001b[0m                 )\n",
            "\u001b[0;31mMergeError\u001b[0m: Can only pass argument \"on\" OR \"left_index\" and \"right_index\", not a combination of both."
          ]
        }
      ],
      "source": [
        "create_scatter_disparity_performance(evals_df, aequitas_df, 'poverty_level', 'highest', flip_disparity=True )"
      ]
    },
    {
      "cell_type": "markdown",
      "metadata": {
        "id": "Ca1bY6-O1I_K"
      },
      "source": [
        "## Let's see if we could have picked a better model for fairness in Metro Type\n"
      ]
    },
    {
      "cell_type": "code",
      "execution_count": 7,
      "metadata": {
        "colab": {
          "base_uri": "https://localhost:8080/",
          "height": 312
        },
        "id": "leXzJQk_1I_L",
        "outputId": "33b86fb9-857b-436f-abac-0bc9f4060c8b"
      },
      "outputs": [
        {
          "output_type": "error",
          "ename": "MergeError",
          "evalue": "ignored",
          "traceback": [
            "\u001b[0;31m---------------------------------------------------------------------------\u001b[0m",
            "\u001b[0;31mMergeError\u001b[0m                                Traceback (most recent call last)",
            "\u001b[0;32m<ipython-input-7-96fd404cd5f3>\u001b[0m in \u001b[0;36m<module>\u001b[0;34m()\u001b[0m\n\u001b[0;32m----> 1\u001b[0;31m \u001b[0mcreate_scatter_disparity_performance\u001b[0m\u001b[0;34m(\u001b[0m\u001b[0mevals_df\u001b[0m\u001b[0;34m,\u001b[0m \u001b[0maequitas_df\u001b[0m\u001b[0;34m,\u001b[0m \u001b[0;34m'metro_type'\u001b[0m\u001b[0;34m,\u001b[0m \u001b[0;34m'urban'\u001b[0m\u001b[0;34m,\u001b[0m \u001b[0mflip_disparity\u001b[0m\u001b[0;34m=\u001b[0m\u001b[0;32mTrue\u001b[0m\u001b[0;34m,\u001b[0m \u001b[0mylim\u001b[0m\u001b[0;34m=\u001b[0m\u001b[0;36m10\u001b[0m \u001b[0;34m)\u001b[0m\u001b[0;34m\u001b[0m\u001b[0;34m\u001b[0m\u001b[0m\n\u001b[0m",
            "\u001b[0;32m<ipython-input-5-de91b1fdc743>\u001b[0m in \u001b[0;36mcreate_scatter_disparity_performance\u001b[0;34m(evals_df, aequitas_df, attr_col, group_name, performance_col, bias_metric, flip_disparity, mitigated_tags, mitigated_bdfs, mitigated_performances, ylim)\u001b[0m\n\u001b[1;32m      7\u001b[0m     \u001b[0;32mif\u001b[0m \u001b[0mflip_disparity\u001b[0m\u001b[0;34m:\u001b[0m\u001b[0;34m\u001b[0m\u001b[0;34m\u001b[0m\u001b[0m\n\u001b[1;32m      8\u001b[0m         \u001b[0mdisparity_df\u001b[0m\u001b[0;34m[\u001b[0m\u001b[0mdisparity_metric\u001b[0m\u001b[0;34m]\u001b[0m\u001b[0;34m=\u001b[0m \u001b[0mdisparity_df\u001b[0m\u001b[0;34m.\u001b[0m\u001b[0mapply\u001b[0m\u001b[0;34m(\u001b[0m\u001b[0;32mlambda\u001b[0m \u001b[0mx\u001b[0m\u001b[0;34m:\u001b[0m \u001b[0;36m1\u001b[0m\u001b[0;34m/\u001b[0m\u001b[0mx\u001b[0m\u001b[0;34m[\u001b[0m\u001b[0mdisparity_metric\u001b[0m\u001b[0;34m]\u001b[0m \u001b[0;34m,\u001b[0m \u001b[0maxis\u001b[0m\u001b[0;34m=\u001b[0m\u001b[0;36m1\u001b[0m\u001b[0;34m)\u001b[0m\u001b[0;34m\u001b[0m\u001b[0;34m\u001b[0m\u001b[0m\n\u001b[0;32m----> 9\u001b[0;31m     \u001b[0mscatter\u001b[0m \u001b[0;34m=\u001b[0m \u001b[0mpd\u001b[0m\u001b[0;34m.\u001b[0m\u001b[0mmerge\u001b[0m\u001b[0;34m(\u001b[0m\u001b[0mevals_df\u001b[0m\u001b[0;34m,\u001b[0m \u001b[0mdisparity_df\u001b[0m\u001b[0;34m,\u001b[0m \u001b[0mhow\u001b[0m\u001b[0;34m=\u001b[0m\u001b[0;34m'left'\u001b[0m\u001b[0;34m,\u001b[0m \u001b[0mon\u001b[0m\u001b[0;34m=\u001b[0m\u001b[0;34m[\u001b[0m\u001b[0;34m'model_uuid'\u001b[0m\u001b[0;34m]\u001b[0m\u001b[0;34m,\u001b[0m \u001b[0mleft_index\u001b[0m\u001b[0;34m=\u001b[0m\u001b[0;32mTrue\u001b[0m\u001b[0;34m,\u001b[0m \u001b[0msort\u001b[0m\u001b[0;34m=\u001b[0m\u001b[0;32mTrue\u001b[0m\u001b[0;34m,\u001b[0m \u001b[0mcopy\u001b[0m\u001b[0;34m=\u001b[0m\u001b[0;32mTrue\u001b[0m\u001b[0;34m)\u001b[0m\u001b[0;34m\u001b[0m\u001b[0;34m\u001b[0m\u001b[0m\n\u001b[0m\u001b[1;32m     10\u001b[0m     \u001b[0mscatter\u001b[0m \u001b[0;34m=\u001b[0m \u001b[0mscatter\u001b[0m\u001b[0;34m[\u001b[0m\u001b[0;34m[\u001b[0m\u001b[0;34m'model_uuid'\u001b[0m\u001b[0;34m,\u001b[0m \u001b[0mperformance_col\u001b[0m\u001b[0;34m,\u001b[0m \u001b[0;34m'attribute_name'\u001b[0m\u001b[0;34m,\u001b[0m \u001b[0;34m'attribute_value'\u001b[0m\u001b[0;34m,\u001b[0m \u001b[0mbias_metric\u001b[0m\u001b[0;34m,\u001b[0m \u001b[0mdisparity_metric\u001b[0m\u001b[0;34m]\u001b[0m\u001b[0;34m]\u001b[0m\u001b[0;34m.\u001b[0m\u001b[0mcopy\u001b[0m\u001b[0;34m(\u001b[0m\u001b[0;34m)\u001b[0m\u001b[0;34m\u001b[0m\u001b[0;34m\u001b[0m\u001b[0m\n\u001b[1;32m     11\u001b[0m     \u001b[0mscatter\u001b[0m\u001b[0;34m[\u001b[0m\u001b[0;34m'model_tag'\u001b[0m\u001b[0;34m]\u001b[0m \u001b[0;34m=\u001b[0m \u001b[0;34m'Other Models'\u001b[0m\u001b[0;34m\u001b[0m\u001b[0;34m\u001b[0m\u001b[0m\n",
            "\u001b[0;32m/usr/local/lib/python3.7/dist-packages/pandas/core/reshape/merge.py\u001b[0m in \u001b[0;36mmerge\u001b[0;34m(left, right, how, on, left_on, right_on, left_index, right_index, sort, suffixes, copy, indicator, validate)\u001b[0m\n\u001b[1;32m    117\u001b[0m         \u001b[0mcopy\u001b[0m\u001b[0;34m=\u001b[0m\u001b[0mcopy\u001b[0m\u001b[0;34m,\u001b[0m\u001b[0;34m\u001b[0m\u001b[0;34m\u001b[0m\u001b[0m\n\u001b[1;32m    118\u001b[0m         \u001b[0mindicator\u001b[0m\u001b[0;34m=\u001b[0m\u001b[0mindicator\u001b[0m\u001b[0;34m,\u001b[0m\u001b[0;34m\u001b[0m\u001b[0;34m\u001b[0m\u001b[0m\n\u001b[0;32m--> 119\u001b[0;31m         \u001b[0mvalidate\u001b[0m\u001b[0;34m=\u001b[0m\u001b[0mvalidate\u001b[0m\u001b[0;34m,\u001b[0m\u001b[0;34m\u001b[0m\u001b[0;34m\u001b[0m\u001b[0m\n\u001b[0m\u001b[1;32m    120\u001b[0m     )\n\u001b[1;32m    121\u001b[0m     \u001b[0;32mreturn\u001b[0m \u001b[0mop\u001b[0m\u001b[0;34m.\u001b[0m\u001b[0mget_result\u001b[0m\u001b[0;34m(\u001b[0m\u001b[0;34m)\u001b[0m\u001b[0;34m\u001b[0m\u001b[0;34m\u001b[0m\u001b[0m\n",
            "\u001b[0;32m/usr/local/lib/python3.7/dist-packages/pandas/core/reshape/merge.py\u001b[0m in \u001b[0;36m__init__\u001b[0;34m(self, left, right, how, on, left_on, right_on, axis, left_index, right_index, sort, suffixes, copy, indicator, validate)\u001b[0m\n\u001b[1;32m    679\u001b[0m             \u001b[0mwarnings\u001b[0m\u001b[0;34m.\u001b[0m\u001b[0mwarn\u001b[0m\u001b[0;34m(\u001b[0m\u001b[0mmsg\u001b[0m\u001b[0;34m,\u001b[0m \u001b[0mFutureWarning\u001b[0m\u001b[0;34m,\u001b[0m \u001b[0mstacklevel\u001b[0m\u001b[0;34m=\u001b[0m\u001b[0;36m3\u001b[0m\u001b[0;34m)\u001b[0m\u001b[0;34m\u001b[0m\u001b[0;34m\u001b[0m\u001b[0m\n\u001b[1;32m    680\u001b[0m \u001b[0;34m\u001b[0m\u001b[0m\n\u001b[0;32m--> 681\u001b[0;31m         \u001b[0mself\u001b[0m\u001b[0;34m.\u001b[0m\u001b[0m_validate_specification\u001b[0m\u001b[0;34m(\u001b[0m\u001b[0;34m)\u001b[0m\u001b[0;34m\u001b[0m\u001b[0;34m\u001b[0m\u001b[0m\n\u001b[0m\u001b[1;32m    682\u001b[0m \u001b[0;34m\u001b[0m\u001b[0m\n\u001b[1;32m    683\u001b[0m         \u001b[0mcross_col\u001b[0m \u001b[0;34m=\u001b[0m \u001b[0;32mNone\u001b[0m\u001b[0;34m\u001b[0m\u001b[0;34m\u001b[0m\u001b[0m\n",
            "\u001b[0;32m/usr/local/lib/python3.7/dist-packages/pandas/core/reshape/merge.py\u001b[0m in \u001b[0;36m_validate_specification\u001b[0;34m(self)\u001b[0m\n\u001b[1;32m   1365\u001b[0m             \u001b[0;32mif\u001b[0m \u001b[0mself\u001b[0m\u001b[0;34m.\u001b[0m\u001b[0mleft_index\u001b[0m \u001b[0;32mor\u001b[0m \u001b[0mself\u001b[0m\u001b[0;34m.\u001b[0m\u001b[0mright_index\u001b[0m\u001b[0;34m:\u001b[0m\u001b[0;34m\u001b[0m\u001b[0;34m\u001b[0m\u001b[0m\n\u001b[1;32m   1366\u001b[0m                 raise MergeError(\n\u001b[0;32m-> 1367\u001b[0;31m                     \u001b[0;34m'Can only pass argument \"on\" OR \"left_index\" '\u001b[0m\u001b[0;34m\u001b[0m\u001b[0;34m\u001b[0m\u001b[0m\n\u001b[0m\u001b[1;32m   1368\u001b[0m                     \u001b[0;34m'and \"right_index\", not a combination of both.'\u001b[0m\u001b[0;34m\u001b[0m\u001b[0;34m\u001b[0m\u001b[0m\n\u001b[1;32m   1369\u001b[0m                 )\n",
            "\u001b[0;31mMergeError\u001b[0m: Can only pass argument \"on\" OR \"left_index\" and \"right_index\", not a combination of both."
          ]
        }
      ],
      "source": [
        "create_scatter_disparity_performance(evals_df, aequitas_df, 'metro_type', 'urban', flip_disparity=True, ylim=10 )"
      ]
    },
    {
      "cell_type": "markdown",
      "metadata": {
        "id": "vPsscVXu1I_L"
      },
      "source": [
        "## Let's see if we could have picked a better model for fairness in Teacher sex\n",
        "\n"
      ]
    },
    {
      "cell_type": "code",
      "execution_count": null,
      "metadata": {
        "id": "yZKMfMTR1I_M"
      },
      "outputs": [],
      "source": [
        "create_scatter_disparity_performance(evals_df, aequitas_df, 'teacher_sex', 'female', flip_disparity=False )"
      ]
    },
    {
      "cell_type": "markdown",
      "metadata": {
        "id": "HeE7UAkA1I_M"
      },
      "source": [
        "# Bias Reduction Strategies\n",
        "We will try a few different bias reduction strategies now and compare the audit results with the original models\n",
        "\n",
        "1. Re-Sampling\n",
        "2. Regularization (using Fairlearn package)\n",
        "3. Post-hoc adjustment\n"
      ]
    },
    {
      "cell_type": "markdown",
      "metadata": {
        "id": "cqqJYjkW1I_M"
      },
      "source": [
        "## <font color=\"red\">Bias Reduction Strategy 1: Re-Sampling</font>\n",
        "### Can resampling approaches help improve the fairness of our models?\n",
        "\n",
        "1. Load data\n",
        "2. Look at training data distributions\n",
        "3. Try Resampling in a few different ways\n",
        "4. Rebuild model(s) on resampled training data\n",
        "5. Predict on the test set\n",
        "6. Audit for Bias and Compare"
      ]
    },
    {
      "cell_type": "markdown",
      "metadata": {
        "id": "WjQpBgn_1I_N"
      },
      "source": [
        "### What has already happened?\n",
        "\n",
        "We've already cleaned data, generated features, created train-test sets, built 1000s of models on each training set and scored each test set with them, and calculated various evaluation metrics. We then used these results to pick a \"best\" model in terms of performance on the \"accuracy\" metric we care about: **Precision at the top 1000** (corresponding to our goal of selecting 1000 project submissions that are most likely to not get funded in order to prioritize resource allocation).\n",
        "\n",
        "When we audited this selected model with Aequitas, however, we found biases across many attributes, including the poverty level of the schools. Here, we explore a methods based on resampling to reduce this bias in the selected model."
      ]
    },
    {
      "cell_type": "markdown",
      "metadata": {
        "id": "48d59xid1I_N"
      },
      "source": [
        "### Load data"
      ]
    },
    {
      "cell_type": "code",
      "execution_count": null,
      "metadata": {
        "id": "LW8cGeKh1I_N"
      },
      "outputs": [],
      "source": [
        "traindf = pd.read_csv(DATAPATH + 'train_20120501_20120801.csv.gz', compression='gzip')\n",
        "testdf = pd.read_csv(DATAPATH + 'test_20121201_20130201.csv.gz', compression='gzip')\n",
        "train_attrdf = pd.read_csv(DATAPATH + 'train_20120501_20120801_protected.csv.gz', compression='gzip')\n",
        "test_attrdf = pd.read_csv(DATAPATH + 'test_20121201_20130201_protected.csv.gz', compression='gzip')\n"
      ]
    },
    {
      "cell_type": "code",
      "execution_count": null,
      "metadata": {
        "id": "_lu0UeOV1I_O"
      },
      "outputs": [],
      "source": [
        "traindf.shape"
      ]
    },
    {
      "cell_type": "markdown",
      "metadata": {
        "id": "_ag69y5B1I_O"
      },
      "source": [
        "### Load pre-built models and predictions\n",
        "\n",
        "The `evals_df` contains a table with the performance metrics for each model on the holdout test set."
      ]
    },
    {
      "cell_type": "code",
      "execution_count": null,
      "metadata": {
        "id": "VuqLE2HU1I_O"
      },
      "outputs": [],
      "source": [
        "evals_df = pd.read_csv(DATAPATH +'split2_evals.csv.gz', compression='gzip')\n",
        "# Let's sort the models by Precision at top 1000 predicted positives (our performance metric of interest for this case study)\n",
        "evals_df.sort_values('model_precision', ascending = False)"
      ]
    },
    {
      "cell_type": "markdown",
      "metadata": {
        "id": "dQamt90b1I_O"
      },
      "source": [
        "### Take a look at the \"Best\" performing model"
      ]
    },
    {
      "cell_type": "code",
      "execution_count": null,
      "metadata": {
        "id": "QX-oD7ha1I_P"
      },
      "outputs": [],
      "source": [
        "print('Highest precision model classpath and hyperparameters: \\n\\n' , evals_df['model_classpath'][0], '\\n', evals_df['hyperparameters'][0])"
      ]
    },
    {
      "cell_type": "code",
      "execution_count": null,
      "metadata": {
        "id": "m7tTT0o_1I_P"
      },
      "outputs": [],
      "source": [
        "#Let's load the hyperparameters of the highest performance model to a dictionary\n",
        "import ast\n",
        "hyperparameters= ast.literal_eval(evals_df['hyperparameters'][0])"
      ]
    },
    {
      "cell_type": "code",
      "execution_count": null,
      "metadata": {
        "id": "zWz4hCaz1I_P"
      },
      "outputs": [],
      "source": [
        "# Since the model with highest performance is a RandomForestClassifier let's create a classifier with the fetched hyperparameters\n",
        "rf = RandomForestClassifier(**hyperparameters)"
      ]
    },
    {
      "cell_type": "code",
      "execution_count": null,
      "metadata": {
        "id": "yayPI76G1I_P"
      },
      "outputs": [],
      "source": [
        "rf.__dict__"
      ]
    },
    {
      "cell_type": "markdown",
      "metadata": {
        "id": "TrK2ye7L1I_Q"
      },
      "source": [
        "### Defining label, group of interest and reference group for the attribute column we care about\n"
      ]
    },
    {
      "cell_type": "code",
      "execution_count": null,
      "metadata": {
        "id": "qrpyl_C91I_Q"
      },
      "outputs": [],
      "source": [
        "label_col = 'quickstart_label'\n",
        "attribute_col = 'poverty_level'\n",
        "\n",
        "group_of_interest = 'highest'\n",
        "reference_group = 'lower'"
      ]
    },
    {
      "cell_type": "markdown",
      "metadata": {
        "id": "jlJCUqSC1I_Q"
      },
      "source": [
        "### Look at training data distributions\n",
        "\n",
        "#### Poverty_level=Highest\n",
        "label_pos_poverty_highest =  P(poverty_level=highest | not_funded)\n",
        "\n",
        "label_neg_poverty_highest =  P(poverty_level=highest | funded)\n",
        "\n",
        "\n",
        "#### Poverty_level=Lower\n",
        "label_pos_poverty_lower =  P(poverty_level=lower | not_funded)\n",
        "\n",
        "label_neg_poverty_lower =  P(poverty_level=lower | funded)\n"
      ]
    },
    {
      "cell_type": "code",
      "execution_count": null,
      "metadata": {
        "id": "dTnaF7Ar1I_Q"
      },
      "outputs": [],
      "source": [
        "train_attrdf[attribute_col].value_counts()"
      ]
    },
    {
      "cell_type": "code",
      "execution_count": null,
      "metadata": {
        "id": "SMSQaWWT1I_R"
      },
      "outputs": [],
      "source": [
        "def get_group_stats(df, attrdf, label_col, attribute_col, group_name):\n",
        "    \"\"\"Calculates group-wise stats: prevalence, group_size, num label pos, num label neg\n",
        "       Returns: prevalence, group_size, df of group label pos, df of group label neg\n",
        "    \"\"\"\n",
        "    group_size = len(df.loc[attrdf[attribute_col]==group_name])\n",
        "    label_pos = df.loc[(attrdf[attribute_col]==group_name) & (df[label_col] > 0)].copy()\n",
        "    label_neg = df.loc[(attrdf[attribute_col]==group_name) & (df[label_col] < 1.0)].copy()\n",
        "    assert (group_size == len(label_pos) + len(label_neg)), \"label pos + label neg is different from group size!\"\n",
        "    prev = len(label_pos) / group_size\n",
        "    print(\"{} == '{}'\\n\\t group size: {} \\n\\t prevalence: {:.3f}\".format(attribute_col,group_name, group_size, prev))\n",
        "    return prev, group_size, label_pos, label_neg"
      ]
    },
    {
      "cell_type": "code",
      "execution_count": null,
      "metadata": {
        "id": "kTcDYD6V1I_S"
      },
      "outputs": [],
      "source": [
        "_ = get_group_stats(traindf, train_attrdf, label_col, attribute_col, group_of_interest)"
      ]
    },
    {
      "cell_type": "code",
      "execution_count": null,
      "metadata": {
        "id": "zs09GWVz1I_S"
      },
      "outputs": [],
      "source": [
        "_ = get_group_stats(traindf, train_attrdf, label_col, attribute_col, reference_group)"
      ]
    },
    {
      "cell_type": "markdown",
      "metadata": {
        "id": "p_Dd13xZ1I_S"
      },
      "source": [
        "### What type of disparities do we see in the data distribution here?\n",
        "\n",
        "\n",
        "1.\n",
        "\n",
        "2.\n",
        "\n",
        "3.\n",
        "\n",
        "4.\n",
        "\n",
        "\n",
        "\n",
        "\n",
        "\n",
        "\n",
        "\n",
        "\n",
        "\n",
        "\n",
        "\n",
        "\n",
        "\n",
        "\n",
        "\n",
        "\n",
        "\n",
        "\n",
        "...\n",
        "\n",
        "\n",
        "\n",
        "\n",
        "\n"
      ]
    },
    {
      "cell_type": "code",
      "execution_count": null,
      "metadata": {
        "id": "BMLM2HCK1I_T"
      },
      "outputs": [],
      "source": [
        "print('Recapping the group of interest and reference we defined above: \\n\\n Attribute: {}\\n Group of interest: {}\\n Reference Group: {}'.format(attribute_col, group_of_interest, reference_group))"
      ]
    },
    {
      "cell_type": "markdown",
      "metadata": {
        "id": "ArNoPuHS1I_T"
      },
      "source": [
        "### Let's now try resampling\n",
        "\n",
        "We can perform three types of resampling:\n",
        "\n",
        "1. Change the training data such that different poverty levels are distributed more uniformly but keep the distribution of labels the same within each poverty level P(poverty_level = highest) = P (poverty_level=lower)\n",
        "\n",
        "\n",
        "2. Change the training data such that different poverty levels have more uniform label distributions P(poverty_level = highest | not funded ) = P(poverty_level=lower | not funded)\n",
        "\n",
        "\n",
        "3. Change both\n",
        "\n",
        "The following method implements these 3 approaches:"
      ]
    },
    {
      "cell_type": "code",
      "execution_count": null,
      "metadata": {
        "id": "jnqz0Gm71I_T"
      },
      "outputs": [],
      "source": [
        "def sample_groups_equal(df, \n",
        "                  attrdf, \n",
        "                  label_col, \n",
        "                  attribute_col, \n",
        "                  group_of_interest, \n",
        "                  reference_group, \n",
        "                  equal_group_prevalence=True, \n",
        "                  equal_group_size=False, \n",
        "                  random_seed=42):\n",
        "    print(\"Input stats for each group:\\n\")\n",
        "    prev_a, size_a, lp_a,ln_a = get_group_stats(df, attrdf, label_col, attribute_col, group_of_interest)\n",
        "    prev_ref, size_ref, lp_ref,ln_ref = get_group_stats(df, attrdf, label_col, attribute_col, reference_group)\n",
        "    if equal_group_prevalence:\n",
        "        # create largest possible sample based on prevalence ratio (minimize number of label positives removed)\n",
        "        # group_prevalence_ratio = prev_group_of_interest / prev_ref_group\n",
        "        if prev_a < prev_ref:\n",
        "            # create subsample\n",
        "            num_lp_a = len(lp_a)\n",
        "            target_prev = prev_ref\n",
        "            new_num_ln_a = math.floor((num_lp_a / target_prev) - num_lp_a)\n",
        "            ln_a = ln_a.sample(n=new_num_ln_a, replace=False, random_state=random_seed)\n",
        "        elif prev_ref < prev_a:\n",
        "            # create subsample\n",
        "            new_num_lp_ref = len(lp_ref)\n",
        "            target_prev = prev_a\n",
        "            new_num_ln_ref = math.floor((num_lp_ref / target_prev) - num_lp_ref)\n",
        "            ln_ref = ln_ref.sample(n=new_num_ln_ref, replace=False, random_state=random_seed)\n",
        "    adf = pd.concat([lp_a, ln_a], axis=0)\n",
        "    refdf = pd.concat([lp_ref, ln_ref], axis=0)\n",
        "    size_a = len(adf)\n",
        "    size_ref = len(refdf)\n",
        "    if equal_group_size:\n",
        "        # create largest possible sample based on size ratio\n",
        "        if size_a > size_ref:\n",
        "            adf = adf.sample(n=size_ref, replace=False, random_state=random_seed)\n",
        "        elif size_ref > size_a:\n",
        "            refdf = refdf.sample(n=size_a, replace=False, random_state=random_seed)\n",
        "    new_traindf = pd.concat([adf, refdf], axis=0)\n",
        "    print(\"\\n\\nNew sample stats for each group:\\n\")\n",
        "    _ = get_group_stats(new_traindf, attrdf, label_col, attribute_col, group_of_interest)\n",
        "    _ = get_group_stats(new_traindf, attrdf, label_col, attribute_col, reference_group)\n",
        "    return new_traindf"
      ]
    },
    {
      "cell_type": "markdown",
      "metadata": {
        "id": "uhWxX5Qv1I_U"
      },
      "source": [
        "### Let's create 3 new different training dataframes by applying the 3 approaches described above"
      ]
    },
    {
      "cell_type": "markdown",
      "metadata": {
        "id": "UPo6RlqP1I_U"
      },
      "source": [
        "#### Sampling so we get equal group sizes (randomly undersampling largest group)"
      ]
    },
    {
      "cell_type": "code",
      "execution_count": null,
      "metadata": {
        "id": "32QgoJb61I_U"
      },
      "outputs": [],
      "source": [
        "new_traindf_1 = sample_groups_equal(traindf, train_attrdf, label_col, attribute_col, group_of_interest, reference_group, equal_group_prevalence=False, equal_group_size=True)"
      ]
    },
    {
      "cell_type": "markdown",
      "metadata": {
        "id": "wUJZFGb01I_U"
      },
      "source": [
        "#### Sampling so we get equal group prevalence in the two groups (undersampling label negatives of group with lower prevalence)"
      ]
    },
    {
      "cell_type": "code",
      "execution_count": null,
      "metadata": {
        "id": "pAC9-bLs1I_V"
      },
      "outputs": [],
      "source": [
        "new_traindf_2 = sample_groups_equal(traindf, train_attrdf, label_col, attribute_col, group_of_interest, reference_group, equal_group_prevalence=True, equal_group_size=False)"
      ]
    },
    {
      "cell_type": "markdown",
      "metadata": {
        "id": "e2YCKOzj1I_V"
      },
      "source": [
        "#### Sampling so we get both equal group prevalence and group sizes in the two groups "
      ]
    },
    {
      "cell_type": "code",
      "execution_count": null,
      "metadata": {
        "id": "HE8Ldf9e1I_V"
      },
      "outputs": [],
      "source": [
        "new_traindf_3 = sample_groups_equal(traindf, train_attrdf, label_col, attribute_col, group_of_interest, reference_group, equal_group_prevalence=True, equal_group_size=True)"
      ]
    },
    {
      "cell_type": "markdown",
      "metadata": {
        "id": "xJBBxDW81I_W"
      },
      "source": [
        "#### Rebuild model for each of the resampled training dataframes and predict on the test set"
      ]
    },
    {
      "cell_type": "code",
      "execution_count": null,
      "metadata": {
        "id": "hPQj0bbP1I_W"
      },
      "outputs": [],
      "source": [
        "def retrain_and_test(model, label_col, new_traindf, testdf):\n",
        "    y_train = new_traindf[label_col].values\n",
        "    model.fit(new_traindf.drop(['entity_id','as_of_date',label_col], axis = 1), y_train)\n",
        "    y_pred = model.predict_proba(testdf.drop(['entity_id','as_of_date',label_col], axis = 1))[:,1]\n",
        "    new_preds = testdf[['entity_id','as_of_date',label_col]].copy()\n",
        "    new_preds['predict_proba'] = y_pred\n",
        "    new_preds = new_preds.sort_values('predict_proba', ascending = False).reset_index(drop=True).copy()\n",
        "    new_preds['score'] = new_preds.apply(lambda x: 1.0 if int(x.name)  < 1000 else 0.0, axis=1)\n",
        "    return new_preds"
      ]
    },
    {
      "cell_type": "code",
      "execution_count": null,
      "metadata": {
        "id": "tTQlfLWG1I_W"
      },
      "outputs": [],
      "source": [
        "new_preds_1 = retrain_and_test(rf, label_col, new_traindf_1, testdf)\n",
        "new_preds_2 = retrain_and_test(rf, label_col, new_traindf_2, testdf)\n",
        "new_preds_3 = retrain_and_test(rf, label_col, new_traindf_3, testdf)\n"
      ]
    },
    {
      "cell_type": "markdown",
      "metadata": {
        "id": "6ZbUtUmY1I_W"
      },
      "source": [
        "#### Calculate precision at 1000 for each of the 3 approaches"
      ]
    },
    {
      "cell_type": "code",
      "execution_count": null,
      "metadata": {
        "id": "5bq6GV_x1I_X"
      },
      "outputs": [],
      "source": [
        "\n",
        "print('Approach 1 Model Precision: ', new_preds_1[new_preds_1['score'] > 0][label_col].sum() / 1000)\n",
        "print('Approach 2 Model Precision: ', new_preds_2[new_preds_2['score'] > 0][label_col].sum() / 1000)\n",
        "print('Approach 3 Model Precision: ', new_preds_3[new_preds_3['score'] > 0][label_col].sum() / 1000)"
      ]
    },
    {
      "cell_type": "markdown",
      "metadata": {
        "id": "AFYzqPkZ1I_X"
      },
      "source": [
        "## Before and After: Run Aequitas\n",
        "\n",
        "\n",
        "Let's define an audit util method to use throghout the notebook when audit different models."
      ]
    },
    {
      "cell_type": "code",
      "execution_count": null,
      "metadata": {
        "id": "k6jKR76w1I_Y"
      },
      "outputs": [],
      "source": [
        "def aequitas_audit(input_df, ref_groups_dict):\n",
        "    g = Group()\n",
        "    b = Bias()\n",
        "    xtab, _ = g.get_crosstabs(input_df[['score','label_value'] + list(ref_groups_dict.keys())].copy())\n",
        "    bdf = b.get_disparity_predefined_groups(xtab, input_df, ref_groups_dict)\n",
        "    return bdf\n"
      ]
    },
    {
      "cell_type": "markdown",
      "metadata": {
        "id": "F6spkDCC1I_Y"
      },
      "source": [
        "#### Define the configurations for running the bias audits:\n",
        "\n",
        "    - a dictionary for reference groups in the format attribute:group\n",
        "    - the metrics of interest\n",
        "    - the fairness threshold (the ratio of each group value compared to reference group on a given metric)"
      ]
    },
    {
      "cell_type": "code",
      "execution_count": null,
      "metadata": {
        "id": "hb9XCEu61I_Z"
      },
      "outputs": [],
      "source": [
        "ref_groups_dict={'poverty_level':'lower', 'metro_type':'suburban_rural', 'teacher_sex':'male'}\n",
        "attributes = ref_groups_dict.keys()\n",
        "metrics = ['tpr']\n",
        "fairness_threshold = 1.3"
      ]
    },
    {
      "cell_type": "markdown",
      "metadata": {
        "id": "0PSxhEFH1I_Z"
      },
      "source": [
        "For reference, let's start with looking at the \"best\" model we chose in terms of overall precision at 1,000:\n",
        "\n",
        "#### Now let's start with loading the predictions from the \"best\" model chosen earlier"
      ]
    },
    {
      "cell_type": "code",
      "execution_count": null,
      "metadata": {
        "id": "qOeMZjQc1I_Z"
      },
      "outputs": [],
      "source": [
        "id_col='entity_id'\n",
        "date_col = 'as_of_date'\n",
        "top_k= 1000\n",
        "old_preds = pd.read_csv(DATAPATH + 'predictions_c598fbe93f4c218ac7d325fb478598f1.csv.gz', compression='gzip')\n",
        "old_attrdf = pd.read_csv(DATAPATH + 'test_20121201_20130201_protected.csv.gz', compression='gzip')\n",
        "\n",
        "old_df = pd.merge(old_preds, old_attrdf, how='left', on=[id_col, date_col], left_index=True, right_index=False, sort=True, copy=True)\n",
        "\n",
        "old_df = old_df.sort_values('predict_proba', ascending=False)\n",
        "old_df = old_df.rename(columns = {label_col:'label_value'}) # naming for Aequitas\n",
        "\n",
        "# create a \"score\" column with the predicted class (named \"score\" for use with Aequitas below)\n",
        "old_df['score'] = old_df.apply(lambda x: 1.0 if x.name in old_df.head(top_k).index.tolist() else 0, axis=1)"
      ]
    },
    {
      "cell_type": "markdown",
      "metadata": {
        "id": "Sc4TEFy21I_a"
      },
      "source": [
        "### Before: Run Aequitas for the \"best\" model chosen earlier"
      ]
    },
    {
      "cell_type": "code",
      "execution_count": null,
      "metadata": {
        "id": "OA5tTstg1I_a"
      },
      "outputs": [],
      "source": [
        "bdf_old = aequitas_audit(old_df, ref_groups_dict)"
      ]
    },
    {
      "cell_type": "code",
      "execution_count": null,
      "metadata": {
        "id": "Xc0LPywJ1I_a"
      },
      "outputs": [],
      "source": [
        "ap.disparity(bdf_old, metrics, 'poverty_level', fairness_threshold)"
      ]
    },
    {
      "cell_type": "markdown",
      "metadata": {
        "id": "RqeDmiE61I_a"
      },
      "source": [
        "### After: Audit for Bias for the new mitigated models  (keeping the attributes, reference groups, bias metric, and tolerance the same as before)"
      ]
    },
    {
      "cell_type": "markdown",
      "metadata": {
        "id": "8rUueFz-1I_a"
      },
      "source": [
        "#### Approach 1: Equalizing group sizes"
      ]
    },
    {
      "cell_type": "code",
      "execution_count": null,
      "metadata": {
        "id": "pE2nrUaq1I_b"
      },
      "outputs": [],
      "source": [
        "df_1 = pd.merge(new_preds_1, test_attrdf, how='left', on=['entity_id','as_of_date'], left_index=True, right_index=False, sort=True, copy=True)\n",
        "df_1 = df_1.rename(columns = {label_col:'label_value'})\n",
        "bdf_1 = aequitas_audit(df_1, ref_groups_dict)\n"
      ]
    },
    {
      "cell_type": "code",
      "execution_count": null,
      "metadata": {
        "id": "w-Pa9_i81I_b"
      },
      "outputs": [],
      "source": [
        "ap.disparity(bdf_1, metrics, 'poverty_level', fairness_threshold = 1.3)"
      ]
    },
    {
      "cell_type": "code",
      "execution_count": null,
      "metadata": {
        "scrolled": true,
        "id": "izYl7EPz1I_b"
      },
      "outputs": [],
      "source": [
        "ap.disparity(bdf_1, metrics, 'metro_type', fairness_threshold = 1.3)"
      ]
    },
    {
      "cell_type": "code",
      "execution_count": null,
      "metadata": {
        "scrolled": true,
        "id": "ATdS_X0Q1I_b"
      },
      "outputs": [],
      "source": [
        "ap.disparity(bdf_1, metrics, 'teacher_sex', fairness_threshold = 1.3)"
      ]
    },
    {
      "cell_type": "markdown",
      "metadata": {
        "id": "o0dd7-Jw1I_c"
      },
      "source": [
        "#### Approach 2: Equalizing group prevalence"
      ]
    },
    {
      "cell_type": "code",
      "execution_count": null,
      "metadata": {
        "id": "y37ADYnh1I_c"
      },
      "outputs": [],
      "source": [
        "df_2 = pd.merge(new_preds_2, test_attrdf, how='left', on=['entity_id','as_of_date'], left_index=True, right_index=False, sort=True, copy=True)\n",
        "df_2 = df_2.rename(columns = {label_col:'label_value'})\n",
        "bdf_2 = aequitas_audit(df_2, ref_groups_dict)\n"
      ]
    },
    {
      "cell_type": "code",
      "execution_count": null,
      "metadata": {
        "id": "1JO1_YUv1I_c"
      },
      "outputs": [],
      "source": [
        "ap.disparity(bdf_2, metrics, 'poverty_level', fairness_threshold = 1.3)"
      ]
    },
    {
      "cell_type": "code",
      "execution_count": null,
      "metadata": {
        "id": "USn-miQQ1I_c"
      },
      "outputs": [],
      "source": [
        "ap.disparity(bdf_2, metrics, 'metro_type', fairness_threshold = 1.3)"
      ]
    },
    {
      "cell_type": "code",
      "execution_count": null,
      "metadata": {
        "id": "S0OVgpHp1I_c"
      },
      "outputs": [],
      "source": [
        "ap.disparity(bdf_2, metrics, 'teacher_sex', fairness_threshold = 1.3)"
      ]
    },
    {
      "cell_type": "markdown",
      "metadata": {
        "id": "5q0Ghbgw1I_c"
      },
      "source": [
        "#### Approach 3: Equalizing both group prevalence and group sizes"
      ]
    },
    {
      "cell_type": "code",
      "execution_count": null,
      "metadata": {
        "id": "CIRtD6Og1I_d"
      },
      "outputs": [],
      "source": [
        "df_3 = pd.merge(new_preds_3, test_attrdf, how='left', on=['entity_id','as_of_date'], left_index=True, right_index=False, sort=True, copy=True)\n",
        "df_3 = df_3.rename(columns = {label_col:'label_value'})\n",
        "bdf_3 = aequitas_audit(df_3, ref_groups_dict)\n"
      ]
    },
    {
      "cell_type": "code",
      "execution_count": null,
      "metadata": {
        "id": "BAWjRqQb1I_d"
      },
      "outputs": [],
      "source": [
        "ap.disparity(bdf_3, metrics, 'poverty_level', fairness_threshold = 1.3)"
      ]
    },
    {
      "cell_type": "code",
      "execution_count": null,
      "metadata": {
        "id": "bPvs9sq31I_d"
      },
      "outputs": [],
      "source": [
        "ap.disparity(bdf_3, metrics, 'metro_type', fairness_threshold = 1.3)"
      ]
    },
    {
      "cell_type": "code",
      "execution_count": null,
      "metadata": {
        "id": "IjnLNjsd1I_d"
      },
      "outputs": [],
      "source": [
        "ap.disparity(bdf_3, metrics, 'teacher_sex', fairness_threshold = 1.3)"
      ]
    },
    {
      "cell_type": "markdown",
      "metadata": {
        "id": "rv-lXey61I_d"
      },
      "source": [
        "### Adding to the model selection (tradeoff) graph\n",
        "\n",
        "Finally, let's look at how this new option stacks up against what we plotted in our model selection process:"
      ]
    },
    {
      "cell_type": "code",
      "execution_count": null,
      "metadata": {
        "id": "kDQNaddU1I_e"
      },
      "outputs": [],
      "source": [
        "mitigated_precision_1 = df_1.loc[df_1['score']==1]['label_value'].mean()\n",
        "mitigated_precision_2 = df_2.loc[df_2['score']==1]['label_value'].mean()\n",
        "mitigated_precision_3 = df_3.loc[df_3['score']==1]['label_value'].mean()\n",
        "\n",
        "plot_configs = {\n",
        "    'evals_df':evals_df, \n",
        "    'aequitas_df':aequitas_df,\n",
        "    'attr_col':'poverty_level', \n",
        "    'group_name':'highest',\n",
        "    'performance_col':'model_precision',\n",
        "    'bias_metric':'tpr', \n",
        "    'flip_disparity':True, \n",
        "    'mitigated_tags':['Resampling 1: eq group size','Resampling 3: eq group prev', 'Resampling 3: eq group prev + size'],\n",
        "    'mitigated_bdfs':[bdf_1, bdf_2, bdf_3],\n",
        "    'mitigated_performances':[mitigated_precision_1, mitigated_precision_2, mitigated_precision_3],\n",
        "    'ylim':None\n",
        "}\n",
        "create_scatter_disparity_performance(**plot_configs)"
      ]
    },
    {
      "cell_type": "markdown",
      "metadata": {
        "id": "FziXobrJ1I_e"
      },
      "source": [
        "## <font color=red>Bias Reduction Strategy 2: Regularization (using Fairlearn package)</font>\n",
        "### <font color=red>In-Processing Fairness Improvement</font>"
      ]
    },
    {
      "cell_type": "markdown",
      "metadata": {
        "id": "HYX3gpQI1I_e"
      },
      "source": [
        "### 1. Install dependencies, import packages and data\n",
        "This is needed every time you open this notebook in colab to install dependencies"
      ]
    },
    {
      "cell_type": "code",
      "execution_count": null,
      "metadata": {
        "id": "_2qqoyfF1I_e"
      },
      "outputs": [],
      "source": [
        "# Let's use the methods \n",
        "from fairlearn.reductions import ExponentiatedGradient, GridSearch, DemographicParity, TruePositiveRateDifference\n",
        "from fairlearn.metrics import selection_rate_group_summary"
      ]
    },
    {
      "cell_type": "markdown",
      "metadata": {
        "id": "HknNLdlw1I_e"
      },
      "source": [
        "### What has already happened?\n",
        "\n",
        "We've already cleaned data, generated features, created train-test sets, built 1000s of models on each training set and scored each test set with them, and calculated various evaluation metrics. We then used these results to pick a \"best\" model in terms of performance on the \"accuracy\" metric we care about: **Precision at the top 1000** (corresponding to our goal of selecting 1000 project submissions that are most likely to not get funded in order to prioritize resource allocation).\n",
        "\n",
        "When we audited this selected model with Aequitas, however, we found biases across many attributes, including the poverty level of the schools. Here, we explore a method of using in-processing to train a fairness-aware classifier in order to reduce this bias."
      ]
    },
    {
      "cell_type": "markdown",
      "metadata": {
        "id": "Q7S_a03f1I_e"
      },
      "source": [
        "### <font color=green>FairLearn - a reductions approach</font>\n",
        "\n",
        "[Paper](https://arxiv.org/pdf/1803.02453.pdf): _A Reductions Approach to Fair Classification_, 2018\n",
        "\n",
        "> We present a systematic approach for achievingfairness in a binary classification setting. Whilewe focus on two well-known quantitative defini-tions of fairness, our approach encompasses manyother  previously  studied  definitions  as  specialcases. The key idea is to __reduce fair classification__ to a __sequence  of  cost-sensitive__  classification problems, whose solutions yield a randomized classifier with the __lowest (empirical) error__ subject to  the  __desired  constraints__.   We  introduce  two reductions that work for any representation of the cost-sensitive  classifier  and  compare  favorably to prior baselines on a variety of data sets, while overcoming several of their disadvantages.\n",
        "\n",
        "[FairLearn Documentation](https://fairlearn.github.io/user_guide/mitigation.html#id17)\n",
        "\n",
        "\n",
        "\n",
        "### TLDR; \n",
        "\n",
        "- This approach poses Fair Learning as a constrained optimization problem: minimize the empirical error, subject to linear constraints of the fairness (e.g., TPR difference, demographic parity).\n",
        "- Solve the constrained optimization as a __cost-sensitive__ classification problem.\n",
        "- Obtain a __randomized classifier__, which implies they will create multiple base estimators.\n"
      ]
    },
    {
      "cell_type": "markdown",
      "metadata": {
        "id": "BzFLPI8b1I_f"
      },
      "source": [
        "### Load train and test matrices as well as protected attributes"
      ]
    },
    {
      "cell_type": "code",
      "execution_count": null,
      "metadata": {
        "id": "3CPQ4nBd1I_f"
      },
      "outputs": [],
      "source": [
        "traindf = pd.read_csv(DATAPATH + 'train_20120501_20120801.csv.gz', compression='gzip')\n",
        "testdf = pd.read_csv(DATAPATH + 'test_20121201_20130201.csv.gz', compression='gzip')\n",
        "train_attrdf = pd.read_csv(DATAPATH + 'train_20120501_20120801_protected.csv.gz', compression='gzip')\n",
        "test_attrdf = pd.read_csv(DATAPATH + 'test_20121201_20130201_protected.csv.gz', compression='gzip')"
      ]
    },
    {
      "cell_type": "markdown",
      "metadata": {
        "id": "mOLbGK6n1I_f"
      },
      "source": [
        "### Set up some parameters we'll need below and create matrices"
      ]
    },
    {
      "cell_type": "code",
      "execution_count": null,
      "metadata": {
        "id": "XWF_8kou1I_f"
      },
      "outputs": [],
      "source": [
        "label_col = 'quickstart_label'\n",
        "date_col = 'as_of_date'\n",
        "id_col = 'entity_id'\n",
        "attr_col = 'poverty_level'\n",
        "exclude_cols = [label_col, date_col, id_col]\n",
        "\n",
        "top_k = 1000\n",
        "\n",
        "# aequitas parameters\n",
        "metrics = ['tpr']\n",
        "disparity_threshold = 1.3\n",
        "protected_attribute_ref_group = {attr_col:'lower'}\n",
        "\n",
        "\n",
        "X_train, y_train, A_train = traindf[[c for c in traindf.columns if c not in exclude_cols]].values, traindf[label_col].values, train_attrdf[[attr_col]]\n",
        "X_test,   y_test,   A_test   = testdf[[c for c in testdf.columns if c not in exclude_cols]].values,   testdf[label_col].values  , test_attrdf[[attr_col]]\n"
      ]
    },
    {
      "cell_type": "markdown",
      "metadata": {
        "id": "aL8-LOye1I_f"
      },
      "source": [
        "### Setting up a fairness-improving classifier\n",
        "\n",
        "To account fairness during model training, we'll use the **Exponentiated Gradient** provided by the `fairlearn` module.\n",
        "\n",
        "\n",
        "Its hyperparameters are: \n",
        "- `estimator`: an estimator that implements the methods `fit(X, y, sample_weight)` and `predict(X)`.\n",
        "- `constraints`: fairness constraints.\n",
        "- `eps: float`: fairness threshold, i.e., how much constraint violation we support (defaults to 0.01). \n",
        "- `T: int`: maximum number of iterations (defaults to 50).\n",
        "- `nu: float`: convergence threshold for duality gap (defaults to None).\n",
        "- `eta_0: float`: initial learning rate (defaults to 2).\n",
        "- `run_linprog_step: bool`: whether to apply saddle point optimization to the convex hull of classifiers obtained so far, after each exponentiated gradient step (defaults to True)."
      ]
    },
    {
      "cell_type": "code",
      "execution_count": null,
      "metadata": {
        "id": "idNSZGRi1I_g"
      },
      "outputs": [],
      "source": [
        "# NOTE: Exponentiated Gradient has a stoachastic component\n",
        "np.random.seed(0)"
      ]
    },
    {
      "cell_type": "markdown",
      "metadata": {
        "id": "ZxlFSGxC1I_g"
      },
      "source": [
        "Notice that we're using `TruePositiveRateDifference` for our fairness constraint here since we care about equalizing **recall** (aka **tpr** aka **equality of opportunity**) across our subgroups:"
      ]
    },
    {
      "cell_type": "code",
      "execution_count": null,
      "metadata": {
        "scrolled": false,
        "id": "Cxeciw-h1I_g"
      },
      "outputs": [],
      "source": [
        "# Step 1. Define the constraint\n",
        "constraint = TruePositiveRateDifference()\n",
        "\n",
        "# Step 2. Define the base estimator (any estimator providing 'fit' and 'predict')\n",
        "# Note: we could have used other algorithm such as logistic regression or random forest\n",
        "base_estimator = DecisionTreeClassifier(max_depth=20, min_samples_leaf=10)\n",
        "\n",
        "# Step 3. Define the bias reducer algorithm you want to apply\n",
        "bias_reducer = ExponentiatedGradient(base_estimator, constraint, T=50)\n",
        "\n",
        "# Step 4. Fit the data (and provide the sensitive attributes)\n",
        "bias_reducer.fit(X_train, y_train, sensitive_features=A_train)"
      ]
    },
    {
      "cell_type": "markdown",
      "metadata": {
        "id": "gFgXmMrU1I_g"
      },
      "source": [
        "### Predict on our test set"
      ]
    },
    {
      "cell_type": "code",
      "execution_count": null,
      "metadata": {
        "id": "umdO7pCQ1I_h"
      },
      "outputs": [],
      "source": [
        "# Step 5. Use the mitigator to make predictions \n",
        "y_pred_4 = bias_reducer.predict(X_test)\n",
        "new_preds_4 = testdf[['entity_id','as_of_date','quickstart_label']].copy()\n",
        "new_preds_4['score'] = y_pred_4"
      ]
    },
    {
      "cell_type": "markdown",
      "metadata": {
        "id": "Lgd0HP8j1I_h"
      },
      "source": [
        "### Look at the output\n",
        "Notice that unlike many classifiers, the `ExponentiatedGradient` doesn't have a method for predicting a continuous score, just predicted classes of 0 or 1. How many projects did this model predict are at risk of going unfunded (that is, predicted class of 1)?"
      ]
    },
    {
      "cell_type": "code",
      "execution_count": null,
      "metadata": {
        "id": "59fGhOdd1I_i"
      },
      "outputs": [],
      "source": [
        "new_preds_4['score'].value_counts()"
      ]
    },
    {
      "cell_type": "markdown",
      "metadata": {
        "id": "QZ_WJCkA1I_i"
      },
      "source": [
        "It looks like about 6,500 projects are predicted as being at risk of going unfunded by this classifier, but unfortunately our program is resource-constrained and can only help 1,000 of them. At this point, if we wanted to pick out the 1,000 highest-risk projects (subject to our fairness constraint), we're a bit stuck: **the classifier doesn't give us any method for distinguishing higher-risk vs lower-risk projects!**\n",
        "\n",
        "Given this limitation, we might posit that a reasonable approach would be to pick 1,000 projects to intervene with from among these 6,500. Let's see what would happen if we did that..."
      ]
    },
    {
      "cell_type": "markdown",
      "metadata": {
        "id": "Q4UOP71_1I_i"
      },
      "source": [
        "### Before and After: Run Aequitas\n",
        "\n",
        "For reference, let's start with looking at the \"best\" model we chose in terms of overall precision at 1,000:"
      ]
    },
    {
      "cell_type": "markdown",
      "metadata": {
        "id": "xvE07yJm1I_i"
      },
      "source": [
        "#### Load the predictions from the \"best\" model chosen earlier"
      ]
    },
    {
      "cell_type": "code",
      "execution_count": null,
      "metadata": {
        "id": "Z8qrOToD1I_j"
      },
      "outputs": [],
      "source": [
        "old_preds = pd.read_csv(DATAPATH + 'predictions_c598fbe93f4c218ac7d325fb478598f1.csv.gz', compression='gzip')\n",
        "old_attrdf = pd.read_csv(DATAPATH + 'test_20121201_20130201_protected.csv.gz', compression='gzip')\n",
        "\n",
        "old_df = pd.merge(old_preds, old_attrdf, how='left', on=[id_col, date_col], left_index=True, right_index=False, sort=True, copy=True)\n",
        "\n",
        "old_df = old_df.sort_values('predict_proba', ascending=False)\n",
        "old_df = old_df.rename(columns = {label_col:'label_value'}) # naming for Aequitas\n",
        "\n",
        "# create a \"score\" column with the predicted class (named \"score\" for use with Aequitas below)\n",
        "old_df['score'] = old_df.apply(lambda x: 1.0 if x.name in old_df.head(top_k).index.tolist() else 0, axis=1)"
      ]
    },
    {
      "cell_type": "markdown",
      "metadata": {
        "id": "nCRBp5DB1I_j"
      },
      "source": [
        "#### Before: Run Aequitas for the \"best\" model chosen earlier"
      ]
    },
    {
      "cell_type": "code",
      "execution_count": null,
      "metadata": {
        "id": "cHiXAArY1I_j"
      },
      "outputs": [],
      "source": [
        "def aequitas_audit(input_df, ref_groups_dict):\n",
        "    g = Group()\n",
        "    b = Bias()\n",
        "    xtab, _ = g.get_crosstabs(input_df[['score','label_value'] + list(ref_groups_dict.keys())].copy())\n",
        "    bdf = b.get_disparity_predefined_groups(xtab, input_df, ref_groups_dict)\n",
        "    return bdf\n"
      ]
    },
    {
      "cell_type": "code",
      "execution_count": null,
      "metadata": {
        "id": "cwgYwTXr1I_j"
      },
      "outputs": [],
      "source": [
        "bdf_old = aequitas_audit(old_df, protected_attribute_ref_group)\n",
        "\n",
        "ap.disparity(bdf_old, metrics, attr_col, fairness_threshold=disparity_threshold)"
      ]
    },
    {
      "cell_type": "markdown",
      "metadata": {
        "id": "bkSBCTVz1I_j"
      },
      "source": [
        "#### After: Run Aequitas for the new, fairness-aware model"
      ]
    },
    {
      "cell_type": "markdown",
      "metadata": {
        "id": "BUjHKvqt1I_k"
      },
      "source": [
        "Remember here that we would choose 1,000 at random from the 6,500 with predicted class 1, so the expected value for the recall disparity of this randomly-selected set would just be the value of full set (that is, the recall of each subgroup would, on average, be proportionally lower in the sub-sample):"
      ]
    },
    {
      "cell_type": "code",
      "execution_count": null,
      "metadata": {
        "id": "reTrSb5E1I_k"
      },
      "outputs": [],
      "source": [
        "df_4 = pd.merge(new_preds_4, test_attrdf, how='left', on=['entity_id','as_of_date'], left_index=True, right_index=False, sort=True, copy=True)\n",
        "df_4 = df_4.rename(columns = {label_col:'label_value'})\n",
        "\n",
        "bdf_4 = aequitas_audit(df_4, protected_attribute_ref_group)\n",
        "\n",
        "ap.disparity(bdf_4, metrics, attr_col, fairness_threshold=disparity_threshold)"
      ]
    },
    {
      "cell_type": "markdown",
      "metadata": {
        "id": "VcPdFKfR1I_k"
      },
      "source": [
        "That looks pretty good! The new model appears to have reduced the disparity across poverty levels considerably relative to what we saw when training a model without a fairness constraint and choosing based on precision alone.\n",
        "\n",
        "However, the natural question here is where there is a fairness-accuracy trade-off here: What cost did we incur in terms of model performance, that is overall precision?"
      ]
    },
    {
      "cell_type": "markdown",
      "metadata": {
        "id": "FJqf_2Gt1I_k"
      },
      "source": [
        "#### Precision of the \"best\" model chosen earlier"
      ]
    },
    {
      "cell_type": "code",
      "execution_count": null,
      "metadata": {
        "id": "R5_qkCbm1I_k"
      },
      "outputs": [],
      "source": [
        "old_df.loc[old_df['score']==1]['label_value'].mean()"
      ]
    },
    {
      "cell_type": "markdown",
      "metadata": {
        "id": "iDHE05TQ1I_l"
      },
      "source": [
        "#### Precision of the new, fairness-aware model\n",
        "\n",
        "As above, we would be sampling from the 6,500 down to 1,000 but the expected value of precision in this sample would just be the mean label value in the full population:"
      ]
    },
    {
      "cell_type": "code",
      "execution_count": null,
      "metadata": {
        "id": "aQmltoYh1I_l"
      },
      "outputs": [],
      "source": [
        "df_4.loc[df_4['score']==1]['label_value'].mean()"
      ]
    },
    {
      "cell_type": "markdown",
      "metadata": {
        "id": "sfLyiCpO1I_l"
      },
      "source": [
        "So, compared to the old model, this method has resulted in **quite a large trade-off in model performance to acheive fairness**. This is certainly in part a result of the lack of flexibility in the method not allowing us to provide a score threshold or top k size that we're interested in equalizing our fairness metric around and instead using a built-in threshold that yields 6,500 predicted positives when we're only able to intervene on 1,000. Unfortunately, this sort of inflexibility appears to be a common attribute of many in-processing methods available today.\n",
        "\n",
        "For context, the overall base rate (`df['label_value'].mean()`) is 0.338, so the drop-off in precision here is about half way from our previous model to simply choosing at random."
      ]
    },
    {
      "cell_type": "markdown",
      "metadata": {
        "id": "WJ_Hipp31I_l"
      },
      "source": [
        "### Adding to model selection\n",
        "\n",
        "Finally, let's look at how this new option stacks up against what we plotted in our model selection process:"
      ]
    },
    {
      "cell_type": "code",
      "execution_count": null,
      "metadata": {
        "id": "UUi4vmYd1I_l"
      },
      "outputs": [],
      "source": [
        "mitigated_precision_4 = df_4.loc[df_4['score']==1]['label_value'].mean()\n",
        "plot_configs = {\n",
        "    'evals_df':evals_df, \n",
        "    'aequitas_df':aequitas_df,\n",
        "    'attr_col':'poverty_level', \n",
        "    'group_name':'highest',\n",
        "    'performance_col':'model_precision',\n",
        "    'bias_metric':'tpr', \n",
        "    'flip_disparity':True, \n",
        "    'mitigated_tags':['Fairlearn Reductions'],\n",
        "    'mitigated_bdfs':[bdf_4], \n",
        "    'mitigated_performances':[mitigated_precision_4], \n",
        "    'ylim':None\n",
        "}\n",
        "create_scatter_disparity_performance(**plot_configs)"
      ]
    },
    {
      "cell_type": "markdown",
      "metadata": {
        "id": "iTX4e8rG1I_m"
      },
      "source": [
        "## <font color=red>Bias Reduction Strategy 3: Post-Hoc Disparity Mitigation</font>"
      ]
    },
    {
      "cell_type": "markdown",
      "metadata": {
        "id": "JfekZz8-1I_m"
      },
      "source": [
        "### What has already happened?\n",
        "\n",
        "We've already cleaned data, generated features, created train-test sets, built 1000s of models on each training set and scored each test set with them, and calculated various evaluation metrics. We then used these results to pick a \"best\" model in terms of performance on the \"accuracy\" metric we care about: **Precision at the top 1000** (corresponding to our goal of selecting 1000 project submissions that are most likely to not get funded in order to prioritize resource allocation).\n",
        "\n",
        "When we audited this selected model with Aequitas, however, we found biases across many attributes, including the poverty level of the schools. Here, we explore a method of using post-hoc disparity mitigation to reduce this bias in the selected model."
      ]
    },
    {
      "cell_type": "markdown",
      "metadata": {
        "id": "NnNfnCEn1I_m"
      },
      "source": [
        "### <font color=green>Intro to Post-Hoc Bias Mitigation</font>\n",
        "\n",
        "![Diagram of Post-Hoc Adjustments](post_hoc_adj.png \"Post-Hoc Adjustments\")\n",
        "\n",
        "One approach to improving the fairness of our model is to make post-hoc adjustments to the thresholds used for each subgroup to choose the 1,000 projects on which to intervene. Because our fairness metric here (**recall** aka **tpr** aka **equality of opportunity**) is monatonically increasing with the depth of the score, we should be able to find score thresholds for each subgroup that will equalize this metric across the groups, subject to the constraint that we want to choose a total of 1,000 projects for our intervation.\n",
        "\n",
        "In short, here's how this will work (see the references below for a more detailed discussion):\n",
        "1. Train the model as usual on a training set, predict scores on a test set\n",
        "2. Split this test set by subgroups on our protected attribute (here, poverty level)\n",
        "3. Sort each subgroup by score and calculate the cumulative tpr/recall up to and including each row in the set, storing this \"rolling within-subgroup recall\" value\n",
        "4. Recombine the subgroups, and sort the entire set by this new value\n",
        "5. Take the top 1,000 projects from this re-ordered list and use it to calculate \"top k\" sizes for each subgroup that equalize recall\n",
        "6. Then, on a future test set, use these calculated subgroup list sizes to assess the impact of disparities and overall precision\n",
        "\n",
        "References:\n",
        "- Hardt, et al, [Equality of Opportunity in Supervised Learning](http://papers.nips.cc/paper/6373-equality-of-opportunity-in-supervised-learning)\n",
        "- Rodolfa, et al, [Case Study: Predictive Fairness to Reduce Misdemeanor Recidivism Through Social Service Interventions](https://dl.acm.org/doi/abs/10.1145/3351095.3372863?casa_token=zc196JJrqkkAAAAA:bPmqmKrA91esJhIxHPT4K1crWWb5JGcflVFDkTgODctMzLpUX50_56Kyyh4NJ2GTd_QSydqhNpjT)"
      ]
    },
    {
      "cell_type": "markdown",
      "metadata": {
        "id": "D2DYd8Qu1I_n"
      },
      "source": [
        "### Load the train, test, and protected attributes from the first split"
      ]
    },
    {
      "cell_type": "code",
      "execution_count": 6,
      "metadata": {
        "id": "j64q3Gws1I_n"
      },
      "outputs": [],
      "source": [
        "split1_traindf = pd.read_csv(DATAPATH + 'train_20111101_20120201.csv.gz', compression='gzip')\n",
        "split1_testdf = pd.read_csv(DATAPATH + 'test_20120601_20120801.csv.gz', compression='gzip')\n",
        "split1_attrdf = pd.read_csv(DATAPATH + 'test_20120601_20120801_protected.csv.gz', compression='gzip')"
      ]
    },
    {
      "cell_type": "markdown",
      "metadata": {
        "id": "Opsngy5L1I_o"
      },
      "source": [
        "Let's just take a quick look at the data to make sure it makes sense:"
      ]
    },
    {
      "cell_type": "code",
      "execution_count": 7,
      "metadata": {
        "colab": {
          "base_uri": "https://localhost:8080/",
          "height": 300
        },
        "id": "9VGeT67O1I_o",
        "outputId": "6b8d691b-5174-4f9a-ecbf-9553b893ebee"
      },
      "outputs": [
        {
          "output_type": "execute_result",
          "data": {
            "text/plain": [
              "   entity_id     as_of_date  \\\n",
              "0     313448  1320105600000   \n",
              "1     313441  1320105600000   \n",
              "2     313449  1320105600000   \n",
              "3     313447  1320105600000   \n",
              "4     313446  1320105600000   \n",
              "\n",
              "   project_features_entity_id_all_grade_level_Grades35_sum  \\\n",
              "0                                                0.0         \n",
              "1                                                1.0         \n",
              "2                                                0.0         \n",
              "3                                                1.0         \n",
              "4                                                0.0         \n",
              "\n",
              "   project_features_entity_id_all_grade_level_Grades68_sum  \\\n",
              "0                                                0.0         \n",
              "1                                                0.0         \n",
              "2                                                0.0         \n",
              "3                                                0.0         \n",
              "4                                                0.0         \n",
              "\n",
              "   project_features_entity_id_all_grade_level_Grades912_sum  \\\n",
              "0                                                1.0          \n",
              "1                                                0.0          \n",
              "2                                                1.0          \n",
              "3                                                0.0          \n",
              "4                                                0.0          \n",
              "\n",
              "   project_features_entity_id_all_grade_level_GradesPreK2_sum  \\\n",
              "0                                                0.0            \n",
              "1                                                0.0            \n",
              "2                                                0.0            \n",
              "3                                                0.0            \n",
              "4                                                1.0            \n",
              "\n",
              "   project_features_entity_id_all_grade_level__NULL_sum  \\\n",
              "0                                                0.0      \n",
              "1                                                0.0      \n",
              "2                                                0.0      \n",
              "3                                                0.0      \n",
              "4                                                0.0      \n",
              "\n",
              "   project_features_entity_id_all_resource_type_Books_sum  \\\n",
              "0                                                0.0        \n",
              "1                                                0.0        \n",
              "2                                                0.0        \n",
              "3                                                0.0        \n",
              "4                                                0.0        \n",
              "\n",
              "   project_features_entity_id_all_resource_type_Other_sum  \\\n",
              "0                                                0.0        \n",
              "1                                                0.0        \n",
              "2                                                0.0        \n",
              "3                                                0.0        \n",
              "4                                                0.0        \n",
              "\n",
              "   project_features_entity_id_all_resource_type_Supplies_sum  ...  \\\n",
              "0                                                1.0          ...   \n",
              "1                                                1.0          ...   \n",
              "2                                                0.0          ...   \n",
              "3                                                1.0          ...   \n",
              "4                                                1.0          ...   \n",
              "\n",
              "   donation_features_entity_id_all_zip_avg_donations_2yr_imp  \\\n",
              "0                                                0.0           \n",
              "1                                                1.0           \n",
              "2                                                0.0           \n",
              "3                                                1.0           \n",
              "4                                                0.0           \n",
              "\n",
              "   donation_features_entity_id_all_zip_funding_rate_1yr_sum  \\\n",
              "0                                           0.636364          \n",
              "1                                           0.000000          \n",
              "2                                           0.300000          \n",
              "3                                           0.000000          \n",
              "4                                           0.111111          \n",
              "\n",
              "   donation_features_entity_id_all_zip_funding_rate_1yr_imp  \\\n",
              "0                                                0.0          \n",
              "1                                                1.0          \n",
              "2                                                0.0          \n",
              "3                                                1.0          \n",
              "4                                                0.0          \n",
              "\n",
              "   donation_features_entity_id_all_zip_funding_rate_2yr_sum  \\\n",
              "0                                           0.696970          \n",
              "1                                           0.000000          \n",
              "2                                           0.592593          \n",
              "3                                           0.000000          \n",
              "4                                           0.652174          \n",
              "\n",
              "   donation_features_entity_id_all_zip_funding_rate_2yr_imp  quickstart_label  \\\n",
              "0                                                0.0                      1.0   \n",
              "1                                                1.0                      0.0   \n",
              "2                                                0.0                      1.0   \n",
              "3                                                1.0                      0.0   \n",
              "4                                                0.0                      0.0   \n",
              "\n",
              "   project_features_entity_id_all_poverty_level_highpoverty  \\\n",
              "0                                                1.0          \n",
              "1                                                0.0          \n",
              "2                                                1.0          \n",
              "3                                                0.0          \n",
              "4                                                0.0          \n",
              "\n",
              "   project_features_entity_id_all_poverty_level_highestpoverty  \\\n",
              "0                                                0.0             \n",
              "1                                                0.0             \n",
              "2                                                0.0             \n",
              "3                                                0.0             \n",
              "4                                                0.0             \n",
              "\n",
              "   project_features_entity_id_all_poverty_level_lowpoverty  \\\n",
              "0                                                0.0         \n",
              "1                                                1.0         \n",
              "2                                                0.0         \n",
              "3                                                0.0         \n",
              "4                                                0.0         \n",
              "\n",
              "   project_features_entity_id_all_poverty_level_moderatepoverty  \n",
              "0                                                0.0             \n",
              "1                                                0.0             \n",
              "2                                                0.0             \n",
              "3                                                1.0             \n",
              "4                                                1.0             \n",
              "\n",
              "[5 rows x 113 columns]"
            ],
            "text/html": [
              "\n",
              "  <div id=\"df-117447fc-8730-4d73-bc02-53d3042eb0ea\">\n",
              "    <div class=\"colab-df-container\">\n",
              "      <div>\n",
              "<style scoped>\n",
              "    .dataframe tbody tr th:only-of-type {\n",
              "        vertical-align: middle;\n",
              "    }\n",
              "\n",
              "    .dataframe tbody tr th {\n",
              "        vertical-align: top;\n",
              "    }\n",
              "\n",
              "    .dataframe thead th {\n",
              "        text-align: right;\n",
              "    }\n",
              "</style>\n",
              "<table border=\"1\" class=\"dataframe\">\n",
              "  <thead>\n",
              "    <tr style=\"text-align: right;\">\n",
              "      <th></th>\n",
              "      <th>entity_id</th>\n",
              "      <th>as_of_date</th>\n",
              "      <th>project_features_entity_id_all_grade_level_Grades35_sum</th>\n",
              "      <th>project_features_entity_id_all_grade_level_Grades68_sum</th>\n",
              "      <th>project_features_entity_id_all_grade_level_Grades912_sum</th>\n",
              "      <th>project_features_entity_id_all_grade_level_GradesPreK2_sum</th>\n",
              "      <th>project_features_entity_id_all_grade_level__NULL_sum</th>\n",
              "      <th>project_features_entity_id_all_resource_type_Books_sum</th>\n",
              "      <th>project_features_entity_id_all_resource_type_Other_sum</th>\n",
              "      <th>project_features_entity_id_all_resource_type_Supplies_sum</th>\n",
              "      <th>...</th>\n",
              "      <th>donation_features_entity_id_all_zip_avg_donations_2yr_imp</th>\n",
              "      <th>donation_features_entity_id_all_zip_funding_rate_1yr_sum</th>\n",
              "      <th>donation_features_entity_id_all_zip_funding_rate_1yr_imp</th>\n",
              "      <th>donation_features_entity_id_all_zip_funding_rate_2yr_sum</th>\n",
              "      <th>donation_features_entity_id_all_zip_funding_rate_2yr_imp</th>\n",
              "      <th>quickstart_label</th>\n",
              "      <th>project_features_entity_id_all_poverty_level_highpoverty</th>\n",
              "      <th>project_features_entity_id_all_poverty_level_highestpoverty</th>\n",
              "      <th>project_features_entity_id_all_poverty_level_lowpoverty</th>\n",
              "      <th>project_features_entity_id_all_poverty_level_moderatepoverty</th>\n",
              "    </tr>\n",
              "  </thead>\n",
              "  <tbody>\n",
              "    <tr>\n",
              "      <th>0</th>\n",
              "      <td>313448</td>\n",
              "      <td>1320105600000</td>\n",
              "      <td>0.0</td>\n",
              "      <td>0.0</td>\n",
              "      <td>1.0</td>\n",
              "      <td>0.0</td>\n",
              "      <td>0.0</td>\n",
              "      <td>0.0</td>\n",
              "      <td>0.0</td>\n",
              "      <td>1.0</td>\n",
              "      <td>...</td>\n",
              "      <td>0.0</td>\n",
              "      <td>0.636364</td>\n",
              "      <td>0.0</td>\n",
              "      <td>0.696970</td>\n",
              "      <td>0.0</td>\n",
              "      <td>1.0</td>\n",
              "      <td>1.0</td>\n",
              "      <td>0.0</td>\n",
              "      <td>0.0</td>\n",
              "      <td>0.0</td>\n",
              "    </tr>\n",
              "    <tr>\n",
              "      <th>1</th>\n",
              "      <td>313441</td>\n",
              "      <td>1320105600000</td>\n",
              "      <td>1.0</td>\n",
              "      <td>0.0</td>\n",
              "      <td>0.0</td>\n",
              "      <td>0.0</td>\n",
              "      <td>0.0</td>\n",
              "      <td>0.0</td>\n",
              "      <td>0.0</td>\n",
              "      <td>1.0</td>\n",
              "      <td>...</td>\n",
              "      <td>1.0</td>\n",
              "      <td>0.000000</td>\n",
              "      <td>1.0</td>\n",
              "      <td>0.000000</td>\n",
              "      <td>1.0</td>\n",
              "      <td>0.0</td>\n",
              "      <td>0.0</td>\n",
              "      <td>0.0</td>\n",
              "      <td>1.0</td>\n",
              "      <td>0.0</td>\n",
              "    </tr>\n",
              "    <tr>\n",
              "      <th>2</th>\n",
              "      <td>313449</td>\n",
              "      <td>1320105600000</td>\n",
              "      <td>0.0</td>\n",
              "      <td>0.0</td>\n",
              "      <td>1.0</td>\n",
              "      <td>0.0</td>\n",
              "      <td>0.0</td>\n",
              "      <td>0.0</td>\n",
              "      <td>0.0</td>\n",
              "      <td>0.0</td>\n",
              "      <td>...</td>\n",
              "      <td>0.0</td>\n",
              "      <td>0.300000</td>\n",
              "      <td>0.0</td>\n",
              "      <td>0.592593</td>\n",
              "      <td>0.0</td>\n",
              "      <td>1.0</td>\n",
              "      <td>1.0</td>\n",
              "      <td>0.0</td>\n",
              "      <td>0.0</td>\n",
              "      <td>0.0</td>\n",
              "    </tr>\n",
              "    <tr>\n",
              "      <th>3</th>\n",
              "      <td>313447</td>\n",
              "      <td>1320105600000</td>\n",
              "      <td>1.0</td>\n",
              "      <td>0.0</td>\n",
              "      <td>0.0</td>\n",
              "      <td>0.0</td>\n",
              "      <td>0.0</td>\n",
              "      <td>0.0</td>\n",
              "      <td>0.0</td>\n",
              "      <td>1.0</td>\n",
              "      <td>...</td>\n",
              "      <td>1.0</td>\n",
              "      <td>0.000000</td>\n",
              "      <td>1.0</td>\n",
              "      <td>0.000000</td>\n",
              "      <td>1.0</td>\n",
              "      <td>0.0</td>\n",
              "      <td>0.0</td>\n",
              "      <td>0.0</td>\n",
              "      <td>0.0</td>\n",
              "      <td>1.0</td>\n",
              "    </tr>\n",
              "    <tr>\n",
              "      <th>4</th>\n",
              "      <td>313446</td>\n",
              "      <td>1320105600000</td>\n",
              "      <td>0.0</td>\n",
              "      <td>0.0</td>\n",
              "      <td>0.0</td>\n",
              "      <td>1.0</td>\n",
              "      <td>0.0</td>\n",
              "      <td>0.0</td>\n",
              "      <td>0.0</td>\n",
              "      <td>1.0</td>\n",
              "      <td>...</td>\n",
              "      <td>0.0</td>\n",
              "      <td>0.111111</td>\n",
              "      <td>0.0</td>\n",
              "      <td>0.652174</td>\n",
              "      <td>0.0</td>\n",
              "      <td>0.0</td>\n",
              "      <td>0.0</td>\n",
              "      <td>0.0</td>\n",
              "      <td>0.0</td>\n",
              "      <td>1.0</td>\n",
              "    </tr>\n",
              "  </tbody>\n",
              "</table>\n",
              "<p>5 rows × 113 columns</p>\n",
              "</div>\n",
              "      <button class=\"colab-df-convert\" onclick=\"convertToInteractive('df-117447fc-8730-4d73-bc02-53d3042eb0ea')\"\n",
              "              title=\"Convert this dataframe to an interactive table.\"\n",
              "              style=\"display:none;\">\n",
              "        \n",
              "  <svg xmlns=\"http://www.w3.org/2000/svg\" height=\"24px\"viewBox=\"0 0 24 24\"\n",
              "       width=\"24px\">\n",
              "    <path d=\"M0 0h24v24H0V0z\" fill=\"none\"/>\n",
              "    <path d=\"M18.56 5.44l.94 2.06.94-2.06 2.06-.94-2.06-.94-.94-2.06-.94 2.06-2.06.94zm-11 1L8.5 8.5l.94-2.06 2.06-.94-2.06-.94L8.5 2.5l-.94 2.06-2.06.94zm10 10l.94 2.06.94-2.06 2.06-.94-2.06-.94-.94-2.06-.94 2.06-2.06.94z\"/><path d=\"M17.41 7.96l-1.37-1.37c-.4-.4-.92-.59-1.43-.59-.52 0-1.04.2-1.43.59L10.3 9.45l-7.72 7.72c-.78.78-.78 2.05 0 2.83L4 21.41c.39.39.9.59 1.41.59.51 0 1.02-.2 1.41-.59l7.78-7.78 2.81-2.81c.8-.78.8-2.07 0-2.86zM5.41 20L4 18.59l7.72-7.72 1.47 1.35L5.41 20z\"/>\n",
              "  </svg>\n",
              "      </button>\n",
              "      \n",
              "  <style>\n",
              "    .colab-df-container {\n",
              "      display:flex;\n",
              "      flex-wrap:wrap;\n",
              "      gap: 12px;\n",
              "    }\n",
              "\n",
              "    .colab-df-convert {\n",
              "      background-color: #E8F0FE;\n",
              "      border: none;\n",
              "      border-radius: 50%;\n",
              "      cursor: pointer;\n",
              "      display: none;\n",
              "      fill: #1967D2;\n",
              "      height: 32px;\n",
              "      padding: 0 0 0 0;\n",
              "      width: 32px;\n",
              "    }\n",
              "\n",
              "    .colab-df-convert:hover {\n",
              "      background-color: #E2EBFA;\n",
              "      box-shadow: 0px 1px 2px rgba(60, 64, 67, 0.3), 0px 1px 3px 1px rgba(60, 64, 67, 0.15);\n",
              "      fill: #174EA6;\n",
              "    }\n",
              "\n",
              "    [theme=dark] .colab-df-convert {\n",
              "      background-color: #3B4455;\n",
              "      fill: #D2E3FC;\n",
              "    }\n",
              "\n",
              "    [theme=dark] .colab-df-convert:hover {\n",
              "      background-color: #434B5C;\n",
              "      box-shadow: 0px 1px 3px 1px rgba(0, 0, 0, 0.15);\n",
              "      filter: drop-shadow(0px 1px 2px rgba(0, 0, 0, 0.3));\n",
              "      fill: #FFFFFF;\n",
              "    }\n",
              "  </style>\n",
              "\n",
              "      <script>\n",
              "        const buttonEl =\n",
              "          document.querySelector('#df-117447fc-8730-4d73-bc02-53d3042eb0ea button.colab-df-convert');\n",
              "        buttonEl.style.display =\n",
              "          google.colab.kernel.accessAllowed ? 'block' : 'none';\n",
              "\n",
              "        async function convertToInteractive(key) {\n",
              "          const element = document.querySelector('#df-117447fc-8730-4d73-bc02-53d3042eb0ea');\n",
              "          const dataTable =\n",
              "            await google.colab.kernel.invokeFunction('convertToInteractive',\n",
              "                                                     [key], {});\n",
              "          if (!dataTable) return;\n",
              "\n",
              "          const docLinkHtml = 'Like what you see? Visit the ' +\n",
              "            '<a target=\"_blank\" href=https://colab.research.google.com/notebooks/data_table.ipynb>data table notebook</a>'\n",
              "            + ' to learn more about interactive tables.';\n",
              "          element.innerHTML = '';\n",
              "          dataTable['output_type'] = 'display_data';\n",
              "          await google.colab.output.renderOutput(dataTable, element);\n",
              "          const docLink = document.createElement('div');\n",
              "          docLink.innerHTML = docLinkHtml;\n",
              "          element.appendChild(docLink);\n",
              "        }\n",
              "      </script>\n",
              "    </div>\n",
              "  </div>\n",
              "  "
            ]
          },
          "metadata": {},
          "execution_count": 7
        }
      ],
      "source": [
        "split1_traindf.head()"
      ]
    },
    {
      "cell_type": "markdown",
      "metadata": {
        "id": "ZLM-Qn9K1I_o"
      },
      "source": [
        "### Set up some parameters we'll need below\n",
        "\n",
        "Note that the classifier type and hyperparameters here are from the best-performing model we chose above based on precision on the top 1000."
      ]
    },
    {
      "cell_type": "code",
      "execution_count": 8,
      "metadata": {
        "id": "zlGNFoyK1I_p"
      },
      "outputs": [],
      "source": [
        "hyperparameters = {\n",
        "    'criterion': 'gini',\n",
        "    'max_depth': 30,\n",
        "    'max_features': 'sqrt',\n",
        "    'min_samples_leaf': 44,\n",
        "    'min_samples_split': 3,\n",
        "    'n_estimators': 87,\n",
        "    'n_jobs': -1,\n",
        "    'random_state': 213500298\n",
        "}\n",
        "clf = RandomForestClassifier(**hyperparameters)\n",
        "\n",
        "top_k = 1000\n",
        "\n",
        "label_col = 'quickstart_label'\n",
        "entity_col = 'entity_id'\n",
        "date_col = 'as_of_date'\n",
        "exclude_cols = [label_col, entity_col, date_col] # columns to exclude from the X matrices for the classifier\n",
        "\n",
        "protected_attribute_col = 'poverty_level'\n",
        "\n",
        "# Parameters for Aequitas\n",
        "\n",
        "metrics = ['tpr']\n",
        "disparity_threshold = 1.3\n",
        "protected_attribute_ref_group = {protected_attribute_col:'lower'}\n"
      ]
    },
    {
      "cell_type": "markdown",
      "metadata": {
        "id": "4R1bBGhk1I_p"
      },
      "source": [
        "### Train the model and predict on the test set"
      ]
    },
    {
      "cell_type": "code",
      "execution_count": 9,
      "metadata": {
        "id": "Bxqomd191I_p"
      },
      "outputs": [],
      "source": [
        "# train\n",
        "y_train = split1_traindf[label_col].values\n",
        "clf.fit(split1_traindf.drop(exclude_cols, axis = 1), y_train)\n",
        "\n",
        "# test set predictions\n",
        "split1_preds = split1_testdf[[entity_col, date_col, label_col]].copy()\n",
        "split1_preds['predict_proba'] = clf.predict_proba(split1_testdf.drop(exclude_cols, axis = 1))[:,1]"
      ]
    },
    {
      "cell_type": "markdown",
      "metadata": {
        "id": "rm1A6JkG1I_q"
      },
      "source": [
        "Let's take a quick look at the predictions to make sure they look good:"
      ]
    },
    {
      "cell_type": "code",
      "execution_count": 10,
      "metadata": {
        "colab": {
          "base_uri": "https://localhost:8080/",
          "height": 206
        },
        "id": "6Nncm-z71I_q",
        "outputId": "bb742763-60ac-4bce-b1e1-f2d445c0aa55"
      },
      "outputs": [
        {
          "output_type": "execute_result",
          "data": {
            "text/plain": [
              "   entity_id     as_of_date  quickstart_label  predict_proba\n",
              "0     246363  1338591600000               1.0       0.382485\n",
              "1     246362  1338591600000               1.0       0.188013\n",
              "2     246361  1338591600000               0.0       0.398983\n",
              "3     246360  1338591600000               0.0       0.422042\n",
              "4     246359  1338591600000               1.0       0.403111"
            ],
            "text/html": [
              "\n",
              "  <div id=\"df-0fd90dbc-9af9-4687-b878-de8958790ecf\">\n",
              "    <div class=\"colab-df-container\">\n",
              "      <div>\n",
              "<style scoped>\n",
              "    .dataframe tbody tr th:only-of-type {\n",
              "        vertical-align: middle;\n",
              "    }\n",
              "\n",
              "    .dataframe tbody tr th {\n",
              "        vertical-align: top;\n",
              "    }\n",
              "\n",
              "    .dataframe thead th {\n",
              "        text-align: right;\n",
              "    }\n",
              "</style>\n",
              "<table border=\"1\" class=\"dataframe\">\n",
              "  <thead>\n",
              "    <tr style=\"text-align: right;\">\n",
              "      <th></th>\n",
              "      <th>entity_id</th>\n",
              "      <th>as_of_date</th>\n",
              "      <th>quickstart_label</th>\n",
              "      <th>predict_proba</th>\n",
              "    </tr>\n",
              "  </thead>\n",
              "  <tbody>\n",
              "    <tr>\n",
              "      <th>0</th>\n",
              "      <td>246363</td>\n",
              "      <td>1338591600000</td>\n",
              "      <td>1.0</td>\n",
              "      <td>0.382485</td>\n",
              "    </tr>\n",
              "    <tr>\n",
              "      <th>1</th>\n",
              "      <td>246362</td>\n",
              "      <td>1338591600000</td>\n",
              "      <td>1.0</td>\n",
              "      <td>0.188013</td>\n",
              "    </tr>\n",
              "    <tr>\n",
              "      <th>2</th>\n",
              "      <td>246361</td>\n",
              "      <td>1338591600000</td>\n",
              "      <td>0.0</td>\n",
              "      <td>0.398983</td>\n",
              "    </tr>\n",
              "    <tr>\n",
              "      <th>3</th>\n",
              "      <td>246360</td>\n",
              "      <td>1338591600000</td>\n",
              "      <td>0.0</td>\n",
              "      <td>0.422042</td>\n",
              "    </tr>\n",
              "    <tr>\n",
              "      <th>4</th>\n",
              "      <td>246359</td>\n",
              "      <td>1338591600000</td>\n",
              "      <td>1.0</td>\n",
              "      <td>0.403111</td>\n",
              "    </tr>\n",
              "  </tbody>\n",
              "</table>\n",
              "</div>\n",
              "      <button class=\"colab-df-convert\" onclick=\"convertToInteractive('df-0fd90dbc-9af9-4687-b878-de8958790ecf')\"\n",
              "              title=\"Convert this dataframe to an interactive table.\"\n",
              "              style=\"display:none;\">\n",
              "        \n",
              "  <svg xmlns=\"http://www.w3.org/2000/svg\" height=\"24px\"viewBox=\"0 0 24 24\"\n",
              "       width=\"24px\">\n",
              "    <path d=\"M0 0h24v24H0V0z\" fill=\"none\"/>\n",
              "    <path d=\"M18.56 5.44l.94 2.06.94-2.06 2.06-.94-2.06-.94-.94-2.06-.94 2.06-2.06.94zm-11 1L8.5 8.5l.94-2.06 2.06-.94-2.06-.94L8.5 2.5l-.94 2.06-2.06.94zm10 10l.94 2.06.94-2.06 2.06-.94-2.06-.94-.94-2.06-.94 2.06-2.06.94z\"/><path d=\"M17.41 7.96l-1.37-1.37c-.4-.4-.92-.59-1.43-.59-.52 0-1.04.2-1.43.59L10.3 9.45l-7.72 7.72c-.78.78-.78 2.05 0 2.83L4 21.41c.39.39.9.59 1.41.59.51 0 1.02-.2 1.41-.59l7.78-7.78 2.81-2.81c.8-.78.8-2.07 0-2.86zM5.41 20L4 18.59l7.72-7.72 1.47 1.35L5.41 20z\"/>\n",
              "  </svg>\n",
              "      </button>\n",
              "      \n",
              "  <style>\n",
              "    .colab-df-container {\n",
              "      display:flex;\n",
              "      flex-wrap:wrap;\n",
              "      gap: 12px;\n",
              "    }\n",
              "\n",
              "    .colab-df-convert {\n",
              "      background-color: #E8F0FE;\n",
              "      border: none;\n",
              "      border-radius: 50%;\n",
              "      cursor: pointer;\n",
              "      display: none;\n",
              "      fill: #1967D2;\n",
              "      height: 32px;\n",
              "      padding: 0 0 0 0;\n",
              "      width: 32px;\n",
              "    }\n",
              "\n",
              "    .colab-df-convert:hover {\n",
              "      background-color: #E2EBFA;\n",
              "      box-shadow: 0px 1px 2px rgba(60, 64, 67, 0.3), 0px 1px 3px 1px rgba(60, 64, 67, 0.15);\n",
              "      fill: #174EA6;\n",
              "    }\n",
              "\n",
              "    [theme=dark] .colab-df-convert {\n",
              "      background-color: #3B4455;\n",
              "      fill: #D2E3FC;\n",
              "    }\n",
              "\n",
              "    [theme=dark] .colab-df-convert:hover {\n",
              "      background-color: #434B5C;\n",
              "      box-shadow: 0px 1px 3px 1px rgba(0, 0, 0, 0.15);\n",
              "      filter: drop-shadow(0px 1px 2px rgba(0, 0, 0, 0.3));\n",
              "      fill: #FFFFFF;\n",
              "    }\n",
              "  </style>\n",
              "\n",
              "      <script>\n",
              "        const buttonEl =\n",
              "          document.querySelector('#df-0fd90dbc-9af9-4687-b878-de8958790ecf button.colab-df-convert');\n",
              "        buttonEl.style.display =\n",
              "          google.colab.kernel.accessAllowed ? 'block' : 'none';\n",
              "\n",
              "        async function convertToInteractive(key) {\n",
              "          const element = document.querySelector('#df-0fd90dbc-9af9-4687-b878-de8958790ecf');\n",
              "          const dataTable =\n",
              "            await google.colab.kernel.invokeFunction('convertToInteractive',\n",
              "                                                     [key], {});\n",
              "          if (!dataTable) return;\n",
              "\n",
              "          const docLinkHtml = 'Like what you see? Visit the ' +\n",
              "            '<a target=\"_blank\" href=https://colab.research.google.com/notebooks/data_table.ipynb>data table notebook</a>'\n",
              "            + ' to learn more about interactive tables.';\n",
              "          element.innerHTML = '';\n",
              "          dataTable['output_type'] = 'display_data';\n",
              "          await google.colab.output.renderOutput(dataTable, element);\n",
              "          const docLink = document.createElement('div');\n",
              "          docLink.innerHTML = docLinkHtml;\n",
              "          element.appendChild(docLink);\n",
              "        }\n",
              "      </script>\n",
              "    </div>\n",
              "  </div>\n",
              "  "
            ]
          },
          "metadata": {},
          "execution_count": 10
        }
      ],
      "source": [
        "split1_preds.head()"
      ]
    },
    {
      "cell_type": "code",
      "source": [
        "def round_to_nearest(score, grain=0.01):\n",
        "  return round(score/grain)*grain"
      ],
      "metadata": {
        "id": "CtSxAqlh2kC5"
      },
      "execution_count": 11,
      "outputs": []
    },
    {
      "cell_type": "code",
      "source": [
        "round_to_nearest(split1_preds['predict_proba'].head(), 0.01)"
      ],
      "metadata": {
        "colab": {
          "base_uri": "https://localhost:8080/"
        },
        "id": "cJuszfr23qYv",
        "outputId": "533f8b01-65d8-473e-cb0a-f3a5af038e53"
      },
      "execution_count": 12,
      "outputs": [
        {
          "output_type": "execute_result",
          "data": {
            "text/plain": [
              "0    0.38\n",
              "1    0.19\n",
              "2    0.40\n",
              "3    0.42\n",
              "4    0.40\n",
              "Name: predict_proba, dtype: float64"
            ]
          },
          "metadata": {},
          "execution_count": 12
        }
      ]
    },
    {
      "cell_type": "code",
      "source": [
        "np.random.random(split1_preds.head().shape[0])"
      ],
      "metadata": {
        "colab": {
          "base_uri": "https://localhost:8080/"
        },
        "id": "PrgiJDQI5HLk",
        "outputId": "6e973394-0b2b-401f-9868-2a62bb5859cb"
      },
      "execution_count": 13,
      "outputs": [
        {
          "output_type": "execute_result",
          "data": {
            "text/plain": [
              "array([0.68048322, 0.27152536, 0.02246453, 0.04947618, 0.43703979])"
            ]
          },
          "metadata": {},
          "execution_count": 13
        }
      ]
    },
    {
      "cell_type": "code",
      "source": [
        "tmp_df = split1_preds.copy()\n",
        "tmp_df['rounded_score'] = round_to_nearest(tmp_df['predict_proba'], 0.01)\n",
        "tmp_df['tmp_random'] = np.random.random(tmp_df.shape[0])\n",
        "tmp_df.sort_values(['rounded_score', 'tmp_random'], ascending=[False, False], inplace=True)\n",
        "score_thresh = tmp_df.head(1000)['rounded_score'].min()\n",
        "tmp_df.loc[tmp_df['rounded_score'] >= score_thresh].shape\n",
        "tmp_df.head(1000)['quickstart_label'].mean()"
      ],
      "metadata": {
        "colab": {
          "base_uri": "https://localhost:8080/"
        },
        "id": "j9KUdc3p4dXA",
        "outputId": "8779af54-fabb-4794-c645-47635f269c73"
      },
      "execution_count": 14,
      "outputs": [
        {
          "output_type": "execute_result",
          "data": {
            "text/plain": [
              "0.616"
            ]
          },
          "metadata": {},
          "execution_count": 14
        }
      ]
    },
    {
      "cell_type": "code",
      "source": [
        "tmp_df['tmp_random'] = np.random.random(tmp_df.shape[0])\n",
        "tmp_df.sort_values(['rounded_score', 'tmp_random'], ascending=[False, False], inplace=True)\n",
        "score_thresh = tmp_df.head(1000)['rounded_score'].min()\n",
        "tmp_df.loc[tmp_df['rounded_score'] >= score_thresh].shape\n",
        "tmp_df.head(1000)['quickstart_label'].mean()\n"
      ],
      "metadata": {
        "colab": {
          "base_uri": "https://localhost:8080/"
        },
        "id": "ZrhxutKH4do6",
        "outputId": "156d6f88-6ae5-4eb1-de05-2bd65ce479e8"
      },
      "execution_count": 15,
      "outputs": [
        {
          "output_type": "execute_result",
          "data": {
            "text/plain": [
              "0.615"
            ]
          },
          "metadata": {},
          "execution_count": 15
        }
      ]
    },
    {
      "cell_type": "code",
      "source": [
        "# NOTE: assumes all examples have labels\n",
        "def prec_at_k_trials(\n",
        "    df, k, grain=None, n_trial=30,\n",
        "    score_col='predict_proba', label_col='quickstart_label',\n",
        "    rounded_col='rounded_score', rand_col='tmp_random'\n",
        "):\n",
        "  tmp_df = df.copy()\n",
        "  if grain is not None:\n",
        "    tmp_df[rounded_col] = round_to_nearest(tmp_df[score_col], grain)\n",
        "  else:\n",
        "    tmp_df[rounded_col] = tmp_df[score_col]\n",
        "    grain = 0.0\n",
        "\n",
        "  results = {\n",
        "      'k': [],\n",
        "      'grain': [],\n",
        "      'score_thresh': [],\n",
        "      'num_above_thresh': [],\n",
        "      'prec_at_k': []\n",
        "  }\n",
        "\n",
        "  for t in range(n_trial):\n",
        "    results['k'].append(k)\n",
        "    results['grain'].append(grain)\n",
        "    tmp_df[rand_col] = np.random.random(tmp_df.shape[0])\n",
        "    tmp_df.sort_values([rounded_col, rand_col], ascending=[False, False], inplace=True)\n",
        "    score_thresh = tmp_df.head(k)[rounded_col].min()\n",
        "    results['score_thresh'].append(score_thresh)\n",
        "    results['num_above_thresh'].append(tmp_df.loc[tmp_df[rounded_col] >= score_thresh].shape[0])\n",
        "    results['prec_at_k'].append(tmp_df.head(k)[label_col].mean())\n",
        "\n",
        "  del(tmp_df)\n",
        "  return pd.DataFrame(results)"
      ],
      "metadata": {
        "id": "AIcD-QMc4dtU"
      },
      "execution_count": 16,
      "outputs": []
    },
    {
      "cell_type": "code",
      "source": [
        "res_list = []\n",
        "for grain in [None, 0.001, 0.005, 0.01, 0.05, 0.1, 0.2, 0.3, 0.4, 0.5, 1.0]:\n",
        "  res_list.append(prec_at_k_trials(split1_preds, k=1000, grain=grain, n_trial=30))\n",
        "\n",
        "results = pd.concat(res_list)"
      ],
      "metadata": {
        "id": "65WeAYXf4dwq"
      },
      "execution_count": 65,
      "outputs": []
    },
    {
      "cell_type": "code",
      "source": [
        "sns.boxplot('grain', 'prec_at_k', data=results)"
      ],
      "metadata": {
        "colab": {
          "base_uri": "https://localhost:8080/",
          "height": 302
        },
        "id": "dzwMJSc0_lYM",
        "outputId": "b17ec48c-b7e0-4d86-95ad-fe744978cce4"
      },
      "execution_count": 66,
      "outputs": [
        {
          "output_type": "execute_result",
          "data": {
            "text/plain": [
              "<matplotlib.axes._subplots.AxesSubplot at 0x7f932265f490>"
            ]
          },
          "metadata": {},
          "execution_count": 66
        },
        {
          "output_type": "display_data",
          "data": {
            "text/plain": [
              "<Figure size 432x288 with 1 Axes>"
            ],
            "image/png": "[encoded data removed]"
          },
          "metadata": {
            "needs_background": "light"
          }
        }
      ]
    },
    {
      "cell_type": "code",
      "source": [
        "sns.scatterplot('grain', 'num_above_thresh', data=results)"
      ],
      "metadata": {
        "colab": {
          "base_uri": "https://localhost:8080/",
          "height": 302
        },
        "id": "FS99VONwBuCu",
        "outputId": "f53ad37c-75c7-431b-9cd7-2032b52093c8"
      },
      "execution_count": 68,
      "outputs": [
        {
          "output_type": "execute_result",
          "data": {
            "text/plain": [
              "<matplotlib.axes._subplots.AxesSubplot at 0x7f93222a6f10>"
            ]
          },
          "metadata": {},
          "execution_count": 68
        },
        {
          "output_type": "display_data",
          "data": {
            "text/plain": [
              "<Figure size 432x288 with 1 Axes>"
            ],
            "image/png": "[encoded data removed]"
          },
          "metadata": {
            "needs_background": "light"
          }
        }
      ]
    },
    {
      "cell_type": "code",
      "source": [
        "sns.scatterplot('grain', 'score_thresh', data=results)"
      ],
      "metadata": {
        "colab": {
          "base_uri": "https://localhost:8080/",
          "height": 302
        },
        "id": "eWU_8GqtCEub",
        "outputId": "b7e31dad-1f90-4458-eb6f-80f8656bd680"
      },
      "execution_count": 69,
      "outputs": [
        {
          "output_type": "execute_result",
          "data": {
            "text/plain": [
              "<matplotlib.axes._subplots.AxesSubplot at 0x7f9322261190>"
            ]
          },
          "metadata": {},
          "execution_count": 69
        },
        {
          "output_type": "display_data",
          "data": {
            "text/plain": [
              "<Figure size 432x288 with 1 Axes>"
            ],
            "image/png": "[encoded data removed]"
          },
          "metadata": {
            "needs_background": "light"
          }
        }
      ]
    },
    {
      "cell_type": "code",
      "source": [
        "pd.merge(split1_preds, split1_attrdf, how='left', on=[entity_col,date_col], sort=True, copy=True).groupby('poverty_level')['quickstart_label'].sum()"
      ],
      "metadata": {
        "colab": {
          "base_uri": "https://localhost:8080/"
        },
        "id": "LCv_aJl5gHdY",
        "outputId": "15e37a12-dd72-457c-bf8f-12dc572eaed2"
      },
      "execution_count": 22,
      "outputs": [
        {
          "output_type": "execute_result",
          "data": {
            "text/plain": [
              "poverty_level\n",
              "highest    2279.0\n",
              "lower      2096.0\n",
              "Name: quickstart_label, dtype: float64"
            ]
          },
          "metadata": {},
          "execution_count": 22
        }
      ]
    },
    {
      "cell_type": "code",
      "source": [
        "pd.merge(split1_preds, split1_attrdf, how='left', on=[entity_col,date_col], sort=True, copy=True).shape"
      ],
      "metadata": {
        "colab": {
          "base_uri": "https://localhost:8080/"
        },
        "id": "AKJ8iMLOhPKy",
        "outputId": "46c13c58-644e-4d32-8861-56bbd2401380"
      },
      "execution_count": 23,
      "outputs": [
        {
          "output_type": "execute_result",
          "data": {
            "text/plain": [
              "(11307, 7)"
            ]
          },
          "metadata": {},
          "execution_count": 23
        }
      ]
    },
    {
      "cell_type": "code",
      "source": [
        "split1_preds.shape"
      ],
      "metadata": {
        "colab": {
          "base_uri": "https://localhost:8080/"
        },
        "id": "lKwoxjmWhQkx",
        "outputId": "21015888-29ea-4dbe-94ac-6a48bcdc06dd"
      },
      "execution_count": 24,
      "outputs": [
        {
          "output_type": "execute_result",
          "data": {
            "text/plain": [
              "(11307, 4)"
            ]
          },
          "metadata": {},
          "execution_count": 24
        }
      ]
    },
    {
      "cell_type": "code",
      "source": [
        "# NOTE: assumes all examples have labels, only 2 attribute levels for bias\n",
        "def prec_at_k_trials_bias(\n",
        "    df, k, grain=None, n_trial=30,\n",
        "    score_col='predict_proba', label_col='quickstart_label',\n",
        "    rounded_col='rounded_score', rand_col='tmp_random',\n",
        "    bias_attr='poverty_level', bias_denom='highest'\n",
        "):\n",
        "  tmp_df = df.copy()\n",
        "  if grain is not None:\n",
        "    tmp_df[rounded_col] = round_to_nearest(tmp_df[score_col], grain)\n",
        "  else:\n",
        "    tmp_df[rounded_col] = tmp_df[score_col]\n",
        "    grain = 0.0\n",
        "\n",
        "  results = {\n",
        "      'k': [],\n",
        "      'grain': [],\n",
        "      'bias_attr': [],\n",
        "      'bias_denom': [],\n",
        "      'score_thresh': [],\n",
        "      'num_above_thresh': [],\n",
        "      'prec_at_k': [],\n",
        "      'recall_disp': []\n",
        "  }\n",
        "\n",
        "  bias_denom_pos = tmp_df.loc[tmp_df[bias_attr] == bias_denom][label_col].sum()\n",
        "  bias_num_pos = tmp_df.loc[tmp_df[bias_attr] != bias_denom][label_col].sum()\n",
        "\n",
        "  for t in range(n_trial):\n",
        "    results['k'].append(k)\n",
        "    results['grain'].append(grain)\n",
        "    tmp_df[rand_col] = np.random.random(tmp_df.shape[0])\n",
        "    tmp_df.sort_values([rounded_col, rand_col], ascending=[False, False], inplace=True)\n",
        "\n",
        "    tmp_df_topk = tmp_df.head(k).copy()\n",
        "\n",
        "    score_thresh = tmp_df_topk[rounded_col].min()\n",
        "    results['score_thresh'].append(score_thresh)\n",
        "    results['num_above_thresh'].append(tmp_df.loc[tmp_df[rounded_col] >= score_thresh].shape[0])\n",
        "    results['prec_at_k'].append(tmp_df_topk[label_col].mean())\n",
        "\n",
        "    results['bias_attr'].append(bias_attr)\n",
        "    results['bias_denom'].append(bias_denom)\n",
        "    recall_denom = tmp_df_topk.loc[tmp_df_topk[bias_attr] == bias_denom][label_col].sum() / bias_denom_pos\n",
        "    recall_num = tmp_df_topk.loc[tmp_df_topk[bias_attr] != bias_denom][label_col].sum() / bias_num_pos\n",
        "    results['recall_disp'].append(recall_num / recall_denom)\n",
        "\n",
        "    print(bias_denom_pos)\n",
        "    print(recall_denom)\n",
        "    print(bias_num_pos)\n",
        "    print(recall_num)\n",
        "\n",
        "    del(tmp_df_topk)\n",
        "\n",
        "  del(tmp_df)\n",
        "  return pd.DataFrame(results)"
      ],
      "metadata": {
        "id": "BwIR223dg6nZ"
      },
      "execution_count": 17,
      "outputs": []
    },
    {
      "cell_type": "code",
      "source": [
        "split1_combined = pd.merge(split1_preds, split1_attrdf, how='left', on=[entity_col,date_col], sort=True, copy=True)"
      ],
      "metadata": {
        "id": "cML2zTTIi9o4"
      },
      "execution_count": 18,
      "outputs": []
    },
    {
      "cell_type": "code",
      "source": [
        "prec_at_k_trials_bias(split1_combined, k=1000, grain=1.0, n_trial=1)"
      ],
      "metadata": {
        "colab": {
          "base_uri": "https://localhost:8080/",
          "height": 150
        },
        "id": "emaO4lkgi5RG",
        "outputId": "a280fccb-83e0-4791-b37d-d83ce205ff07"
      },
      "execution_count": 19,
      "outputs": [
        {
          "output_type": "stream",
          "name": "stdout",
          "text": [
            "2279.0\n",
            "0.08731899956121106\n",
            "2096.0\n",
            "0.13072519083969467\n"
          ]
        },
        {
          "output_type": "execute_result",
          "data": {
            "text/plain": [
              "      k  grain      bias_attr bias_denom  score_thresh  num_above_thresh  \\\n",
              "0  1000    1.0  poverty_level    highest           0.0             11307   \n",
              "\n",
              "   prec_at_k  recall_disp  \n",
              "0      0.473     1.497099  "
            ],
            "text/html": [
              "\n",
              "  <div id=\"df-f46b7630-e5be-4561-92a5-ad8352f63801\">\n",
              "    <div class=\"colab-df-container\">\n",
              "      <div>\n",
              "<style scoped>\n",
              "    .dataframe tbody tr th:only-of-type {\n",
              "        vertical-align: middle;\n",
              "    }\n",
              "\n",
              "    .dataframe tbody tr th {\n",
              "        vertical-align: top;\n",
              "    }\n",
              "\n",
              "    .dataframe thead th {\n",
              "        text-align: right;\n",
              "    }\n",
              "</style>\n",
              "<table border=\"1\" class=\"dataframe\">\n",
              "  <thead>\n",
              "    <tr style=\"text-align: right;\">\n",
              "      <th></th>\n",
              "      <th>k</th>\n",
              "      <th>grain</th>\n",
              "      <th>bias_attr</th>\n",
              "      <th>bias_denom</th>\n",
              "      <th>score_thresh</th>\n",
              "      <th>num_above_thresh</th>\n",
              "      <th>prec_at_k</th>\n",
              "      <th>recall_disp</th>\n",
              "    </tr>\n",
              "  </thead>\n",
              "  <tbody>\n",
              "    <tr>\n",
              "      <th>0</th>\n",
              "      <td>1000</td>\n",
              "      <td>1.0</td>\n",
              "      <td>poverty_level</td>\n",
              "      <td>highest</td>\n",
              "      <td>0.0</td>\n",
              "      <td>11307</td>\n",
              "      <td>0.473</td>\n",
              "      <td>1.497099</td>\n",
              "    </tr>\n",
              "  </tbody>\n",
              "</table>\n",
              "</div>\n",
              "      <button class=\"colab-df-convert\" onclick=\"convertToInteractive('df-f46b7630-e5be-4561-92a5-ad8352f63801')\"\n",
              "              title=\"Convert this dataframe to an interactive table.\"\n",
              "              style=\"display:none;\">\n",
              "        \n",
              "  <svg xmlns=\"http://www.w3.org/2000/svg\" height=\"24px\"viewBox=\"0 0 24 24\"\n",
              "       width=\"24px\">\n",
              "    <path d=\"M0 0h24v24H0V0z\" fill=\"none\"/>\n",
              "    <path d=\"M18.56 5.44l.94 2.06.94-2.06 2.06-.94-2.06-.94-.94-2.06-.94 2.06-2.06.94zm-11 1L8.5 8.5l.94-2.06 2.06-.94-2.06-.94L8.5 2.5l-.94 2.06-2.06.94zm10 10l.94 2.06.94-2.06 2.06-.94-2.06-.94-.94-2.06-.94 2.06-2.06.94z\"/><path d=\"M17.41 7.96l-1.37-1.37c-.4-.4-.92-.59-1.43-.59-.52 0-1.04.2-1.43.59L10.3 9.45l-7.72 7.72c-.78.78-.78 2.05 0 2.83L4 21.41c.39.39.9.59 1.41.59.51 0 1.02-.2 1.41-.59l7.78-7.78 2.81-2.81c.8-.78.8-2.07 0-2.86zM5.41 20L4 18.59l7.72-7.72 1.47 1.35L5.41 20z\"/>\n",
              "  </svg>\n",
              "      </button>\n",
              "      \n",
              "  <style>\n",
              "    .colab-df-container {\n",
              "      display:flex;\n",
              "      flex-wrap:wrap;\n",
              "      gap: 12px;\n",
              "    }\n",
              "\n",
              "    .colab-df-convert {\n",
              "      background-color: #E8F0FE;\n",
              "      border: none;\n",
              "      border-radius: 50%;\n",
              "      cursor: pointer;\n",
              "      display: none;\n",
              "      fill: #1967D2;\n",
              "      height: 32px;\n",
              "      padding: 0 0 0 0;\n",
              "      width: 32px;\n",
              "    }\n",
              "\n",
              "    .colab-df-convert:hover {\n",
              "      background-color: #E2EBFA;\n",
              "      box-shadow: 0px 1px 2px rgba(60, 64, 67, 0.3), 0px 1px 3px 1px rgba(60, 64, 67, 0.15);\n",
              "      fill: #174EA6;\n",
              "    }\n",
              "\n",
              "    [theme=dark] .colab-df-convert {\n",
              "      background-color: #3B4455;\n",
              "      fill: #D2E3FC;\n",
              "    }\n",
              "\n",
              "    [theme=dark] .colab-df-convert:hover {\n",
              "      background-color: #434B5C;\n",
              "      box-shadow: 0px 1px 3px 1px rgba(0, 0, 0, 0.15);\n",
              "      filter: drop-shadow(0px 1px 2px rgba(0, 0, 0, 0.3));\n",
              "      fill: #FFFFFF;\n",
              "    }\n",
              "  </style>\n",
              "\n",
              "      <script>\n",
              "        const buttonEl =\n",
              "          document.querySelector('#df-f46b7630-e5be-4561-92a5-ad8352f63801 button.colab-df-convert');\n",
              "        buttonEl.style.display =\n",
              "          google.colab.kernel.accessAllowed ? 'block' : 'none';\n",
              "\n",
              "        async function convertToInteractive(key) {\n",
              "          const element = document.querySelector('#df-f46b7630-e5be-4561-92a5-ad8352f63801');\n",
              "          const dataTable =\n",
              "            await google.colab.kernel.invokeFunction('convertToInteractive',\n",
              "                                                     [key], {});\n",
              "          if (!dataTable) return;\n",
              "\n",
              "          const docLinkHtml = 'Like what you see? Visit the ' +\n",
              "            '<a target=\"_blank\" href=https://colab.research.google.com/notebooks/data_table.ipynb>data table notebook</a>'\n",
              "            + ' to learn more about interactive tables.';\n",
              "          element.innerHTML = '';\n",
              "          dataTable['output_type'] = 'display_data';\n",
              "          await google.colab.output.renderOutput(dataTable, element);\n",
              "          const docLink = document.createElement('div');\n",
              "          docLink.innerHTML = docLinkHtml;\n",
              "          element.appendChild(docLink);\n",
              "        }\n",
              "      </script>\n",
              "    </div>\n",
              "  </div>\n",
              "  "
            ]
          },
          "metadata": {},
          "execution_count": 19
        }
      ]
    },
    {
      "cell_type": "code",
      "source": [
        "split1_combined.groupby('poverty_level')['quickstart_label'].sum()"
      ],
      "metadata": {
        "colab": {
          "base_uri": "https://localhost:8080/"
        },
        "id": "FZizcNWjlpUs",
        "outputId": "fd86761f-023a-4c08-9676-430f06b8a5b9"
      },
      "execution_count": 20,
      "outputs": [
        {
          "output_type": "execute_result",
          "data": {
            "text/plain": [
              "poverty_level\n",
              "highest    2279.0\n",
              "lower      2096.0\n",
              "Name: quickstart_label, dtype: float64"
            ]
          },
          "metadata": {},
          "execution_count": 20
        }
      ]
    },
    {
      "cell_type": "code",
      "source": [
        "tmp_df = split1_combined.copy()\n",
        "tmp_df['rounded_score'] = round_to_nearest(tmp_df['predict_proba'], 0.1)\n",
        "tmp_df['tmp_random'] = np.random.random(tmp_df.shape[0])\n",
        "tmp_df.sort_values(['rounded_score', 'tmp_random'], ascending=[False, False], inplace=True)\n",
        "score_thresh = tmp_df.head(1000)['rounded_score'].min()\n",
        "tmp_df.loc[tmp_df['rounded_score'] >= score_thresh].shape\n",
        "tmp_df.head(1000)['quickstart_label'].mean()"
      ],
      "metadata": {
        "colab": {
          "base_uri": "https://localhost:8080/"
        },
        "id": "Ey3TFpRTDD6d",
        "outputId": "92f06856-07ed-4912-9fb5-197448d14240"
      },
      "execution_count": 21,
      "outputs": [
        {
          "output_type": "execute_result",
          "data": {
            "text/plain": [
              "0.62"
            ]
          },
          "metadata": {},
          "execution_count": 21
        }
      ]
    },
    {
      "cell_type": "code",
      "source": [
        "tmp_df.head(1000).groupby('poverty_level')['quickstart_label'].sum()"
      ],
      "metadata": {
        "colab": {
          "base_uri": "https://localhost:8080/"
        },
        "id": "kHZj6qTqEIkI",
        "outputId": "8c6a1228-4040-468f-fc25-6a28c303e41c"
      },
      "execution_count": 22,
      "outputs": [
        {
          "output_type": "execute_result",
          "data": {
            "text/plain": [
              "poverty_level\n",
              "highest    221.0\n",
              "lower      399.0\n",
              "Name: quickstart_label, dtype: float64"
            ]
          },
          "metadata": {},
          "execution_count": 22
        }
      ]
    },
    {
      "cell_type": "code",
      "source": [
        "split1_combined.groupby('poverty_level')['entity_id'].count()"
      ],
      "metadata": {
        "colab": {
          "base_uri": "https://localhost:8080/"
        },
        "id": "OTZsBIX5ElC4",
        "outputId": "7aa9ac04-f890-4140-b8a5-cac31b358268"
      },
      "execution_count": 23,
      "outputs": [
        {
          "output_type": "execute_result",
          "data": {
            "text/plain": [
              "poverty_level\n",
              "highest    6606\n",
              "lower      4701\n",
              "Name: entity_id, dtype: int64"
            ]
          },
          "metadata": {},
          "execution_count": 23
        }
      ]
    },
    {
      "cell_type": "code",
      "source": [
        "tmp_df.head(1000).groupby('poverty_level')['entity_id'].count()"
      ],
      "metadata": {
        "colab": {
          "base_uri": "https://localhost:8080/"
        },
        "id": "t9SKOYB2Er6w",
        "outputId": "0625406a-53f3-424b-88d9-2157b09e23bf"
      },
      "execution_count": 42,
      "outputs": [
        {
          "output_type": "execute_result",
          "data": {
            "text/plain": [
              "poverty_level\n",
              "highest    581\n",
              "lower      419\n",
              "Name: entity_id, dtype: int64"
            ]
          },
          "metadata": {},
          "execution_count": 42
        }
      ]
    },
    {
      "cell_type": "code",
      "source": [
        "(581/6606, 419/4701)"
      ],
      "metadata": {
        "colab": {
          "base_uri": "https://localhost:8080/"
        },
        "id": "Fngz2RluEwlb",
        "outputId": "fea5999a-c56c-45a7-f953-fd49fd754c63"
      },
      "execution_count": 43,
      "outputs": [
        {
          "output_type": "execute_result",
          "data": {
            "text/plain": [
              "(0.08795034816833182, 0.0891299723463093)"
            ]
          },
          "metadata": {},
          "execution_count": 43
        }
      ]
    },
    {
      "cell_type": "code",
      "source": [
        "tmp_df.groupby('rounded_score')['entity_id'].count()"
      ],
      "metadata": {
        "colab": {
          "base_uri": "https://localhost:8080/"
        },
        "id": "X7ulCX-eE4xr",
        "outputId": "d3036d4d-8b7a-4b68-cf49-610c2f4d3e3b"
      },
      "execution_count": 44,
      "outputs": [
        {
          "output_type": "execute_result",
          "data": {
            "text/plain": [
              "rounded_score\n",
              "0.0    11307\n",
              "Name: entity_id, dtype: int64"
            ]
          },
          "metadata": {},
          "execution_count": 44
        }
      ]
    },
    {
      "cell_type": "code",
      "source": [
        "tmp_df = split1_combined.copy()\n",
        "tmp_df['rounded_score'] = round_to_nearest(tmp_df['predict_proba'], 0.01)\n",
        "tmp_df['tmp_random'] = np.random.random(tmp_df.shape[0])\n",
        "tmp_df.sort_values(['rounded_score', 'tmp_random'], ascending=[False, False], inplace=True)\n",
        "score_thresh = tmp_df.head(1000)['rounded_score'].min()\n",
        "tmp_df.loc[tmp_df['rounded_score'] >= score_thresh].shape\n",
        "tmp_df.head(1000)['quickstart_label'].mean()"
      ],
      "metadata": {
        "colab": {
          "base_uri": "https://localhost:8080/"
        },
        "id": "xd09WRNQwO4P",
        "outputId": "e9a27c6d-d553-4c51-f833-3fdab78ce59f"
      },
      "execution_count": 26,
      "outputs": [
        {
          "output_type": "execute_result",
          "data": {
            "text/plain": [
              "0.618"
            ]
          },
          "metadata": {},
          "execution_count": 26
        }
      ]
    },
    {
      "cell_type": "code",
      "source": [
        "score_thresh"
      ],
      "metadata": {
        "colab": {
          "base_uri": "https://localhost:8080/"
        },
        "id": "Vx3gBQZWwUDq",
        "outputId": "e4ac2953-64cf-445a-ea7a-4f26d2965ce4"
      },
      "execution_count": 27,
      "outputs": [
        {
          "output_type": "execute_result",
          "data": {
            "text/plain": [
              "0.45"
            ]
          },
          "metadata": {},
          "execution_count": 27
        }
      ]
    },
    {
      "cell_type": "code",
      "source": [
        "tmp_df.loc[tmp_df['rounded_score'] > score_thresh].shape"
      ],
      "metadata": {
        "colab": {
          "base_uri": "https://localhost:8080/"
        },
        "id": "ryTDJ9UzwezB",
        "outputId": "60f4b5cb-3ab4-42d3-c5f7-590421410dd2"
      },
      "execution_count": 28,
      "outputs": [
        {
          "output_type": "execute_result",
          "data": {
            "text/plain": [
              "(903, 9)"
            ]
          },
          "metadata": {},
          "execution_count": 28
        }
      ]
    },
    {
      "cell_type": "code",
      "source": [
        "needed = 1000 - tmp_df.loc[tmp_df['rounded_score'] > score_thresh].shape[0]\n",
        "tmp_df.loc[tmp_df['rounded_score'] == score_thresh].groupby('poverty_level')['entity_id'].count()"
      ],
      "metadata": {
        "colab": {
          "base_uri": "https://localhost:8080/"
        },
        "id": "64egNlz-wo5F",
        "outputId": "820b2452-db2a-48ea-fc3b-b1023f8b3a4d"
      },
      "execution_count": 30,
      "outputs": [
        {
          "output_type": "execute_result",
          "data": {
            "text/plain": [
              "poverty_level\n",
              "highest    69\n",
              "lower      97\n",
              "Name: entity_id, dtype: int64"
            ]
          },
          "metadata": {},
          "execution_count": 30
        }
      ]
    },
    {
      "cell_type": "code",
      "source": [
        "wanted_denom = round(needed*0.3)\n",
        "wanted_num = needed - wanted_denom\n",
        "\n",
        "avail_denom = tmp_df.loc[(tmp_df['rounded_score'] == score_thresh) & (tmp_df['poverty_level'] == 'highest')].shape[0]\n",
        "avail_num = tmp_df.loc[(tmp_df['rounded_score'] == score_thresh) & (tmp_df['poverty_level'] != 'highest')].shape[0]\n",
        "\n",
        "if avail_denom < wanted_denom:\n",
        "  wanted_denom = avail_denom\n",
        "  wanted_num = needed - wanted_denom\n",
        "elif avail_num < wanted_num:\n",
        "  wanted_num = avail_num\n",
        "  wanted_denom = needed - wanted_num\n",
        "\n",
        "tmp_df['tmp_random'] = np.random.random(tmp_df.shape[0])\n",
        "tmp_df.sort_values(['rounded_score', 'tmp_random'], ascending=[False, False], inplace=True)\n",
        "\n",
        "tmp_df_selected = pd.concat([\n",
        "    tmp_df.loc[tmp_df['rounded_score'] > score_thresh],\n",
        "    tmp_df.loc[(tmp_df['rounded_score'] == score_thresh) & (tmp_df['poverty_level'] == 'highest')].head(wanted_denom),\n",
        "    tmp_df.loc[(tmp_df['rounded_score'] == score_thresh) & (tmp_df['poverty_level'] != 'highest')].head(wanted_num)\n",
        "])"
      ],
      "metadata": {
        "id": "Z_7Wp5dsw8HH"
      },
      "execution_count": 35,
      "outputs": []
    },
    {
      "cell_type": "code",
      "source": [
        "tmp_df_selected.shape"
      ],
      "metadata": {
        "colab": {
          "base_uri": "https://localhost:8080/"
        },
        "id": "_fqXtDis0mVG",
        "outputId": "90be2599-8950-4af7-f276-136366fbef20"
      },
      "execution_count": 36,
      "outputs": [
        {
          "output_type": "execute_result",
          "data": {
            "text/plain": [
              "(1000, 9)"
            ]
          },
          "metadata": {},
          "execution_count": 36
        }
      ]
    },
    {
      "cell_type": "code",
      "source": [
        "tmp_df_selected['quickstart_label'].mean()"
      ],
      "metadata": {
        "colab": {
          "base_uri": "https://localhost:8080/"
        },
        "id": "R7IGFiD-0vFL",
        "outputId": "22709f2d-f269-4fee-de22-252f28c628d2"
      },
      "execution_count": 38,
      "outputs": [
        {
          "output_type": "execute_result",
          "data": {
            "text/plain": [
              "0.618"
            ]
          },
          "metadata": {},
          "execution_count": 38
        }
      ]
    },
    {
      "cell_type": "code",
      "source": [
        "tmp_df_selected.groupby('poverty_level')['quickstart_label'].sum()"
      ],
      "metadata": {
        "colab": {
          "base_uri": "https://localhost:8080/"
        },
        "id": "1dJy3IDn03_Q",
        "outputId": "aa2b3d02-b9f3-4f2d-d132-dbd8b060fb33"
      },
      "execution_count": 39,
      "outputs": [
        {
          "output_type": "execute_result",
          "data": {
            "text/plain": [
              "poverty_level\n",
              "highest    212.0\n",
              "lower      406.0\n",
              "Name: quickstart_label, dtype: float64"
            ]
          },
          "metadata": {},
          "execution_count": 39
        }
      ]
    },
    {
      "cell_type": "code",
      "source": [
        "# NOTE: assumes all examples have labels, only 2 attribute levels for bias\n",
        "def prec_at_k_trials_bias(\n",
        "    df, k, grain=None, n_trial=5,\n",
        "    score_col='predict_proba', label_col='quickstart_label',\n",
        "    rounded_col='rounded_score', rand_col='tmp_random',\n",
        "    bias_attr='poverty_level', bias_denom='highest'\n",
        "):\n",
        "  tmp_df = df.copy()\n",
        "  if grain is not None:\n",
        "    tmp_df[rounded_col] = round_to_nearest(tmp_df[score_col], grain)\n",
        "  else:\n",
        "    tmp_df[rounded_col] = tmp_df[score_col]\n",
        "    grain = 0.0\n",
        "\n",
        "  results = {\n",
        "      'k': [],\n",
        "      'grain': [],\n",
        "      'bias_attr': [],\n",
        "      'bias_denom': [],\n",
        "      'ties_denom_frac': [],\n",
        "      'score_thresh': [],\n",
        "      'num_above_thresh': [],\n",
        "      'num_selected': [],\n",
        "      'needed_at_thresh': [],\n",
        "      'prec_at_k': [],\n",
        "      'recall_disp': []\n",
        "  }\n",
        "\n",
        "  bias_denom_pos = tmp_df.loc[tmp_df[bias_attr] == bias_denom][label_col].sum()\n",
        "  bias_num_pos = tmp_df.loc[tmp_df[bias_attr] != bias_denom][label_col].sum()\n",
        "\n",
        "  tmp_df[rand_col] = np.random.random(tmp_df.shape[0])\n",
        "  tmp_df.sort_values([rounded_col, rand_col], ascending=[False, False], inplace=True)\n",
        "  score_thresh = tmp_df.head(k)[rounded_col].min()\n",
        "  needed = k - tmp_df.loc[tmp_df[rounded_col] > score_thresh].shape[0]\n",
        "\n",
        "  for frac in np.arange(0, 1.1, 0.1):\n",
        "\n",
        "    wanted_denom = round(needed*frac)\n",
        "    wanted_num = needed - wanted_denom\n",
        "\n",
        "    avail_denom = tmp_df.loc[(tmp_df[rounded_col] == score_thresh) & (tmp_df[bias_attr] == bias_denom)].shape[0]\n",
        "    avail_num = tmp_df.loc[(tmp_df[rounded_col] == score_thresh) & (tmp_df[bias_attr] != bias_denom)].shape[0]\n",
        "\n",
        "    if avail_denom < wanted_denom:\n",
        "      wanted_denom = avail_denom\n",
        "      wanted_num = needed - wanted_denom\n",
        "    elif avail_num < wanted_num:\n",
        "      wanted_num = avail_num\n",
        "      wanted_denom = needed - wanted_num\n",
        "\n",
        "    for t in range(n_trial):\n",
        "\n",
        "      tmp_df[rand_col] = np.random.random(tmp_df.shape[0])\n",
        "      tmp_df.sort_values([rounded_col, rand_col], ascending=[False, False], inplace=True)\n",
        "\n",
        "      tmp_df_selected = pd.concat([\n",
        "          tmp_df.loc[tmp_df[rounded_col] > score_thresh],\n",
        "          tmp_df.loc[(tmp_df[rounded_col] == score_thresh) & (tmp_df[bias_attr] == bias_denom)].head(wanted_denom),\n",
        "          tmp_df.loc[(tmp_df[rounded_col] == score_thresh) & (tmp_df[bias_attr] != bias_denom)].head(wanted_num)\n",
        "      ])\n",
        "\n",
        "\n",
        "      results['k'].append(k)\n",
        "      results['grain'].append(grain)\n",
        "      results['score_thresh'].append(score_thresh)\n",
        "      results['num_above_thresh'].append(tmp_df.loc[tmp_df[rounded_col] >= score_thresh].shape[0])\n",
        "      results['num_selected'].append(tmp_df_selected.shape[0])\n",
        "      results['needed_at_thresh'].append(needed)\n",
        "      results['prec_at_k'].append(tmp_df_selected[label_col].mean())\n",
        "\n",
        "      results['bias_attr'].append(bias_attr)\n",
        "      results['bias_denom'].append(bias_denom)\n",
        "      results['ties_denom_frac'].append(frac)\n",
        "      recall_denom = tmp_df_selected.loc[tmp_df_selected[bias_attr] == bias_denom][label_col].sum() / bias_denom_pos\n",
        "      recall_num = tmp_df_selected.loc[tmp_df_selected[bias_attr] != bias_denom][label_col].sum() / bias_num_pos\n",
        "      results['recall_disp'].append(recall_num / recall_denom)\n",
        "\n",
        "      del(tmp_df_selected)\n",
        "\n",
        "  del(tmp_df)\n",
        "  return pd.DataFrame(results)"
      ],
      "metadata": {
        "id": "z2Vij4rv18TF"
      },
      "execution_count": 75,
      "outputs": []
    },
    {
      "cell_type": "code",
      "source": [
        "res_df = prec_at_k_trials_bias(split1_combined, k=1000, grain=0.04, n_trial=5)"
      ],
      "metadata": {
        "id": "33ZfC2mr18Xg"
      },
      "execution_count": 98,
      "outputs": []
    },
    {
      "cell_type": "code",
      "source": [
        "res_df.head(10)"
      ],
      "metadata": {
        "colab": {
          "base_uri": "https://localhost:8080/",
          "height": 363
        },
        "id": "dIEiCAW_18b9",
        "outputId": "672d4911-b0bd-4640-e325-2da759fcc69e"
      },
      "execution_count": 99,
      "outputs": [
        {
          "output_type": "execute_result",
          "data": {
            "text/plain": [
              "      k  grain      bias_attr bias_denom  ties_denom_frac  score_thresh  \\\n",
              "0  1000   0.04  poverty_level    highest              0.0          0.44   \n",
              "1  1000   0.04  poverty_level    highest              0.0          0.44   \n",
              "2  1000   0.04  poverty_level    highest              0.0          0.44   \n",
              "3  1000   0.04  poverty_level    highest              0.0          0.44   \n",
              "4  1000   0.04  poverty_level    highest              0.0          0.44   \n",
              "5  1000   0.04  poverty_level    highest              0.1          0.44   \n",
              "6  1000   0.04  poverty_level    highest              0.1          0.44   \n",
              "7  1000   0.04  poverty_level    highest              0.1          0.44   \n",
              "8  1000   0.04  poverty_level    highest              0.1          0.44   \n",
              "9  1000   0.04  poverty_level    highest              0.1          0.44   \n",
              "\n",
              "   num_above_thresh  num_selected  needed_at_thresh  prec_at_k  recall_disp  \n",
              "0              1486          1000               174      0.623     2.634634  \n",
              "1              1486          1000               174      0.623     2.634634  \n",
              "2              1486          1000               174      0.625     2.646582  \n",
              "3              1486          1000               174      0.617     2.598788  \n",
              "4              1486          1000               174      0.625     2.646582  \n",
              "5              1486          1000               174      0.626     2.439403  \n",
              "6              1486          1000               174      0.631     2.523702  \n",
              "7              1486          1000               174      0.621     2.504281  \n",
              "8              1486          1000               174      0.627     2.500811  \n",
              "9              1486          1000               174      0.627     2.500811  "
            ],
            "text/html": [
              "\n",
              "  <div id=\"df-354388a5-609c-4bbb-85e5-7a20c49ed33f\">\n",
              "    <div class=\"colab-df-container\">\n",
              "      <div>\n",
              "<style scoped>\n",
              "    .dataframe tbody tr th:only-of-type {\n",
              "        vertical-align: middle;\n",
              "    }\n",
              "\n",
              "    .dataframe tbody tr th {\n",
              "        vertical-align: top;\n",
              "    }\n",
              "\n",
              "    .dataframe thead th {\n",
              "        text-align: right;\n",
              "    }\n",
              "</style>\n",
              "<table border=\"1\" class=\"dataframe\">\n",
              "  <thead>\n",
              "    <tr style=\"text-align: right;\">\n",
              "      <th></th>\n",
              "      <th>k</th>\n",
              "      <th>grain</th>\n",
              "      <th>bias_attr</th>\n",
              "      <th>bias_denom</th>\n",
              "      <th>ties_denom_frac</th>\n",
              "      <th>score_thresh</th>\n",
              "      <th>num_above_thresh</th>\n",
              "      <th>num_selected</th>\n",
              "      <th>needed_at_thresh</th>\n",
              "      <th>prec_at_k</th>\n",
              "      <th>recall_disp</th>\n",
              "    </tr>\n",
              "  </thead>\n",
              "  <tbody>\n",
              "    <tr>\n",
              "      <th>0</th>\n",
              "      <td>1000</td>\n",
              "      <td>0.04</td>\n",
              "      <td>poverty_level</td>\n",
              "      <td>highest</td>\n",
              "      <td>0.0</td>\n",
              "      <td>0.44</td>\n",
              "      <td>1486</td>\n",
              "      <td>1000</td>\n",
              "      <td>174</td>\n",
              "      <td>0.623</td>\n",
              "      <td>2.634634</td>\n",
              "    </tr>\n",
              "    <tr>\n",
              "      <th>1</th>\n",
              "      <td>1000</td>\n",
              "      <td>0.04</td>\n",
              "      <td>poverty_level</td>\n",
              "      <td>highest</td>\n",
              "      <td>0.0</td>\n",
              "      <td>0.44</td>\n",
              "      <td>1486</td>\n",
              "      <td>1000</td>\n",
              "      <td>174</td>\n",
              "      <td>0.623</td>\n",
              "      <td>2.634634</td>\n",
              "    </tr>\n",
              "    <tr>\n",
              "      <th>2</th>\n",
              "      <td>1000</td>\n",
              "      <td>0.04</td>\n",
              "      <td>poverty_level</td>\n",
              "      <td>highest</td>\n",
              "      <td>0.0</td>\n",
              "      <td>0.44</td>\n",
              "      <td>1486</td>\n",
              "      <td>1000</td>\n",
              "      <td>174</td>\n",
              "      <td>0.625</td>\n",
              "      <td>2.646582</td>\n",
              "    </tr>\n",
              "    <tr>\n",
              "      <th>3</th>\n",
              "      <td>1000</td>\n",
              "      <td>0.04</td>\n",
              "      <td>poverty_level</td>\n",
              "      <td>highest</td>\n",
              "      <td>0.0</td>\n",
              "      <td>0.44</td>\n",
              "      <td>1486</td>\n",
              "      <td>1000</td>\n",
              "      <td>174</td>\n",
              "      <td>0.617</td>\n",
              "      <td>2.598788</td>\n",
              "    </tr>\n",
              "    <tr>\n",
              "      <th>4</th>\n",
              "      <td>1000</td>\n",
              "      <td>0.04</td>\n",
              "      <td>poverty_level</td>\n",
              "      <td>highest</td>\n",
              "      <td>0.0</td>\n",
              "      <td>0.44</td>\n",
              "      <td>1486</td>\n",
              "      <td>1000</td>\n",
              "      <td>174</td>\n",
              "      <td>0.625</td>\n",
              "      <td>2.646582</td>\n",
              "    </tr>\n",
              "    <tr>\n",
              "      <th>5</th>\n",
              "      <td>1000</td>\n",
              "      <td>0.04</td>\n",
              "      <td>poverty_level</td>\n",
              "      <td>highest</td>\n",
              "      <td>0.1</td>\n",
              "      <td>0.44</td>\n",
              "      <td>1486</td>\n",
              "      <td>1000</td>\n",
              "      <td>174</td>\n",
              "      <td>0.626</td>\n",
              "      <td>2.439403</td>\n",
              "    </tr>\n",
              "    <tr>\n",
              "      <th>6</th>\n",
              "      <td>1000</td>\n",
              "      <td>0.04</td>\n",
              "      <td>poverty_level</td>\n",
              "      <td>highest</td>\n",
              "      <td>0.1</td>\n",
              "      <td>0.44</td>\n",
              "      <td>1486</td>\n",
              "      <td>1000</td>\n",
              "      <td>174</td>\n",
              "      <td>0.631</td>\n",
              "      <td>2.523702</td>\n",
              "    </tr>\n",
              "    <tr>\n",
              "      <th>7</th>\n",
              "      <td>1000</td>\n",
              "      <td>0.04</td>\n",
              "      <td>poverty_level</td>\n",
              "      <td>highest</td>\n",
              "      <td>0.1</td>\n",
              "      <td>0.44</td>\n",
              "      <td>1486</td>\n",
              "      <td>1000</td>\n",
              "      <td>174</td>\n",
              "      <td>0.621</td>\n",
              "      <td>2.504281</td>\n",
              "    </tr>\n",
              "    <tr>\n",
              "      <th>8</th>\n",
              "      <td>1000</td>\n",
              "      <td>0.04</td>\n",
              "      <td>poverty_level</td>\n",
              "      <td>highest</td>\n",
              "      <td>0.1</td>\n",
              "      <td>0.44</td>\n",
              "      <td>1486</td>\n",
              "      <td>1000</td>\n",
              "      <td>174</td>\n",
              "      <td>0.627</td>\n",
              "      <td>2.500811</td>\n",
              "    </tr>\n",
              "    <tr>\n",
              "      <th>9</th>\n",
              "      <td>1000</td>\n",
              "      <td>0.04</td>\n",
              "      <td>poverty_level</td>\n",
              "      <td>highest</td>\n",
              "      <td>0.1</td>\n",
              "      <td>0.44</td>\n",
              "      <td>1486</td>\n",
              "      <td>1000</td>\n",
              "      <td>174</td>\n",
              "      <td>0.627</td>\n",
              "      <td>2.500811</td>\n",
              "    </tr>\n",
              "  </tbody>\n",
              "</table>\n",
              "</div>\n",
              "      <button class=\"colab-df-convert\" onclick=\"convertToInteractive('df-354388a5-609c-4bbb-85e5-7a20c49ed33f')\"\n",
              "              title=\"Convert this dataframe to an interactive table.\"\n",
              "              style=\"display:none;\">\n",
              "        \n",
              "  <svg xmlns=\"http://www.w3.org/2000/svg\" height=\"24px\"viewBox=\"0 0 24 24\"\n",
              "       width=\"24px\">\n",
              "    <path d=\"M0 0h24v24H0V0z\" fill=\"none\"/>\n",
              "    <path d=\"M18.56 5.44l.94 2.06.94-2.06 2.06-.94-2.06-.94-.94-2.06-.94 2.06-2.06.94zm-11 1L8.5 8.5l.94-2.06 2.06-.94-2.06-.94L8.5 2.5l-.94 2.06-2.06.94zm10 10l.94 2.06.94-2.06 2.06-.94-2.06-.94-.94-2.06-.94 2.06-2.06.94z\"/><path d=\"M17.41 7.96l-1.37-1.37c-.4-.4-.92-.59-1.43-.59-.52 0-1.04.2-1.43.59L10.3 9.45l-7.72 7.72c-.78.78-.78 2.05 0 2.83L4 21.41c.39.39.9.59 1.41.59.51 0 1.02-.2 1.41-.59l7.78-7.78 2.81-2.81c.8-.78.8-2.07 0-2.86zM5.41 20L4 18.59l7.72-7.72 1.47 1.35L5.41 20z\"/>\n",
              "  </svg>\n",
              "      </button>\n",
              "      \n",
              "  <style>\n",
              "    .colab-df-container {\n",
              "      display:flex;\n",
              "      flex-wrap:wrap;\n",
              "      gap: 12px;\n",
              "    }\n",
              "\n",
              "    .colab-df-convert {\n",
              "      background-color: #E8F0FE;\n",
              "      border: none;\n",
              "      border-radius: 50%;\n",
              "      cursor: pointer;\n",
              "      display: none;\n",
              "      fill: #1967D2;\n",
              "      height: 32px;\n",
              "      padding: 0 0 0 0;\n",
              "      width: 32px;\n",
              "    }\n",
              "\n",
              "    .colab-df-convert:hover {\n",
              "      background-color: #E2EBFA;\n",
              "      box-shadow: 0px 1px 2px rgba(60, 64, 67, 0.3), 0px 1px 3px 1px rgba(60, 64, 67, 0.15);\n",
              "      fill: #174EA6;\n",
              "    }\n",
              "\n",
              "    [theme=dark] .colab-df-convert {\n",
              "      background-color: #3B4455;\n",
              "      fill: #D2E3FC;\n",
              "    }\n",
              "\n",
              "    [theme=dark] .colab-df-convert:hover {\n",
              "      background-color: #434B5C;\n",
              "      box-shadow: 0px 1px 3px 1px rgba(0, 0, 0, 0.15);\n",
              "      filter: drop-shadow(0px 1px 2px rgba(0, 0, 0, 0.3));\n",
              "      fill: #FFFFFF;\n",
              "    }\n",
              "  </style>\n",
              "\n",
              "      <script>\n",
              "        const buttonEl =\n",
              "          document.querySelector('#df-354388a5-609c-4bbb-85e5-7a20c49ed33f button.colab-df-convert');\n",
              "        buttonEl.style.display =\n",
              "          google.colab.kernel.accessAllowed ? 'block' : 'none';\n",
              "\n",
              "        async function convertToInteractive(key) {\n",
              "          const element = document.querySelector('#df-354388a5-609c-4bbb-85e5-7a20c49ed33f');\n",
              "          const dataTable =\n",
              "            await google.colab.kernel.invokeFunction('convertToInteractive',\n",
              "                                                     [key], {});\n",
              "          if (!dataTable) return;\n",
              "\n",
              "          const docLinkHtml = 'Like what you see? Visit the ' +\n",
              "            '<a target=\"_blank\" href=https://colab.research.google.com/notebooks/data_table.ipynb>data table notebook</a>'\n",
              "            + ' to learn more about interactive tables.';\n",
              "          element.innerHTML = '';\n",
              "          dataTable['output_type'] = 'display_data';\n",
              "          await google.colab.output.renderOutput(dataTable, element);\n",
              "          const docLink = document.createElement('div');\n",
              "          docLink.innerHTML = docLinkHtml;\n",
              "          element.appendChild(docLink);\n",
              "        }\n",
              "      </script>\n",
              "    </div>\n",
              "  </div>\n",
              "  "
            ]
          },
          "metadata": {},
          "execution_count": 99
        }
      ]
    },
    {
      "cell_type": "code",
      "source": [
        "ax = sns.scatterplot('prec_at_k', 'recall_disp', data=res_df)\n",
        "ax.set_xlim((0.4,0.8))\n",
        "ax.set_ylim((0,3))"
      ],
      "metadata": {
        "colab": {
          "base_uri": "https://localhost:8080/",
          "height": 306
        },
        "id": "0dLfaAcD18fz",
        "outputId": "cea95438-c7c3-4b97-fbf5-49284de7bd0d"
      },
      "execution_count": 100,
      "outputs": [
        {
          "output_type": "execute_result",
          "data": {
            "text/plain": [
              "(0.0, 3.0)"
            ]
          },
          "metadata": {},
          "execution_count": 100
        },
        {
          "output_type": "display_data",
          "data": {
            "text/plain": [
              "<Figure size 432x288 with 1 Axes>"
            ],
            "image/png": "[encoded data removed]"
          },
          "metadata": {
            "needs_background": "light"
          }
        }
      ]
    },
    {
      "cell_type": "code",
      "source": [
        "# 554 highest, 446 lower\n",
        "tmp_df = split1_combined.copy()\n",
        "tmp_df['tmp_random'] = np.random.random(tmp_df.shape[0])\n",
        "tmp_df.sort_values(['predict_proba', 'tmp_random'], ascending=[False, False], inplace=True)\n",
        "\n",
        "tmp_df_selected = pd.concat([\n",
        "    tmp_df.loc[tmp_df['poverty_level'] == 'highest'].head(554),\n",
        "    tmp_df.loc[tmp_df['poverty_level'] != 'highest'].head(446)\n",
        "])"
      ],
      "metadata": {
        "id": "-zkAgj6k18j8"
      },
      "execution_count": 101,
      "outputs": []
    },
    {
      "cell_type": "code",
      "source": [
        "tmp_df_selected['quickstart_label'].mean()"
      ],
      "metadata": {
        "colab": {
          "base_uri": "https://localhost:8080/"
        },
        "id": "BcIntqHX18ns",
        "outputId": "9ae59ad0-2720-496c-9fb0-f00db6c09843"
      },
      "execution_count": 103,
      "outputs": [
        {
          "output_type": "execute_result",
          "data": {
            "text/plain": [
              "0.603"
            ]
          },
          "metadata": {},
          "execution_count": 103
        }
      ]
    },
    {
      "cell_type": "code",
      "source": [
        "tmp_df.groupby('poverty_level')['quickstart_label'].sum()"
      ],
      "metadata": {
        "colab": {
          "base_uri": "https://localhost:8080/"
        },
        "id": "wBw372L2187g",
        "outputId": "3f7e07ff-4677-4e80-c320-358aed648c82"
      },
      "execution_count": 104,
      "outputs": [
        {
          "output_type": "execute_result",
          "data": {
            "text/plain": [
              "poverty_level\n",
              "highest    2279.0\n",
              "lower      2096.0\n",
              "Name: quickstart_label, dtype: float64"
            ]
          },
          "metadata": {},
          "execution_count": 104
        }
      ]
    },
    {
      "cell_type": "code",
      "source": [
        "tmp_df_selected.groupby('poverty_level')['quickstart_label'].sum()"
      ],
      "metadata": {
        "colab": {
          "base_uri": "https://localhost:8080/"
        },
        "id": "q5f_8EzfF5iB",
        "outputId": "f04602df-eed1-4ce6-efdf-736caec22694"
      },
      "execution_count": 105,
      "outputs": [
        {
          "output_type": "execute_result",
          "data": {
            "text/plain": [
              "poverty_level\n",
              "highest    314.0\n",
              "lower      289.0\n",
              "Name: quickstart_label, dtype: float64"
            ]
          },
          "metadata": {},
          "execution_count": 105
        }
      ]
    },
    {
      "cell_type": "code",
      "source": [
        "(289/2096) / (314/2297)"
      ],
      "metadata": {
        "colab": {
          "base_uri": "https://localhost:8080/"
        },
        "id": "ABlUnmiYF5nr",
        "outputId": "b94f5988-b70e-4d40-a749-f3ede6153f19"
      },
      "execution_count": 106,
      "outputs": [
        {
          "output_type": "execute_result",
          "data": {
            "text/plain": [
              "1.008644004959401"
            ]
          },
          "metadata": {},
          "execution_count": 106
        }
      ]
    },
    {
      "cell_type": "code",
      "source": [
        "tmp_df.head(1000)['quickstart_label'].mean()"
      ],
      "metadata": {
        "colab": {
          "base_uri": "https://localhost:8080/"
        },
        "id": "90alZWlWF5sM",
        "outputId": "fa5f4ec3-c23c-4ef6-a1d3-540fd60b333e"
      },
      "execution_count": 107,
      "outputs": [
        {
          "output_type": "execute_result",
          "data": {
            "text/plain": [
              "0.616"
            ]
          },
          "metadata": {},
          "execution_count": 107
        }
      ]
    },
    {
      "cell_type": "markdown",
      "source": [
        "What seems to be messy here is that decreasing granularity may be related with a larger number of ties at the top k threshold score (though not necessarily monotonically given the score distribution), but is generally clearly related to the number of these tied examples that are needed to round out the top k -- decreasing the granularity can sometimes mean we only need a handful of these examples (so don't have much room to make adjustments even though we have a large number of ties) or could mean we need a large number of them (and therefore more able to find a solution that improves fairness).\n",
        "\n",
        "Perhaps a cleaner way to account for this concept of granularity is to focus on the score at the top k threshold, since that's the only one that matters in practice and we effectively care about ties above and below it..."
      ],
      "metadata": {
        "id": "TYPbMIxMHYc_"
      }
    },
    {
      "cell_type": "code",
      "source": [
        "rand_col = 'tmp_random'\n",
        "score_col = 'predict_proba'\n",
        "label_col = 'quickstart_label'\n",
        "k = 1000\n",
        "grain = 0.0\n",
        "\n",
        "tmp_df = split1_combined.copy()\n",
        "tmp_df[rand_col] = np.random.random(tmp_df.shape[0])\n",
        "tmp_df.sort_values([score_col, rand_col], ascending=[False, False], inplace=True)\n",
        "\n",
        "score_thresh = tmp_df.head(k)[score_col].min()\n",
        "\n",
        "score_high = score_thresh + grain\n",
        "score_low = score_thresh - grain\n",
        "\n",
        "tmp_df['tmp_selection'] = 0.0\n",
        "tmp_df.loc[tmp_df[score_col] > score_high, 'tmp_selection'] = 1.0\n",
        "tmp_df.loc[(tmp_df[score_col] <= score_high) & (tmp_df[score_col] >= score_low), 'tmp_selection'] = 0.5\n",
        "\n",
        "tmp_df.sort_values(['tmp_selection', rand_col], ascending=[False, False], inplace=True)\n",
        "\n",
        "tmp_df.head(k)[label_col].mean()\n"
      ],
      "metadata": {
        "colab": {
          "base_uri": "https://localhost:8080/"
        },
        "id": "bJmMlJjbF5zs",
        "outputId": "0a0b5b27-dff3-446b-86c9-348c4cdcf266"
      },
      "execution_count": 124,
      "outputs": [
        {
          "output_type": "execute_result",
          "data": {
            "text/plain": [
              "0.616"
            ]
          },
          "metadata": {},
          "execution_count": 124
        }
      ]
    },
    {
      "cell_type": "code",
      "source": [
        "# NOTE: assumes all examples have labels\n",
        "def prec_at_k_trials_v2(\n",
        "    df, k, grain=0.0, n_trial=30,\n",
        "    score_col='predict_proba', label_col='quickstart_label',\n",
        "    seln_col='tmp_selection', rand_col='tmp_random'\n",
        "):\n",
        "  results = {\n",
        "      'k': [],\n",
        "      'grain': [],\n",
        "      'score_thresh': [],\n",
        "      'num_above_high': [],\n",
        "      'num_at_thresh': [],\n",
        "      'prec_at_k': []\n",
        "  }\n",
        "\n",
        "  tmp_df = df.copy()\n",
        "  tmp_df[rand_col] = np.random.random(tmp_df.shape[0])\n",
        "  tmp_df.sort_values([score_col, rand_col], ascending=[False, False], inplace=True)\n",
        "\n",
        "  score_thresh = tmp_df.head(k)[score_col].min()\n",
        "\n",
        "  score_high = score_thresh + grain\n",
        "  score_low = score_thresh - grain\n",
        "\n",
        "  tmp_df[seln_col] = 0.0\n",
        "  tmp_df.loc[tmp_df[score_col] > score_high, seln_col] = 1.0\n",
        "  tmp_df.loc[(tmp_df[score_col] <= score_high) & (tmp_df[score_col] >= score_low), seln_col] = 0.5\n",
        "\n",
        "\n",
        "  for t in range(n_trial):\n",
        "    tmp_df[rand_col] = np.random.random(tmp_df.shape[0])\n",
        "    tmp_df.sort_values([seln_col, rand_col], ascending=[False, False], inplace=True)\n",
        "\n",
        "    results['k'].append(k)\n",
        "    results['grain'].append(grain)\n",
        "    results['score_thresh'].append(score_thresh)\n",
        "    results['num_above_high'].append(tmp_df.loc[tmp_df[seln_col] == 1.0].shape[0])\n",
        "    results['num_at_thresh'].append(tmp_df.loc[tmp_df[seln_col] == 0.5].shape[0])\n",
        "    results['prec_at_k'].append(tmp_df.head(k)[label_col].mean())\n",
        "\n",
        "  del(tmp_df)\n",
        "  return pd.DataFrame(results)"
      ],
      "metadata": {
        "id": "CI4DJYcqLX03"
      },
      "execution_count": 125,
      "outputs": []
    },
    {
      "cell_type": "code",
      "source": [
        "res_list = []\n",
        "for grain in [0.000, 0.001, 0.005, 0.01, 0.025, 0.05, 0.1, 0.2, 0.3, 0.4, 0.5, 1.0]:\n",
        "  res_list.append(prec_at_k_trials_v2(split1_preds, k=1000, grain=grain, n_trial=30))\n",
        "\n",
        "results = pd.concat(res_list)"
      ],
      "metadata": {
        "id": "rcldHvMXRP_V"
      },
      "execution_count": 129,
      "outputs": []
    },
    {
      "cell_type": "code",
      "source": [
        "sns.boxplot('grain', 'prec_at_k', data=results)"
      ],
      "metadata": {
        "colab": {
          "base_uri": "https://localhost:8080/",
          "height": 302
        },
        "id": "wcSHrf_jRQDo",
        "outputId": "86e20ddc-79e5-4876-fc6c-287363176a7b"
      },
      "execution_count": 130,
      "outputs": [
        {
          "output_type": "execute_result",
          "data": {
            "text/plain": [
              "<matplotlib.axes._subplots.AxesSubplot at 0x7f2235dde290>"
            ]
          },
          "metadata": {},
          "execution_count": 130
        },
        {
          "output_type": "display_data",
          "data": {
            "text/plain": [
              "<Figure size 432x288 with 1 Axes>"
            ],
            "image/png": "[encoded data removed]"
          },
          "metadata": {
            "needs_background": "light"
          }
        }
      ]
    },
    {
      "cell_type": "code",
      "source": [
        "sns.scatterplot('grain', 'num_above_high', data=results)"
      ],
      "metadata": {
        "colab": {
          "base_uri": "https://localhost:8080/",
          "height": 302
        },
        "id": "SaBjjFHwRQIZ",
        "outputId": "d982f6e3-61a8-4e0f-fff1-60e7ff4c5345"
      },
      "execution_count": 131,
      "outputs": [
        {
          "output_type": "execute_result",
          "data": {
            "text/plain": [
              "<matplotlib.axes._subplots.AxesSubplot at 0x7f2235dcaf90>"
            ]
          },
          "metadata": {},
          "execution_count": 131
        },
        {
          "output_type": "display_data",
          "data": {
            "text/plain": [
              "<Figure size 432x288 with 1 Axes>"
            ],
            "image/png": "[encoded data removed]"
          },
          "metadata": {
            "needs_background": "light"
          }
        }
      ]
    },
    {
      "cell_type": "code",
      "source": [
        "sns.scatterplot('grain', 'num_at_thresh', data=results)"
      ],
      "metadata": {
        "colab": {
          "base_uri": "https://localhost:8080/",
          "height": 302
        },
        "id": "PMaSVnvQRQRq",
        "outputId": "2a6b9683-2384-4cd9-fb79-2705b8881665"
      },
      "execution_count": 132,
      "outputs": [
        {
          "output_type": "execute_result",
          "data": {
            "text/plain": [
              "<matplotlib.axes._subplots.AxesSubplot at 0x7f22360c6390>"
            ]
          },
          "metadata": {},
          "execution_count": 132
        },
        {
          "output_type": "display_data",
          "data": {
            "text/plain": [
              "<Figure size 432x288 with 1 Axes>"
            ],
            "image/png": "[encoded data removed]"
          },
          "metadata": {
            "needs_background": "light"
          }
        }
      ]
    },
    {
      "cell_type": "code",
      "source": [
        "# NOTE: assumes all examples have labels,  only 2 attribute levels for bias\n",
        "def prec_at_k_trials_bias_v2(\n",
        "    df, k, grain=0.0, n_trial=5,\n",
        "    score_col='predict_proba', label_col='quickstart_label',\n",
        "    seln_col='tmp_selection', rand_col='tmp_random',\n",
        "    bias_attr='poverty_level', bias_denom='highest'\n",
        "):\n",
        "  results = {\n",
        "      'k': [],\n",
        "      'grain': [],\n",
        "      'bias_attr': [],\n",
        "      'bias_denom': [],\n",
        "      'ties_denom_frac': [],\n",
        "      'score_thresh': [],\n",
        "      'num_above_high': [],\n",
        "      'num_selected': [],\n",
        "      'needed_at_thresh': [],\n",
        "      'num_at_thresh': [],\n",
        "      'prec_at_k': [],\n",
        "      'recall_disp': []\n",
        "  }\n",
        "\n",
        "  tmp_df = df.copy()\n",
        "  tmp_df[rand_col] = np.random.random(tmp_df.shape[0])\n",
        "  tmp_df.sort_values([score_col, rand_col], ascending=[False, False], inplace=True)\n",
        "\n",
        "  score_thresh = tmp_df.head(k)[score_col].min()\n",
        "\n",
        "  score_high = score_thresh + grain\n",
        "  score_low = score_thresh - grain\n",
        "\n",
        "  tmp_df[seln_col] = 0.0\n",
        "  tmp_df.loc[tmp_df[score_col] > score_high, seln_col] = 1.0\n",
        "  tmp_df.loc[(tmp_df[score_col] <= score_high) & (tmp_df[score_col] >= score_low), seln_col] = 0.5\n",
        "\n",
        "  bias_denom_pos = tmp_df.loc[tmp_df[bias_attr] == bias_denom][label_col].sum()\n",
        "  bias_num_pos = tmp_df.loc[tmp_df[bias_attr] != bias_denom][label_col].sum()\n",
        "\n",
        "  needed = k - tmp_df.loc[tmp_df[seln_col] == 1.0].shape[0]\n",
        "\n",
        "  for frac in np.arange(0, 1.1, 0.1):\n",
        "\n",
        "    wanted_denom = round(needed*frac)\n",
        "    wanted_num = needed - wanted_denom\n",
        "\n",
        "    avail_denom = tmp_df.loc[(tmp_df[seln_col] == 0.5) & (tmp_df[bias_attr] == bias_denom)].shape[0]\n",
        "    avail_num = tmp_df.loc[(tmp_df[seln_col] == 0.5) & (tmp_df[bias_attr] != bias_denom)].shape[0]\n",
        "\n",
        "    if avail_denom < wanted_denom:\n",
        "      wanted_denom = avail_denom\n",
        "      wanted_num = needed - wanted_denom\n",
        "    elif avail_num < wanted_num:\n",
        "      wanted_num = avail_num\n",
        "      wanted_denom = needed - wanted_num\n",
        "\n",
        "    for t in range(n_trial):\n",
        "\n",
        "      tmp_df[rand_col] = np.random.random(tmp_df.shape[0])\n",
        "      tmp_df.sort_values([seln_col, rand_col], ascending=[False, False], inplace=True)\n",
        "\n",
        "      tmp_df_selected = pd.concat([\n",
        "          tmp_df.loc[tmp_df[seln_col] == 1.0],\n",
        "          tmp_df.loc[(tmp_df[seln_col] == 0.5) & (tmp_df[bias_attr] == bias_denom)].head(wanted_denom),\n",
        "          tmp_df.loc[(tmp_df[seln_col] == 0.5) & (tmp_df[bias_attr] != bias_denom)].head(wanted_num)\n",
        "      ])\n",
        "\n",
        "\n",
        "      results['k'].append(k)\n",
        "      results['grain'].append(grain)\n",
        "      results['score_thresh'].append(score_thresh)\n",
        "      results['num_above_high'].append(tmp_df.loc[tmp_df[seln_col] == 1.0].shape[0])\n",
        "      results['num_selected'].append(tmp_df_selected.shape[0])\n",
        "      results['num_at_thresh'].append(tmp_df.loc[tmp_df[seln_col] == 0.5].shape[0])\n",
        "      results['needed_at_thresh'].append(needed)\n",
        "      results['prec_at_k'].append(tmp_df_selected[label_col].mean())\n",
        "\n",
        "      results['bias_attr'].append(bias_attr)\n",
        "      results['bias_denom'].append(bias_denom)\n",
        "      results['ties_denom_frac'].append(frac)\n",
        "      recall_denom = tmp_df_selected.loc[tmp_df_selected[bias_attr] == bias_denom][label_col].sum() / bias_denom_pos\n",
        "      recall_num = tmp_df_selected.loc[tmp_df_selected[bias_attr] != bias_denom][label_col].sum() / bias_num_pos\n",
        "      results['recall_disp'].append(recall_num / recall_denom)\n",
        "\n",
        "      del(tmp_df_selected)\n",
        "\n",
        "  del(tmp_df)\n",
        "  return pd.DataFrame(results)"
      ],
      "metadata": {
        "id": "TvbzrBo7SfN3"
      },
      "execution_count": 133,
      "outputs": []
    },
    {
      "cell_type": "code",
      "source": [
        "res_df = prec_at_k_trials_bias_v2(split1_combined, k=1000, grain=0.025, n_trial=5)"
      ],
      "metadata": {
        "id": "RSLc0F2ZRQXA"
      },
      "execution_count": 155,
      "outputs": []
    },
    {
      "cell_type": "code",
      "source": [
        "res_df.head(10)"
      ],
      "metadata": {
        "colab": {
          "base_uri": "https://localhost:8080/",
          "height": 407
        },
        "id": "5wZOOSZbSfX-",
        "outputId": "da3f5671-6d15-4e80-cc05-2e8edb9737da"
      },
      "execution_count": 156,
      "outputs": [
        {
          "output_type": "execute_result",
          "data": {
            "text/plain": [
              "      k  grain      bias_attr bias_denom  ties_denom_frac  score_thresh  \\\n",
              "0  1000  0.025  poverty_level    highest              0.0      0.448564   \n",
              "1  1000  0.025  poverty_level    highest              0.0      0.448564   \n",
              "2  1000  0.025  poverty_level    highest              0.0      0.448564   \n",
              "3  1000  0.025  poverty_level    highest              0.0      0.448564   \n",
              "4  1000  0.025  poverty_level    highest              0.0      0.448564   \n",
              "5  1000  0.025  poverty_level    highest              0.1      0.448564   \n",
              "6  1000  0.025  poverty_level    highest              0.1      0.448564   \n",
              "7  1000  0.025  poverty_level    highest              0.1      0.448564   \n",
              "8  1000  0.025  poverty_level    highest              0.1      0.448564   \n",
              "9  1000  0.025  poverty_level    highest              0.1      0.448564   \n",
              "\n",
              "   num_above_high  num_selected  needed_at_thresh  num_at_thresh  prec_at_k  \\\n",
              "0             638          1000               362            774      0.626   \n",
              "1             638          1000               362            774      0.623   \n",
              "2             638          1000               362            774      0.624   \n",
              "3             638          1000               362            774      0.621   \n",
              "4             638          1000               362            774      0.622   \n",
              "5             638          1000               362            774      0.615   \n",
              "6             638          1000               362            774      0.616   \n",
              "7             638          1000               362            774      0.621   \n",
              "8             638          1000               362            774      0.623   \n",
              "9             638          1000               362            774      0.620   \n",
              "\n",
              "   recall_disp  \n",
              "0     3.954584  \n",
              "1     3.930421  \n",
              "2     3.938475  \n",
              "3     3.914313  \n",
              "4     3.922367  \n",
              "5     3.341135  \n",
              "6     3.261927  \n",
              "7     3.444362  \n",
              "8     3.311351  \n",
              "9     3.347768  "
            ],
            "text/html": [
              "\n",
              "  <div id=\"df-ffa4a21d-c5b3-4d25-a1d0-defde401b8c2\">\n",
              "    <div class=\"colab-df-container\">\n",
              "      <div>\n",
              "<style scoped>\n",
              "    .dataframe tbody tr th:only-of-type {\n",
              "        vertical-align: middle;\n",
              "    }\n",
              "\n",
              "    .dataframe tbody tr th {\n",
              "        vertical-align: top;\n",
              "    }\n",
              "\n",
              "    .dataframe thead th {\n",
              "        text-align: right;\n",
              "    }\n",
              "</style>\n",
              "<table border=\"1\" class=\"dataframe\">\n",
              "  <thead>\n",
              "    <tr style=\"text-align: right;\">\n",
              "      <th></th>\n",
              "      <th>k</th>\n",
              "      <th>grain</th>\n",
              "      <th>bias_attr</th>\n",
              "      <th>bias_denom</th>\n",
              "      <th>ties_denom_frac</th>\n",
              "      <th>score_thresh</th>\n",
              "      <th>num_above_high</th>\n",
              "      <th>num_selected</th>\n",
              "      <th>needed_at_thresh</th>\n",
              "      <th>num_at_thresh</th>\n",
              "      <th>prec_at_k</th>\n",
              "      <th>recall_disp</th>\n",
              "    </tr>\n",
              "  </thead>\n",
              "  <tbody>\n",
              "    <tr>\n",
              "      <th>0</th>\n",
              "      <td>1000</td>\n",
              "      <td>0.025</td>\n",
              "      <td>poverty_level</td>\n",
              "      <td>highest</td>\n",
              "      <td>0.0</td>\n",
              "      <td>0.448564</td>\n",
              "      <td>638</td>\n",
              "      <td>1000</td>\n",
              "      <td>362</td>\n",
              "      <td>774</td>\n",
              "      <td>0.626</td>\n",
              "      <td>3.954584</td>\n",
              "    </tr>\n",
              "    <tr>\n",
              "      <th>1</th>\n",
              "      <td>1000</td>\n",
              "      <td>0.025</td>\n",
              "      <td>poverty_level</td>\n",
              "      <td>highest</td>\n",
              "      <td>0.0</td>\n",
              "      <td>0.448564</td>\n",
              "      <td>638</td>\n",
              "      <td>1000</td>\n",
              "      <td>362</td>\n",
              "      <td>774</td>\n",
              "      <td>0.623</td>\n",
              "      <td>3.930421</td>\n",
              "    </tr>\n",
              "    <tr>\n",
              "      <th>2</th>\n",
              "      <td>1000</td>\n",
              "      <td>0.025</td>\n",
              "      <td>poverty_level</td>\n",
              "      <td>highest</td>\n",
              "      <td>0.0</td>\n",
              "      <td>0.448564</td>\n",
              "      <td>638</td>\n",
              "      <td>1000</td>\n",
              "      <td>362</td>\n",
              "      <td>774</td>\n",
              "      <td>0.624</td>\n",
              "      <td>3.938475</td>\n",
              "    </tr>\n",
              "    <tr>\n",
              "      <th>3</th>\n",
              "      <td>1000</td>\n",
              "      <td>0.025</td>\n",
              "      <td>poverty_level</td>\n",
              "      <td>highest</td>\n",
              "      <td>0.0</td>\n",
              "      <td>0.448564</td>\n",
              "      <td>638</td>\n",
              "      <td>1000</td>\n",
              "      <td>362</td>\n",
              "      <td>774</td>\n",
              "      <td>0.621</td>\n",
              "      <td>3.914313</td>\n",
              "    </tr>\n",
              "    <tr>\n",
              "      <th>4</th>\n",
              "      <td>1000</td>\n",
              "      <td>0.025</td>\n",
              "      <td>poverty_level</td>\n",
              "      <td>highest</td>\n",
              "      <td>0.0</td>\n",
              "      <td>0.448564</td>\n",
              "      <td>638</td>\n",
              "      <td>1000</td>\n",
              "      <td>362</td>\n",
              "      <td>774</td>\n",
              "      <td>0.622</td>\n",
              "      <td>3.922367</td>\n",
              "    </tr>\n",
              "    <tr>\n",
              "      <th>5</th>\n",
              "      <td>1000</td>\n",
              "      <td>0.025</td>\n",
              "      <td>poverty_level</td>\n",
              "      <td>highest</td>\n",
              "      <td>0.1</td>\n",
              "      <td>0.448564</td>\n",
              "      <td>638</td>\n",
              "      <td>1000</td>\n",
              "      <td>362</td>\n",
              "      <td>774</td>\n",
              "      <td>0.615</td>\n",
              "      <td>3.341135</td>\n",
              "    </tr>\n",
              "    <tr>\n",
              "      <th>6</th>\n",
              "      <td>1000</td>\n",
              "      <td>0.025</td>\n",
              "      <td>poverty_level</td>\n",
              "      <td>highest</td>\n",
              "      <td>0.1</td>\n",
              "      <td>0.448564</td>\n",
              "      <td>638</td>\n",
              "      <td>1000</td>\n",
              "      <td>362</td>\n",
              "      <td>774</td>\n",
              "      <td>0.616</td>\n",
              "      <td>3.261927</td>\n",
              "    </tr>\n",
              "    <tr>\n",
              "      <th>7</th>\n",
              "      <td>1000</td>\n",
              "      <td>0.025</td>\n",
              "      <td>poverty_level</td>\n",
              "      <td>highest</td>\n",
              "      <td>0.1</td>\n",
              "      <td>0.448564</td>\n",
              "      <td>638</td>\n",
              "      <td>1000</td>\n",
              "      <td>362</td>\n",
              "      <td>774</td>\n",
              "      <td>0.621</td>\n",
              "      <td>3.444362</td>\n",
              "    </tr>\n",
              "    <tr>\n",
              "      <th>8</th>\n",
              "      <td>1000</td>\n",
              "      <td>0.025</td>\n",
              "      <td>poverty_level</td>\n",
              "      <td>highest</td>\n",
              "      <td>0.1</td>\n",
              "      <td>0.448564</td>\n",
              "      <td>638</td>\n",
              "      <td>1000</td>\n",
              "      <td>362</td>\n",
              "      <td>774</td>\n",
              "      <td>0.623</td>\n",
              "      <td>3.311351</td>\n",
              "    </tr>\n",
              "    <tr>\n",
              "      <th>9</th>\n",
              "      <td>1000</td>\n",
              "      <td>0.025</td>\n",
              "      <td>poverty_level</td>\n",
              "      <td>highest</td>\n",
              "      <td>0.1</td>\n",
              "      <td>0.448564</td>\n",
              "      <td>638</td>\n",
              "      <td>1000</td>\n",
              "      <td>362</td>\n",
              "      <td>774</td>\n",
              "      <td>0.620</td>\n",
              "      <td>3.347768</td>\n",
              "    </tr>\n",
              "  </tbody>\n",
              "</table>\n",
              "</div>\n",
              "      <button class=\"colab-df-convert\" onclick=\"convertToInteractive('df-ffa4a21d-c5b3-4d25-a1d0-defde401b8c2')\"\n",
              "              title=\"Convert this dataframe to an interactive table.\"\n",
              "              style=\"display:none;\">\n",
              "        \n",
              "  <svg xmlns=\"http://www.w3.org/2000/svg\" height=\"24px\"viewBox=\"0 0 24 24\"\n",
              "       width=\"24px\">\n",
              "    <path d=\"M0 0h24v24H0V0z\" fill=\"none\"/>\n",
              "    <path d=\"M18.56 5.44l.94 2.06.94-2.06 2.06-.94-2.06-.94-.94-2.06-.94 2.06-2.06.94zm-11 1L8.5 8.5l.94-2.06 2.06-.94-2.06-.94L8.5 2.5l-.94 2.06-2.06.94zm10 10l.94 2.06.94-2.06 2.06-.94-2.06-.94-.94-2.06-.94 2.06-2.06.94z\"/><path d=\"M17.41 7.96l-1.37-1.37c-.4-.4-.92-.59-1.43-.59-.52 0-1.04.2-1.43.59L10.3 9.45l-7.72 7.72c-.78.78-.78 2.05 0 2.83L4 21.41c.39.39.9.59 1.41.59.51 0 1.02-.2 1.41-.59l7.78-7.78 2.81-2.81c.8-.78.8-2.07 0-2.86zM5.41 20L4 18.59l7.72-7.72 1.47 1.35L5.41 20z\"/>\n",
              "  </svg>\n",
              "      </button>\n",
              "      \n",
              "  <style>\n",
              "    .colab-df-container {\n",
              "      display:flex;\n",
              "      flex-wrap:wrap;\n",
              "      gap: 12px;\n",
              "    }\n",
              "\n",
              "    .colab-df-convert {\n",
              "      background-color: #E8F0FE;\n",
              "      border: none;\n",
              "      border-radius: 50%;\n",
              "      cursor: pointer;\n",
              "      display: none;\n",
              "      fill: #1967D2;\n",
              "      height: 32px;\n",
              "      padding: 0 0 0 0;\n",
              "      width: 32px;\n",
              "    }\n",
              "\n",
              "    .colab-df-convert:hover {\n",
              "      background-color: #E2EBFA;\n",
              "      box-shadow: 0px 1px 2px rgba(60, 64, 67, 0.3), 0px 1px 3px 1px rgba(60, 64, 67, 0.15);\n",
              "      fill: #174EA6;\n",
              "    }\n",
              "\n",
              "    [theme=dark] .colab-df-convert {\n",
              "      background-color: #3B4455;\n",
              "      fill: #D2E3FC;\n",
              "    }\n",
              "\n",
              "    [theme=dark] .colab-df-convert:hover {\n",
              "      background-color: #434B5C;\n",
              "      box-shadow: 0px 1px 3px 1px rgba(0, 0, 0, 0.15);\n",
              "      filter: drop-shadow(0px 1px 2px rgba(0, 0, 0, 0.3));\n",
              "      fill: #FFFFFF;\n",
              "    }\n",
              "  </style>\n",
              "\n",
              "      <script>\n",
              "        const buttonEl =\n",
              "          document.querySelector('#df-ffa4a21d-c5b3-4d25-a1d0-defde401b8c2 button.colab-df-convert');\n",
              "        buttonEl.style.display =\n",
              "          google.colab.kernel.accessAllowed ? 'block' : 'none';\n",
              "\n",
              "        async function convertToInteractive(key) {\n",
              "          const element = document.querySelector('#df-ffa4a21d-c5b3-4d25-a1d0-defde401b8c2');\n",
              "          const dataTable =\n",
              "            await google.colab.kernel.invokeFunction('convertToInteractive',\n",
              "                                                     [key], {});\n",
              "          if (!dataTable) return;\n",
              "\n",
              "          const docLinkHtml = 'Like what you see? Visit the ' +\n",
              "            '<a target=\"_blank\" href=https://colab.research.google.com/notebooks/data_table.ipynb>data table notebook</a>'\n",
              "            + ' to learn more about interactive tables.';\n",
              "          element.innerHTML = '';\n",
              "          dataTable['output_type'] = 'display_data';\n",
              "          await google.colab.output.renderOutput(dataTable, element);\n",
              "          const docLink = document.createElement('div');\n",
              "          docLink.innerHTML = docLinkHtml;\n",
              "          element.appendChild(docLink);\n",
              "        }\n",
              "      </script>\n",
              "    </div>\n",
              "  </div>\n",
              "  "
            ]
          },
          "metadata": {},
          "execution_count": 156
        }
      ]
    },
    {
      "cell_type": "code",
      "source": [
        "ax = sns.scatterplot('prec_at_k', 'recall_disp', data=res_df)\n",
        "ax.set_xlim((0.4,0.8))\n",
        "ax.set_ylim((0,4))"
      ],
      "metadata": {
        "colab": {
          "base_uri": "https://localhost:8080/",
          "height": 306
        },
        "id": "rs1eMPm_SfdF",
        "outputId": "a4e37fa6-ee3f-4a3e-a636-c3e467fcc176"
      },
      "execution_count": 157,
      "outputs": [
        {
          "output_type": "execute_result",
          "data": {
            "text/plain": [
              "(0.0, 4.0)"
            ]
          },
          "metadata": {},
          "execution_count": 157
        },
        {
          "output_type": "display_data",
          "data": {
            "text/plain": [
              "<Figure size 432x288 with 1 Axes>"
            ],
            "image/png": "[encoded data removed]"
          },
          "metadata": {
            "needs_background": "light"
          }
        }
      ]
    },
    {
      "cell_type": "code",
      "source": [
        "ax = sns.scatterplot('prec_at_k', 'recall_disp', data=res_df)\n",
        "ax.set_xlim((0.55,0.65))\n",
        "ax.set_ylim((0,4))"
      ],
      "metadata": {
        "colab": {
          "base_uri": "https://localhost:8080/",
          "height": 306
        },
        "id": "L2-XpRU3Sfpx",
        "outputId": "153a0398-fe60-4f94-f792-32658aee1efd"
      },
      "execution_count": 158,
      "outputs": [
        {
          "output_type": "execute_result",
          "data": {
            "text/plain": [
              "(0.0, 4.0)"
            ]
          },
          "metadata": {},
          "execution_count": 158
        },
        {
          "output_type": "display_data",
          "data": {
            "text/plain": [
              "<Figure size 432x288 with 1 Axes>"
            ],
            "image/png": "[encoded data removed]"
          },
          "metadata": {
            "needs_background": "light"
          }
        }
      ]
    },
    {
      "cell_type": "code",
      "source": [
        "bias_res_list = []\n",
        "for grain in [0.000, 0.001, 0.005, 0.01, 0.025, 0.05, 0.1, 0.5, 1.0]:\n",
        "  bias_res_list.append(prec_at_k_trials_bias_v2(split1_combined, k=1000, grain=grain, n_trial=5))\n",
        "\n",
        "bias_results = pd.concat(bias_res_list)"
      ],
      "metadata": {
        "id": "SWaa6WIWRQbL"
      },
      "execution_count": 159,
      "outputs": []
    },
    {
      "cell_type": "code",
      "source": [
        "bias_results['grain_cat'] = pd.Categorical(bias_results['grain'])"
      ],
      "metadata": {
        "id": "oZjumDuwZC3H"
      },
      "execution_count": 162,
      "outputs": []
    },
    {
      "cell_type": "code",
      "source": [
        "ax = sns.scatterplot('prec_at_k', 'recall_disp', hue='grain_cat', data=bias_results)\n",
        "ax.set_xlim((0.2,0.8))\n",
        "ax.set_ylim((0,8))"
      ],
      "metadata": {
        "colab": {
          "base_uri": "https://localhost:8080/",
          "height": 306
        },
        "id": "D9Q8idhXW9ku",
        "outputId": "7ebd8fec-349f-4866-a38f-a2379203200d"
      },
      "execution_count": 164,
      "outputs": [
        {
          "output_type": "execute_result",
          "data": {
            "text/plain": [
              "(0.0, 8.0)"
            ]
          },
          "metadata": {},
          "execution_count": 164
        },
        {
          "output_type": "display_data",
          "data": {
            "text/plain": [
              "<Figure size 432x288 with 1 Axes>"
            ],
            "image/png": "[encoded data removed]"
          },
          "metadata": {
            "needs_background": "light"
          }
        }
      ]
    },
    {
      "cell_type": "code",
      "source": [
        "ax = sns.scatterplot('prec_at_k', 'recall_disp', hue='grain_cat', data=bias_results.loc[bias_results['grain'] <= 0.05])\n",
        "ax.set_xlim((0.55,0.7))\n",
        "ax.set_ylim((0,3))"
      ],
      "metadata": {
        "colab": {
          "base_uri": "https://localhost:8080/",
          "height": 306
        },
        "id": "lYkEimHnW9vc",
        "outputId": "f4dafcac-7358-4422-ec5f-e9ecb09f5288"
      },
      "execution_count": 167,
      "outputs": [
        {
          "output_type": "execute_result",
          "data": {
            "text/plain": [
              "(0.0, 3.0)"
            ]
          },
          "metadata": {},
          "execution_count": 167
        },
        {
          "output_type": "display_data",
          "data": {
            "text/plain": [
              "<Figure size 432x288 with 1 Axes>"
            ],
            "image/png": "[encoded data removed]"
          },
          "metadata": {
            "needs_background": "light"
          }
        }
      ]
    },
    {
      "cell_type": "code",
      "source": [
        "ax = sns.scatterplot('ties_denom_frac', 'recall_disp', data=bias_results.loc[bias_results['grain'] == 0.025])\n",
        "ax.set_xlim((-0.1,1.1))\n",
        "ax.set_ylim((0,5))"
      ],
      "metadata": {
        "colab": {
          "base_uri": "https://localhost:8080/",
          "height": 306
        },
        "id": "HyrjEi95cAUr",
        "outputId": "82596f2c-2b6f-4ed7-a17f-3ea3dc6c27a5"
      },
      "execution_count": 172,
      "outputs": [
        {
          "output_type": "execute_result",
          "data": {
            "text/plain": [
              "(0.0, 5.0)"
            ]
          },
          "metadata": {},
          "execution_count": 172
        },
        {
          "output_type": "display_data",
          "data": {
            "text/plain": [
              "<Figure size 432x288 with 1 Axes>"
            ],
            "image/png": "[encoded data removed]"
          },
          "metadata": {
            "needs_background": "light"
          }
        }
      ]
    },
    {
      "cell_type": "code",
      "source": [
        "ax = sns.scatterplot('ties_denom_frac', 'prec_at_k', data=bias_results.loc[bias_results['grain'] == 0.025])\n",
        "ax.set_xlim((-0.1,1.1))\n",
        "ax.set_ylim((0.4,0.8))"
      ],
      "metadata": {
        "colab": {
          "base_uri": "https://localhost:8080/",
          "height": 306
        },
        "id": "mJU9eL_ycSxQ",
        "outputId": "f8b89931-c41f-4633-ebae-74ecc2ff1750"
      },
      "execution_count": 174,
      "outputs": [
        {
          "output_type": "execute_result",
          "data": {
            "text/plain": [
              "(0.4, 0.8)"
            ]
          },
          "metadata": {},
          "execution_count": 174
        },
        {
          "output_type": "display_data",
          "data": {
            "text/plain": [
              "<Figure size 432x288 with 1 Axes>"
            ],
            "image/png": "[encoded data removed]"
          },
          "metadata": {
            "needs_background": "light"
          }
        }
      ]
    },
    {
      "cell_type": "markdown",
      "source": [
        "This seems much cleaner than above -- a clear relationship between granularity and eventual drop-off in precision and much more predictable behavior with regards to disparities as well.\n",
        "\n",
        "However, this approach is definitely less clear-cut than the recall adjuster -- at what granularity do we consider the scores equivalent given the error bars? A grain of 0.05 seems too large (the precision has clearly dropped off), while 0.01 seems tightly distributed around the un-smoothed value, but 0.025 is a bit of a harder call: still distributed around the \"true\" value but with wider error bars. In this particular case, it appears that the attainable disparity improvement is pretty sensitive to that decision (again, making this a bit less clear-cut than the recall adjuster approach). \n",
        "\n",
        "The main advantage this approach would seem to have over the direct recall adjuster, however, is that it acknowledges the actual precision of the model scores isn't nearly as high as the output and only accounts for a protected attribute in choosing between equivalently-qualified (or equivalently-at need) individuals in a manner that doesn't require separate thresholds for different types of individuals. As such, the protected attribute is used only as a tie breaker, which might be more robust to challenges in some cases?\n",
        "\n",
        "Additionally, what I've looked at so far doesn't consider the temporal aspect of the data yet, just within a given split. In reality, we would need to learn both a granularity and fraction of each bias group to chose among the ties from historical results. For the first, this would be based on something like the largest granularity where the precision at k is statistically the same as the value with grain=0.0. For the second, it might be the fraction that yields the lowest disparity among these equivalent sets or perhaps some concept of pareto optimality (though this probably makes less sense if the scores in the band are indeed equivalent up to the granularity)."
      ],
      "metadata": {
        "id": "LaVEw8isbZsq"
      }
    },
    {
      "cell_type": "code",
      "source": [
        "# looking at the next time forward with grain=0.025 and denom_frac=0.9\n",
        "\n",
        "split2_preds = pd.read_csv(DATAPATH + 'predictions_c598fbe93f4c218ac7d325fb478598f1.csv.gz', compression='gzip')\n",
        "split2_attrdf = pd.read_csv(DATAPATH + 'test_20121201_20130201_protected.csv.gz', compression='gzip')\n",
        "\n",
        "split2_combined = pd.merge(split2_preds, split2_attrdf, how='left', on=[entity_col, date_col], sort=True, copy=True)"
      ],
      "metadata": {
        "id": "vw2Ir9tKqX-K"
      },
      "execution_count": 177,
      "outputs": []
    },
    {
      "cell_type": "code",
      "source": [
        "res_df = prec_at_k_trials_bias_v2(split2_combined, k=1000, grain=0.025, n_trial=5)"
      ],
      "metadata": {
        "id": "UVoXlukoqklj"
      },
      "execution_count": 178,
      "outputs": []
    },
    {
      "cell_type": "code",
      "source": [
        "res_df.loc[res_df['ties_denom_frac']==0.9]"
      ],
      "metadata": {
        "colab": {
          "base_uri": "https://localhost:8080/",
          "height": 250
        },
        "id": "ynvUm4jEqYDc",
        "outputId": "6641c1c7-981a-4399-bb7a-43b27af79c89"
      },
      "execution_count": 179,
      "outputs": [
        {
          "output_type": "execute_result",
          "data": {
            "text/plain": [
              "       k  grain      bias_attr bias_denom  ties_denom_frac  score_thresh  \\\n",
              "45  1000  0.025  poverty_level    highest              0.9      0.527625   \n",
              "46  1000  0.025  poverty_level    highest              0.9      0.527625   \n",
              "47  1000  0.025  poverty_level    highest              0.9      0.527625   \n",
              "48  1000  0.025  poverty_level    highest              0.9      0.527625   \n",
              "49  1000  0.025  poverty_level    highest              0.9      0.527625   \n",
              "\n",
              "    num_above_high  num_selected  needed_at_thresh  num_at_thresh  prec_at_k  \\\n",
              "45             522          1000               478           1234      0.580   \n",
              "46             522          1000               478           1234      0.577   \n",
              "47             522          1000               478           1234      0.579   \n",
              "48             522          1000               478           1234      0.579   \n",
              "49             522          1000               478           1234      0.574   \n",
              "\n",
              "    recall_disp  \n",
              "45     0.988582  \n",
              "46     0.977837  \n",
              "47     0.985001  \n",
              "48     0.985001  \n",
              "49     0.967091  "
            ],
            "text/html": [
              "\n",
              "  <div id=\"df-1c4ad220-7bb9-46fa-9f28-ac6a3b4aaea1\">\n",
              "    <div class=\"colab-df-container\">\n",
              "      <div>\n",
              "<style scoped>\n",
              "    .dataframe tbody tr th:only-of-type {\n",
              "        vertical-align: middle;\n",
              "    }\n",
              "\n",
              "    .dataframe tbody tr th {\n",
              "        vertical-align: top;\n",
              "    }\n",
              "\n",
              "    .dataframe thead th {\n",
              "        text-align: right;\n",
              "    }\n",
              "</style>\n",
              "<table border=\"1\" class=\"dataframe\">\n",
              "  <thead>\n",
              "    <tr style=\"text-align: right;\">\n",
              "      <th></th>\n",
              "      <th>k</th>\n",
              "      <th>grain</th>\n",
              "      <th>bias_attr</th>\n",
              "      <th>bias_denom</th>\n",
              "      <th>ties_denom_frac</th>\n",
              "      <th>score_thresh</th>\n",
              "      <th>num_above_high</th>\n",
              "      <th>num_selected</th>\n",
              "      <th>needed_at_thresh</th>\n",
              "      <th>num_at_thresh</th>\n",
              "      <th>prec_at_k</th>\n",
              "      <th>recall_disp</th>\n",
              "    </tr>\n",
              "  </thead>\n",
              "  <tbody>\n",
              "    <tr>\n",
              "      <th>45</th>\n",
              "      <td>1000</td>\n",
              "      <td>0.025</td>\n",
              "      <td>poverty_level</td>\n",
              "      <td>highest</td>\n",
              "      <td>0.9</td>\n",
              "      <td>0.527625</td>\n",
              "      <td>522</td>\n",
              "      <td>1000</td>\n",
              "      <td>478</td>\n",
              "      <td>1234</td>\n",
              "      <td>0.580</td>\n",
              "      <td>0.988582</td>\n",
              "    </tr>\n",
              "    <tr>\n",
              "      <th>46</th>\n",
              "      <td>1000</td>\n",
              "      <td>0.025</td>\n",
              "      <td>poverty_level</td>\n",
              "      <td>highest</td>\n",
              "      <td>0.9</td>\n",
              "      <td>0.527625</td>\n",
              "      <td>522</td>\n",
              "      <td>1000</td>\n",
              "      <td>478</td>\n",
              "      <td>1234</td>\n",
              "      <td>0.577</td>\n",
              "      <td>0.977837</td>\n",
              "    </tr>\n",
              "    <tr>\n",
              "      <th>47</th>\n",
              "      <td>1000</td>\n",
              "      <td>0.025</td>\n",
              "      <td>poverty_level</td>\n",
              "      <td>highest</td>\n",
              "      <td>0.9</td>\n",
              "      <td>0.527625</td>\n",
              "      <td>522</td>\n",
              "      <td>1000</td>\n",
              "      <td>478</td>\n",
              "      <td>1234</td>\n",
              "      <td>0.579</td>\n",
              "      <td>0.985001</td>\n",
              "    </tr>\n",
              "    <tr>\n",
              "      <th>48</th>\n",
              "      <td>1000</td>\n",
              "      <td>0.025</td>\n",
              "      <td>poverty_level</td>\n",
              "      <td>highest</td>\n",
              "      <td>0.9</td>\n",
              "      <td>0.527625</td>\n",
              "      <td>522</td>\n",
              "      <td>1000</td>\n",
              "      <td>478</td>\n",
              "      <td>1234</td>\n",
              "      <td>0.579</td>\n",
              "      <td>0.985001</td>\n",
              "    </tr>\n",
              "    <tr>\n",
              "      <th>49</th>\n",
              "      <td>1000</td>\n",
              "      <td>0.025</td>\n",
              "      <td>poverty_level</td>\n",
              "      <td>highest</td>\n",
              "      <td>0.9</td>\n",
              "      <td>0.527625</td>\n",
              "      <td>522</td>\n",
              "      <td>1000</td>\n",
              "      <td>478</td>\n",
              "      <td>1234</td>\n",
              "      <td>0.574</td>\n",
              "      <td>0.967091</td>\n",
              "    </tr>\n",
              "  </tbody>\n",
              "</table>\n",
              "</div>\n",
              "      <button class=\"colab-df-convert\" onclick=\"convertToInteractive('df-1c4ad220-7bb9-46fa-9f28-ac6a3b4aaea1')\"\n",
              "              title=\"Convert this dataframe to an interactive table.\"\n",
              "              style=\"display:none;\">\n",
              "        \n",
              "  <svg xmlns=\"http://www.w3.org/2000/svg\" height=\"24px\"viewBox=\"0 0 24 24\"\n",
              "       width=\"24px\">\n",
              "    <path d=\"M0 0h24v24H0V0z\" fill=\"none\"/>\n",
              "    <path d=\"M18.56 5.44l.94 2.06.94-2.06 2.06-.94-2.06-.94-.94-2.06-.94 2.06-2.06.94zm-11 1L8.5 8.5l.94-2.06 2.06-.94-2.06-.94L8.5 2.5l-.94 2.06-2.06.94zm10 10l.94 2.06.94-2.06 2.06-.94-2.06-.94-.94-2.06-.94 2.06-2.06.94z\"/><path d=\"M17.41 7.96l-1.37-1.37c-.4-.4-.92-.59-1.43-.59-.52 0-1.04.2-1.43.59L10.3 9.45l-7.72 7.72c-.78.78-.78 2.05 0 2.83L4 21.41c.39.39.9.59 1.41.59.51 0 1.02-.2 1.41-.59l7.78-7.78 2.81-2.81c.8-.78.8-2.07 0-2.86zM5.41 20L4 18.59l7.72-7.72 1.47 1.35L5.41 20z\"/>\n",
              "  </svg>\n",
              "      </button>\n",
              "      \n",
              "  <style>\n",
              "    .colab-df-container {\n",
              "      display:flex;\n",
              "      flex-wrap:wrap;\n",
              "      gap: 12px;\n",
              "    }\n",
              "\n",
              "    .colab-df-convert {\n",
              "      background-color: #E8F0FE;\n",
              "      border: none;\n",
              "      border-radius: 50%;\n",
              "      cursor: pointer;\n",
              "      display: none;\n",
              "      fill: #1967D2;\n",
              "      height: 32px;\n",
              "      padding: 0 0 0 0;\n",
              "      width: 32px;\n",
              "    }\n",
              "\n",
              "    .colab-df-convert:hover {\n",
              "      background-color: #E2EBFA;\n",
              "      box-shadow: 0px 1px 2px rgba(60, 64, 67, 0.3), 0px 1px 3px 1px rgba(60, 64, 67, 0.15);\n",
              "      fill: #174EA6;\n",
              "    }\n",
              "\n",
              "    [theme=dark] .colab-df-convert {\n",
              "      background-color: #3B4455;\n",
              "      fill: #D2E3FC;\n",
              "    }\n",
              "\n",
              "    [theme=dark] .colab-df-convert:hover {\n",
              "      background-color: #434B5C;\n",
              "      box-shadow: 0px 1px 3px 1px rgba(0, 0, 0, 0.15);\n",
              "      filter: drop-shadow(0px 1px 2px rgba(0, 0, 0, 0.3));\n",
              "      fill: #FFFFFF;\n",
              "    }\n",
              "  </style>\n",
              "\n",
              "      <script>\n",
              "        const buttonEl =\n",
              "          document.querySelector('#df-1c4ad220-7bb9-46fa-9f28-ac6a3b4aaea1 button.colab-df-convert');\n",
              "        buttonEl.style.display =\n",
              "          google.colab.kernel.accessAllowed ? 'block' : 'none';\n",
              "\n",
              "        async function convertToInteractive(key) {\n",
              "          const element = document.querySelector('#df-1c4ad220-7bb9-46fa-9f28-ac6a3b4aaea1');\n",
              "          const dataTable =\n",
              "            await google.colab.kernel.invokeFunction('convertToInteractive',\n",
              "                                                     [key], {});\n",
              "          if (!dataTable) return;\n",
              "\n",
              "          const docLinkHtml = 'Like what you see? Visit the ' +\n",
              "            '<a target=\"_blank\" href=https://colab.research.google.com/notebooks/data_table.ipynb>data table notebook</a>'\n",
              "            + ' to learn more about interactive tables.';\n",
              "          element.innerHTML = '';\n",
              "          dataTable['output_type'] = 'display_data';\n",
              "          await google.colab.output.renderOutput(dataTable, element);\n",
              "          const docLink = document.createElement('div');\n",
              "          docLink.innerHTML = docLinkHtml;\n",
              "          element.appendChild(docLink);\n",
              "        }\n",
              "      </script>\n",
              "    </div>\n",
              "  </div>\n",
              "  "
            ]
          },
          "metadata": {},
          "execution_count": 179
        }
      ]
    },
    {
      "cell_type": "code",
      "source": [
        "prec_at_k_trials_v2(split2_combined, k=1000, grain=0.00, n_trial=5)"
      ],
      "metadata": {
        "colab": {
          "base_uri": "https://localhost:8080/",
          "height": 206
        },
        "id": "N-eX-9ZRqYlb",
        "outputId": "c1972ef6-283e-41ed-f6c3-85964962637a"
      },
      "execution_count": 180,
      "outputs": [
        {
          "output_type": "execute_result",
          "data": {
            "text/plain": [
              "      k  grain  score_thresh  num_above_high  num_at_thresh  prec_at_k\n",
              "0  1000    0.0      0.527625             999              1      0.552\n",
              "1  1000    0.0      0.527625             999              1      0.552\n",
              "2  1000    0.0      0.527625             999              1      0.552\n",
              "3  1000    0.0      0.527625             999              1      0.552\n",
              "4  1000    0.0      0.527625             999              1      0.552"
            ],
            "text/html": [
              "\n",
              "  <div id=\"df-6de01bcc-bc9d-4669-bc45-02667a49ee38\">\n",
              "    <div class=\"colab-df-container\">\n",
              "      <div>\n",
              "<style scoped>\n",
              "    .dataframe tbody tr th:only-of-type {\n",
              "        vertical-align: middle;\n",
              "    }\n",
              "\n",
              "    .dataframe tbody tr th {\n",
              "        vertical-align: top;\n",
              "    }\n",
              "\n",
              "    .dataframe thead th {\n",
              "        text-align: right;\n",
              "    }\n",
              "</style>\n",
              "<table border=\"1\" class=\"dataframe\">\n",
              "  <thead>\n",
              "    <tr style=\"text-align: right;\">\n",
              "      <th></th>\n",
              "      <th>k</th>\n",
              "      <th>grain</th>\n",
              "      <th>score_thresh</th>\n",
              "      <th>num_above_high</th>\n",
              "      <th>num_at_thresh</th>\n",
              "      <th>prec_at_k</th>\n",
              "    </tr>\n",
              "  </thead>\n",
              "  <tbody>\n",
              "    <tr>\n",
              "      <th>0</th>\n",
              "      <td>1000</td>\n",
              "      <td>0.0</td>\n",
              "      <td>0.527625</td>\n",
              "      <td>999</td>\n",
              "      <td>1</td>\n",
              "      <td>0.552</td>\n",
              "    </tr>\n",
              "    <tr>\n",
              "      <th>1</th>\n",
              "      <td>1000</td>\n",
              "      <td>0.0</td>\n",
              "      <td>0.527625</td>\n",
              "      <td>999</td>\n",
              "      <td>1</td>\n",
              "      <td>0.552</td>\n",
              "    </tr>\n",
              "    <tr>\n",
              "      <th>2</th>\n",
              "      <td>1000</td>\n",
              "      <td>0.0</td>\n",
              "      <td>0.527625</td>\n",
              "      <td>999</td>\n",
              "      <td>1</td>\n",
              "      <td>0.552</td>\n",
              "    </tr>\n",
              "    <tr>\n",
              "      <th>3</th>\n",
              "      <td>1000</td>\n",
              "      <td>0.0</td>\n",
              "      <td>0.527625</td>\n",
              "      <td>999</td>\n",
              "      <td>1</td>\n",
              "      <td>0.552</td>\n",
              "    </tr>\n",
              "    <tr>\n",
              "      <th>4</th>\n",
              "      <td>1000</td>\n",
              "      <td>0.0</td>\n",
              "      <td>0.527625</td>\n",
              "      <td>999</td>\n",
              "      <td>1</td>\n",
              "      <td>0.552</td>\n",
              "    </tr>\n",
              "  </tbody>\n",
              "</table>\n",
              "</div>\n",
              "      <button class=\"colab-df-convert\" onclick=\"convertToInteractive('df-6de01bcc-bc9d-4669-bc45-02667a49ee38')\"\n",
              "              title=\"Convert this dataframe to an interactive table.\"\n",
              "              style=\"display:none;\">\n",
              "        \n",
              "  <svg xmlns=\"http://www.w3.org/2000/svg\" height=\"24px\"viewBox=\"0 0 24 24\"\n",
              "       width=\"24px\">\n",
              "    <path d=\"M0 0h24v24H0V0z\" fill=\"none\"/>\n",
              "    <path d=\"M18.56 5.44l.94 2.06.94-2.06 2.06-.94-2.06-.94-.94-2.06-.94 2.06-2.06.94zm-11 1L8.5 8.5l.94-2.06 2.06-.94-2.06-.94L8.5 2.5l-.94 2.06-2.06.94zm10 10l.94 2.06.94-2.06 2.06-.94-2.06-.94-.94-2.06-.94 2.06-2.06.94z\"/><path d=\"M17.41 7.96l-1.37-1.37c-.4-.4-.92-.59-1.43-.59-.52 0-1.04.2-1.43.59L10.3 9.45l-7.72 7.72c-.78.78-.78 2.05 0 2.83L4 21.41c.39.39.9.59 1.41.59.51 0 1.02-.2 1.41-.59l7.78-7.78 2.81-2.81c.8-.78.8-2.07 0-2.86zM5.41 20L4 18.59l7.72-7.72 1.47 1.35L5.41 20z\"/>\n",
              "  </svg>\n",
              "      </button>\n",
              "      \n",
              "  <style>\n",
              "    .colab-df-container {\n",
              "      display:flex;\n",
              "      flex-wrap:wrap;\n",
              "      gap: 12px;\n",
              "    }\n",
              "\n",
              "    .colab-df-convert {\n",
              "      background-color: #E8F0FE;\n",
              "      border: none;\n",
              "      border-radius: 50%;\n",
              "      cursor: pointer;\n",
              "      display: none;\n",
              "      fill: #1967D2;\n",
              "      height: 32px;\n",
              "      padding: 0 0 0 0;\n",
              "      width: 32px;\n",
              "    }\n",
              "\n",
              "    .colab-df-convert:hover {\n",
              "      background-color: #E2EBFA;\n",
              "      box-shadow: 0px 1px 2px rgba(60, 64, 67, 0.3), 0px 1px 3px 1px rgba(60, 64, 67, 0.15);\n",
              "      fill: #174EA6;\n",
              "    }\n",
              "\n",
              "    [theme=dark] .colab-df-convert {\n",
              "      background-color: #3B4455;\n",
              "      fill: #D2E3FC;\n",
              "    }\n",
              "\n",
              "    [theme=dark] .colab-df-convert:hover {\n",
              "      background-color: #434B5C;\n",
              "      box-shadow: 0px 1px 3px 1px rgba(0, 0, 0, 0.15);\n",
              "      filter: drop-shadow(0px 1px 2px rgba(0, 0, 0, 0.3));\n",
              "      fill: #FFFFFF;\n",
              "    }\n",
              "  </style>\n",
              "\n",
              "      <script>\n",
              "        const buttonEl =\n",
              "          document.querySelector('#df-6de01bcc-bc9d-4669-bc45-02667a49ee38 button.colab-df-convert');\n",
              "        buttonEl.style.display =\n",
              "          google.colab.kernel.accessAllowed ? 'block' : 'none';\n",
              "\n",
              "        async function convertToInteractive(key) {\n",
              "          const element = document.querySelector('#df-6de01bcc-bc9d-4669-bc45-02667a49ee38');\n",
              "          const dataTable =\n",
              "            await google.colab.kernel.invokeFunction('convertToInteractive',\n",
              "                                                     [key], {});\n",
              "          if (!dataTable) return;\n",
              "\n",
              "          const docLinkHtml = 'Like what you see? Visit the ' +\n",
              "            '<a target=\"_blank\" href=https://colab.research.google.com/notebooks/data_table.ipynb>data table notebook</a>'\n",
              "            + ' to learn more about interactive tables.';\n",
              "          element.innerHTML = '';\n",
              "          dataTable['output_type'] = 'display_data';\n",
              "          await google.colab.output.renderOutput(dataTable, element);\n",
              "          const docLink = document.createElement('div');\n",
              "          docLink.innerHTML = docLinkHtml;\n",
              "          element.appendChild(docLink);\n",
              "        }\n",
              "      </script>\n",
              "    </div>\n",
              "  </div>\n",
              "  "
            ]
          },
          "metadata": {},
          "execution_count": 180
        }
      ]
    },
    {
      "cell_type": "markdown",
      "source": [
        "Here we find very much the same result rolling forward into the next validation set as we do with the post-hoc thresholds/recall adjuster, even including the roughly 3pp increase in precision at k with the fairness-improved top k sets (interestingly, this actually shows some robustness to different draws from the tied scores there, suggesting this increase is more due to the non-stationary nature of the data across splits than luck of the draw in making the post-hoc adjustments).\n",
        "\n",
        "As a proof of concept, this seems promising, but ideally we could find a more automated means of choosing the grain and denom_frac parameters here than reading sensible values off plots.\n",
        "\n",
        "Likewise, extensions to cases with more than two values on the protected attribute again seems more messy than recall adjuster approach (which yields a unique solution), though it might be simpler here if we chose the fractions based on what would be needed to (in expectation) yield equal recalls when learning the parameters in historical data (that is, based on how many more TPs are needed for each group and the relative pools available)."
      ],
      "metadata": {
        "id": "TuVXzoKNtJ2J"
      }
    },
    {
      "cell_type": "markdown",
      "metadata": {
        "id": "phQmuZk11I_q"
      },
      "source": [
        "### Combine predictions with protected attributes"
      ]
    },
    {
      "cell_type": "code",
      "execution_count": 13,
      "metadata": {
        "colab": {
          "base_uri": "https://localhost:8080/",
          "height": 312
        },
        "id": "PEjLU2CR1I_q",
        "outputId": "9f542f07-3a61-4f77-f49d-55c3c02ab117"
      },
      "outputs": [
        {
          "output_type": "error",
          "ename": "MergeError",
          "evalue": "ignored",
          "traceback": [
            "\u001b[0;31m---------------------------------------------------------------------------\u001b[0m",
            "\u001b[0;31mMergeError\u001b[0m                                Traceback (most recent call last)",
            "\u001b[0;32m<ipython-input-13-02841ed155e1>\u001b[0m in \u001b[0;36m<module>\u001b[0;34m()\u001b[0m\n\u001b[0;32m----> 1\u001b[0;31m \u001b[0mdf\u001b[0m \u001b[0;34m=\u001b[0m \u001b[0mpd\u001b[0m\u001b[0;34m.\u001b[0m\u001b[0mmerge\u001b[0m\u001b[0;34m(\u001b[0m\u001b[0msplit1_preds\u001b[0m\u001b[0;34m,\u001b[0m \u001b[0msplit1_attrdf\u001b[0m\u001b[0;34m,\u001b[0m \u001b[0mhow\u001b[0m\u001b[0;34m=\u001b[0m\u001b[0;34m'left'\u001b[0m\u001b[0;34m,\u001b[0m \u001b[0mon\u001b[0m\u001b[0;34m=\u001b[0m\u001b[0;34m[\u001b[0m\u001b[0mentity_col\u001b[0m\u001b[0;34m,\u001b[0m\u001b[0mdate_col\u001b[0m\u001b[0;34m]\u001b[0m\u001b[0;34m,\u001b[0m \u001b[0mleft_index\u001b[0m\u001b[0;34m=\u001b[0m\u001b[0;32mTrue\u001b[0m\u001b[0;34m,\u001b[0m \u001b[0mright_index\u001b[0m\u001b[0;34m=\u001b[0m\u001b[0;32mFalse\u001b[0m\u001b[0;34m,\u001b[0m \u001b[0msort\u001b[0m\u001b[0;34m=\u001b[0m\u001b[0;32mTrue\u001b[0m\u001b[0;34m,\u001b[0m \u001b[0mcopy\u001b[0m\u001b[0;34m=\u001b[0m\u001b[0;32mTrue\u001b[0m\u001b[0;34m)\u001b[0m\u001b[0;34m\u001b[0m\u001b[0;34m\u001b[0m\u001b[0m\n\u001b[0m",
            "\u001b[0;32m/usr/local/lib/python3.7/dist-packages/pandas/core/reshape/merge.py\u001b[0m in \u001b[0;36mmerge\u001b[0;34m(left, right, how, on, left_on, right_on, left_index, right_index, sort, suffixes, copy, indicator, validate)\u001b[0m\n\u001b[1;32m    117\u001b[0m         \u001b[0mcopy\u001b[0m\u001b[0;34m=\u001b[0m\u001b[0mcopy\u001b[0m\u001b[0;34m,\u001b[0m\u001b[0;34m\u001b[0m\u001b[0;34m\u001b[0m\u001b[0m\n\u001b[1;32m    118\u001b[0m         \u001b[0mindicator\u001b[0m\u001b[0;34m=\u001b[0m\u001b[0mindicator\u001b[0m\u001b[0;34m,\u001b[0m\u001b[0;34m\u001b[0m\u001b[0;34m\u001b[0m\u001b[0m\n\u001b[0;32m--> 119\u001b[0;31m         \u001b[0mvalidate\u001b[0m\u001b[0;34m=\u001b[0m\u001b[0mvalidate\u001b[0m\u001b[0;34m,\u001b[0m\u001b[0;34m\u001b[0m\u001b[0;34m\u001b[0m\u001b[0m\n\u001b[0m\u001b[1;32m    120\u001b[0m     )\n\u001b[1;32m    121\u001b[0m     \u001b[0;32mreturn\u001b[0m \u001b[0mop\u001b[0m\u001b[0;34m.\u001b[0m\u001b[0mget_result\u001b[0m\u001b[0;34m(\u001b[0m\u001b[0;34m)\u001b[0m\u001b[0;34m\u001b[0m\u001b[0;34m\u001b[0m\u001b[0m\n",
            "\u001b[0;32m/usr/local/lib/python3.7/dist-packages/pandas/core/reshape/merge.py\u001b[0m in \u001b[0;36m__init__\u001b[0;34m(self, left, right, how, on, left_on, right_on, axis, left_index, right_index, sort, suffixes, copy, indicator, validate)\u001b[0m\n\u001b[1;32m    679\u001b[0m             \u001b[0mwarnings\u001b[0m\u001b[0;34m.\u001b[0m\u001b[0mwarn\u001b[0m\u001b[0;34m(\u001b[0m\u001b[0mmsg\u001b[0m\u001b[0;34m,\u001b[0m \u001b[0mFutureWarning\u001b[0m\u001b[0;34m,\u001b[0m \u001b[0mstacklevel\u001b[0m\u001b[0;34m=\u001b[0m\u001b[0;36m3\u001b[0m\u001b[0;34m)\u001b[0m\u001b[0;34m\u001b[0m\u001b[0;34m\u001b[0m\u001b[0m\n\u001b[1;32m    680\u001b[0m \u001b[0;34m\u001b[0m\u001b[0m\n\u001b[0;32m--> 681\u001b[0;31m         \u001b[0mself\u001b[0m\u001b[0;34m.\u001b[0m\u001b[0m_validate_specification\u001b[0m\u001b[0;34m(\u001b[0m\u001b[0;34m)\u001b[0m\u001b[0;34m\u001b[0m\u001b[0;34m\u001b[0m\u001b[0m\n\u001b[0m\u001b[1;32m    682\u001b[0m \u001b[0;34m\u001b[0m\u001b[0m\n\u001b[1;32m    683\u001b[0m         \u001b[0mcross_col\u001b[0m \u001b[0;34m=\u001b[0m \u001b[0;32mNone\u001b[0m\u001b[0;34m\u001b[0m\u001b[0;34m\u001b[0m\u001b[0m\n",
            "\u001b[0;32m/usr/local/lib/python3.7/dist-packages/pandas/core/reshape/merge.py\u001b[0m in \u001b[0;36m_validate_specification\u001b[0;34m(self)\u001b[0m\n\u001b[1;32m   1365\u001b[0m             \u001b[0;32mif\u001b[0m \u001b[0mself\u001b[0m\u001b[0;34m.\u001b[0m\u001b[0mleft_index\u001b[0m \u001b[0;32mor\u001b[0m \u001b[0mself\u001b[0m\u001b[0;34m.\u001b[0m\u001b[0mright_index\u001b[0m\u001b[0;34m:\u001b[0m\u001b[0;34m\u001b[0m\u001b[0;34m\u001b[0m\u001b[0m\n\u001b[1;32m   1366\u001b[0m                 raise MergeError(\n\u001b[0;32m-> 1367\u001b[0;31m                     \u001b[0;34m'Can only pass argument \"on\" OR \"left_index\" '\u001b[0m\u001b[0;34m\u001b[0m\u001b[0;34m\u001b[0m\u001b[0m\n\u001b[0m\u001b[1;32m   1368\u001b[0m                     \u001b[0;34m'and \"right_index\", not a combination of both.'\u001b[0m\u001b[0;34m\u001b[0m\u001b[0;34m\u001b[0m\u001b[0m\n\u001b[1;32m   1369\u001b[0m                 )\n",
            "\u001b[0;31mMergeError\u001b[0m: Can only pass argument \"on\" OR \"left_index\" and \"right_index\", not a combination of both."
          ]
        }
      ],
      "source": [
        "df = pd.merge(split1_preds, split1_attrdf, how='left', on=[entity_col,date_col], left_index=True, right_index=False, sort=True, copy=True)"
      ]
    },
    {
      "cell_type": "markdown",
      "metadata": {
        "id": "StztOk771I_q"
      },
      "source": [
        "### Sort by score, then split by protected attribute (poverty level)"
      ]
    },
    {
      "cell_type": "code",
      "execution_count": null,
      "metadata": {
        "id": "Ry5l-7o31I_r"
      },
      "outputs": [],
      "source": [
        "protected_attribute_groups = df[protected_attribute_col].unique()"
      ]
    },
    {
      "cell_type": "code",
      "execution_count": null,
      "metadata": {
        "id": "YDNkZ3Zz1I_r"
      },
      "outputs": [],
      "source": [
        "df = df.sort_values('predict_proba', ascending=False)\n",
        "subgroup_dfs = []\n",
        "for grp in protected_attribute_groups:\n",
        "    subgroup_dfs.append(df[df[protected_attribute_col]==grp].copy())"
      ]
    },
    {
      "cell_type": "markdown",
      "metadata": {
        "id": "kgGslLaU1I_r"
      },
      "source": [
        "### Calculate within-subgroup cumulative recall\n",
        "\n",
        "Here, we calculate the recall up to and including each row within the highest-poverty and lower-poverty subsets of the test set. Doing this allows us to recombine and sort the sets in a way that will let find recall-equalizing \"top k\" list sizes for each subgroup."
      ]
    },
    {
      "cell_type": "code",
      "execution_count": null,
      "metadata": {
        "id": "nVTsiWkf1I_r"
      },
      "outputs": [],
      "source": [
        "for subgrp_df in subgroup_dfs:\n",
        "    subgrp_df['cumsum_recall'] = subgrp_df[label_col].cumsum() / subgrp_df[label_col].sum()"
      ]
    },
    {
      "cell_type": "markdown",
      "metadata": {
        "id": "moDDrBpJ1I_r"
      },
      "source": [
        "### Recombine the subgroup sets and sort by this cumulative recall"
      ]
    },
    {
      "cell_type": "code",
      "execution_count": null,
      "metadata": {
        "id": "sbTJ-F-61I_s"
      },
      "outputs": [],
      "source": [
        "recall_df = pd.concat(subgroup_dfs, axis=0).sort_values('cumsum_recall', ascending=True)"
      ]
    },
    {
      "cell_type": "markdown",
      "metadata": {
        "id": "S2IxP1z_1I_s"
      },
      "source": [
        "### Find subgroup sizes, holding the overall list size (1000) constant\n",
        "\n",
        "Now we can simply threshold this re-sorted list by `top_k` (here, 1000) to identify how many individuals from each group we should apply in the future.\n",
        "\n",
        "Notice here that each subgroup will still be ordered by their predicted score, but the scores will no longer be perfectly ordered across subgroups."
      ]
    },
    {
      "cell_type": "code",
      "execution_count": null,
      "metadata": {
        "id": "1y3Hw4_81I_s"
      },
      "outputs": [],
      "source": [
        "new_pp = recall_df.head(top_k).copy()\n",
        "new_pp.tail()"
      ]
    },
    {
      "cell_type": "code",
      "execution_count": null,
      "metadata": {
        "id": "W1gLjoWi1I_s"
      },
      "outputs": [],
      "source": [
        "new_pp[protected_attribute_col].value_counts()"
      ]
    },
    {
      "cell_type": "markdown",
      "metadata": {
        "id": "lhUvATvw1I_s"
      },
      "source": [
        "Let's just store this to re-use below:"
      ]
    },
    {
      "cell_type": "code",
      "execution_count": null,
      "metadata": {
        "id": "2BVQgvgP1I_t"
      },
      "outputs": [],
      "source": [
        "subgroup_k = {} \n",
        "for grp in protected_attribute_groups:\n",
        "  subgroup_k[grp] = new_pp[protected_attribute_col].value_counts()[grp]"
      ]
    },
    {
      "cell_type": "markdown",
      "metadata": {
        "id": "NMvW6f621I_t"
      },
      "source": [
        "### Apply these subgroup-specific sizes to future test set data\n",
        "\n",
        "Now we have calculated the number of projects we need to select from each poverty level, we can apply these to the most recent split to assess how well this method reduces the recall disparities we saw initially and whether this has any impact on the overall precision of the model."
      ]
    },
    {
      "cell_type": "markdown",
      "metadata": {
        "id": "c-4CJxLC1I_t"
      },
      "source": [
        "### Load the predictions and protected attributes from the future test set\n",
        "\n",
        "Note that the predictions here correspond to the same model + hyperparameters we specified above"
      ]
    },
    {
      "cell_type": "code",
      "execution_count": null,
      "metadata": {
        "id": "utES9CLk1I_t"
      },
      "outputs": [],
      "source": [
        "split2_preds = pd.read_csv(DATAPATH + 'predictions_c598fbe93f4c218ac7d325fb478598f1.csv.gz', compression='gzip')\n",
        "split2_attrdf = pd.read_csv(DATAPATH + 'test_20121201_20130201_protected.csv.gz', compression='gzip')\n",
        "\n",
        "df2 = pd.merge(split2_preds, split2_attrdf, how='left', on=[entity_col, date_col], left_index=True, right_index=False, sort=True, copy=True)"
      ]
    },
    {
      "cell_type": "markdown",
      "metadata": {
        "id": "tNkrXEU01I_u"
      },
      "source": [
        "Take a quick look to make sure the data loaded without any issue:"
      ]
    },
    {
      "cell_type": "code",
      "execution_count": null,
      "metadata": {
        "id": "ZA0mns081I_u"
      },
      "outputs": [],
      "source": [
        "df2.head()"
      ]
    },
    {
      "cell_type": "markdown",
      "metadata": {
        "id": "pv2YihTl1I_u"
      },
      "source": [
        "### Split the test set by poverty level to apply the thresholds"
      ]
    },
    {
      "cell_type": "code",
      "execution_count": null,
      "metadata": {
        "id": "2U9ktDOY1I_u"
      },
      "outputs": [],
      "source": [
        "df2 = df2.sort_values('predict_proba', ascending=False)\n",
        "new_subgroup_dfs = {}\n",
        "for grp in protected_attribute_groups:\n",
        "    new_subgroup_dfs[grp] = df2[df2[protected_attribute_col]==grp].copy()"
      ]
    },
    {
      "cell_type": "markdown",
      "metadata": {
        "id": "8okVRs5q1I_v"
      },
      "source": [
        "### Choose the number of projects from each subgroup found above\n",
        "\n",
        "Notice here that we're choosing the \"top k\" individuals within each subgroup based on their predicted score -- in a deployment, we wouldn't know the true labels to calculate recall values, which is why we had to go one step back in time to find these group sizes."
      ]
    },
    {
      "cell_type": "code",
      "execution_count": null,
      "metadata": {
        "id": "zQb2jBLJ1I_v"
      },
      "outputs": [],
      "source": [
        "pp_dfs = []\n",
        "for grp in protected_attribute_groups:\n",
        "    pp_dfs.append(new_subgroup_dfs[grp].head(subgroup_k[grp]))"
      ]
    },
    {
      "cell_type": "markdown",
      "metadata": {
        "id": "cYmzHh7f1I_v"
      },
      "source": [
        "### Recombine and create a predicted class label for this resulting set\n",
        "That is, 1,000 projects with a label 1 chosen by this process and 0 otherwise"
      ]
    },
    {
      "cell_type": "code",
      "execution_count": null,
      "metadata": {
        "id": "XWmWzRWZ1I_v"
      },
      "outputs": [],
      "source": [
        "new_pp2 = pd.concat(pp_dfs, axis=0).sort_values('predict_proba', ascending=True)\n",
        "\n",
        "mitigated_df = df2.copy()\n",
        "mitigated_df = mitigated_df.rename(columns = {label_col:'label_value'}) # naming for Aequitas\n",
        "\n",
        "# create a \"score\" column with the predicted class (named \"score\" for use with Aequitas below)\n",
        "mitigated_df['score'] = mitigated_df.apply(lambda x: 1.0 if x.name in new_pp2.index.tolist() else 0, axis=1)"
      ]
    },
    {
      "cell_type": "markdown",
      "metadata": {
        "id": "mTD9b4VH1I_w"
      },
      "source": [
        "for comparison, let's also look at the unmitigated result again..."
      ]
    },
    {
      "cell_type": "code",
      "execution_count": null,
      "metadata": {
        "id": "Ec7_tlKa1I_w"
      },
      "outputs": [],
      "source": [
        "unadjusted_df = df2.sort_values('predict_proba', ascending=False).copy()\n",
        "unadjusted_df = unadjusted_df.rename(columns = {label_col:'label_value'}) # naming for Aequitas\n",
        "\n",
        "# create a \"score\" column with the predicted class (named \"score\" for use with Aequitas below)\n",
        "unadjusted_df['score'] = unadjusted_df.apply(lambda x: 1.0 if x.name in unadjusted_df.head(top_k).index.tolist() else 0, axis=1)"
      ]
    },
    {
      "cell_type": "markdown",
      "metadata": {
        "id": "HYorBDHj1I_w"
      },
      "source": [
        "### Running Aequitas - Before and After"
      ]
    },
    {
      "cell_type": "markdown",
      "metadata": {
        "id": "m7fN26Iy1I_w"
      },
      "source": [
        "#### For the original score, without post-hoc adjustment for equity"
      ]
    },
    {
      "cell_type": "code",
      "execution_count": null,
      "metadata": {
        "id": "y5lRcZJt1I_w"
      },
      "outputs": [],
      "source": [
        "bdf_unadjusted = aequitas_audit(unadjusted_df, protected_attribute_ref_group)\n",
        "ap.disparity(bdf_unadjusted, metrics, protected_attribute_col, fairness_threshold=disparity_threshold)"
      ]
    },
    {
      "cell_type": "markdown",
      "metadata": {
        "id": "6ojy9XQ31I_z"
      },
      "source": [
        "#### For the score, with post-hoc disparity mitigation"
      ]
    },
    {
      "cell_type": "code",
      "execution_count": null,
      "metadata": {
        "id": "RvcRKqkD1I_0"
      },
      "outputs": [],
      "source": [
        "bdf_mitigated = aequitas_audit(mitigated_df, protected_attribute_ref_group)\n",
        "\n",
        "ap.disparity(bdf_mitigated, metrics, protected_attribute_col, fairness_threshold=disparity_threshold)"
      ]
    },
    {
      "cell_type": "markdown",
      "metadata": {
        "id": "O4Cf8f8c1I_0"
      },
      "source": [
        "So, it looks the post-hoc adjustments have actually manage to mitigate the existing disparity pretty well (perhaps even over-shooting somewhat, though still within our fairness threshold of 1.3).\n",
        "\n",
        "However, the natural question here is where there is a fairness-accuracy trade-off here: What cost did we incur in terms of model performance, that is overall precision?"
      ]
    },
    {
      "cell_type": "markdown",
      "metadata": {
        "id": "o4WwK_lR1I_0"
      },
      "source": [
        "#### Before: Precision of the original, unadjusted score"
      ]
    },
    {
      "cell_type": "code",
      "execution_count": null,
      "metadata": {
        "id": "rEXpXOKE1I_0"
      },
      "outputs": [],
      "source": [
        "unadjusted_df.loc[unadjusted_df['score']==1]['label_value'].mean()"
      ]
    },
    {
      "cell_type": "markdown",
      "metadata": {
        "id": "jfLIwN5L1I_1"
      },
      "source": [
        "#### After: Precision of the new, disparity-mitigated score"
      ]
    },
    {
      "cell_type": "code",
      "execution_count": null,
      "metadata": {
        "id": "5m2HGW_l1I_4"
      },
      "outputs": [],
      "source": [
        "mitigated_df.loc[mitigated_df['score']==1]['label_value'].mean()"
      ]
    },
    {
      "cell_type": "markdown",
      "metadata": {
        "id": "Rf22Mqa01I_5"
      },
      "source": [
        "Somewhat surprisingly, we actually don't seem to see any trade-off with the disparity mitigation here!"
      ]
    },
    {
      "cell_type": "markdown",
      "metadata": {
        "id": "tOXhcxQh1I_5"
      },
      "source": [
        "### Adding to the model selection (tradeoff) graph\n",
        "\n",
        "Finally, let's look at how this new option stacks up against what we plotted in our model selection process:"
      ]
    },
    {
      "cell_type": "code",
      "execution_count": null,
      "metadata": {
        "id": "GXeipQqc1I_6"
      },
      "outputs": [],
      "source": [
        "mitigated_precision_5 = mitigated_df.loc[mitigated_df['score']==1]['label_value'].mean()\n",
        "plot_configs = {\n",
        "    'evals_df':evals_df, \n",
        "    'aequitas_df':aequitas_df,\n",
        "    'attr_col':'poverty_level', \n",
        "    'group_name':'highest',\n",
        "    'performance_col':'model_precision',\n",
        "    'bias_metric':'tpr', \n",
        "    'flip_disparity':True, \n",
        "    'mitigated_tags':['Equalizing Recall'],\n",
        "    'mitigated_bdfs':[bdf_mitigated], \n",
        "    'mitigated_performances':[mitigated_precision_5], \n",
        "    'ylim':None\n",
        "}\n",
        "create_scatter_disparity_performance(**plot_configs)"
      ]
    },
    {
      "cell_type": "markdown",
      "metadata": {
        "id": "GXOpv5oP1I_6"
      },
      "source": [
        "# Wrapping-up\n",
        "\n",
        "## Overview of all mitigation strategies on the model selection (tradeoff) graph\n"
      ]
    },
    {
      "cell_type": "code",
      "execution_count": null,
      "metadata": {
        "id": "2uGbnOhC1I_6"
      },
      "outputs": [],
      "source": [
        "plot_configs = {\n",
        "    'evals_df':evals_df, \n",
        "    'aequitas_df':aequitas_df,\n",
        "    'attr_col':'poverty_level', \n",
        "    'group_name':'highest',\n",
        "    'performance_col':'model_precision',\n",
        "    'bias_metric':'tpr', \n",
        "    'flip_disparity':True, \n",
        "    'mitigated_tags':['Resampling 1: eq group size','Resampling 3: eq group prev', 'Resampling 3: eq group prev + size','Fairlearn Reductions','Equalizing Recall'],\n",
        "    'mitigated_bdfs':[bdf_1, bdf_2, bdf_3, bdf_4, bdf_mitigated], \n",
        "    'mitigated_performances':[mitigated_precision_1, mitigated_precision_2, mitigated_precision_3,mitigated_precision_4, mitigated_precision_5], \n",
        "    'ylim':None\n",
        "}\n",
        "create_scatter_disparity_performance(**plot_configs)"
      ]
    }
  ],
  "metadata": {
    "kernelspec": {
      "display_name": "Python 3",
      "language": "python",
      "name": "python3"
    },
    "language_info": {
      "codemirror_mode": {
        "name": "ipython",
        "version": 3
      },
      "file_extension": ".py",
      "mimetype": "text/x-python",
      "name": "python",
      "nbconvert_exporter": "python",
      "pygments_lexer": "ipython3",
      "version": "3.8.5"
    },
    "colab": {
      "name": "bias_reduction.ipynb",
      "provenance": [],
      "include_colab_link": true
    }
  },
  "nbformat": 4,
  "nbformat_minor": 0
}